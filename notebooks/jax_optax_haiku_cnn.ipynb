{
  "cells": [
    {
      "cell_type": "markdown",
      "metadata": {
        "id": "m2s4kN_QPQVe"
      },
      "source": [
        "# Jax, Optax, Haiku and Convolutional Neural Networks\n",
        "\n",
        "\n",
        "\n",
        "<a href=\"https://colab.research.google.com/github/khipu-ai/practicals-2023/blob/main/notebooks/jax_optax_haiku_cnn.ipynb\" target=\"_parent\"><img src=\"https://colab.research.google.com/assets/colab-badge.svg\" alt=\"Open In Colab\"/></a>\n",
        "\n",
        "## Copyright\n",
        "\n",
        "* Deep Learning Indaba 2022. Apache License 2.0.\n",
        "* Khipu 2023. Apache License 2.0.\n",
        "\n",
        "## Authors\n",
        "\n",
        "* Kale-ab Tessera (Indaba 2022)\n",
        "* Ignacio Ramírez (Khipu 2023)\n",
        "\n",
        "## Reviewers\n",
        "* Javier Antoran\n",
        "* James Allingham\n",
        "* Ruan van der Merwe\n",
        "* Sebastian Bodenstein\n",
        "* Laurence Midgley\n",
        "* Joao Guilherme\n",
        "* Elan van Biljon\n",
        "\n",
        "\n",
        "# Introduction\n",
        "\n",
        "We begin by introducing JAX. JAX is a library that allows for very efficient speedups in the aforementioned operations by transparently choosing the best available hardware (CPU, GPU, TPU, etc.) and provinding with a number of acceleration and automation mechanisms such as automatic differentiation (`grad`), parallelization (`pmap`), vectorization (`vmap`) and just-in-time compilation (`jit`).\n",
        "\n",
        "We will then show you how to use the [Optax](https://github.com/deepmind/optax) library, an efficient optimization library based on JAX.\n",
        "\n",
        "We'll then show you how to use  [Haiku](https://github.com/deepmind/dm-haiku),  for building and training neural networks.\n",
        "\n",
        "\n",
        "## Topics\n",
        "\n",
        "* Accelerated computation with JAX\n",
        "* Optimization with Optax\n",
        "* Model training with Haiku\n",
        "* Training a Convolutional Neural Network with Haiku\n",
        "\n",
        "## Prerequisites\n",
        "\n",
        "This practical assumes that you are familiar with:\n",
        "* Python and NumPy\n",
        "* Basic object oriented programming\n",
        "* Basic optimization (gradient descent, etc.)\n",
        "* Basic model learning (linear models)\n",
        "\n",
        "## Hardware requirements (**important**)\n",
        "\n",
        "For this practical, you will need to use a GPU to speed up training. To do this, go to the \"Runtime\" menu in Colab, select \"Change runtime type\" and then in the popup menu, choose \"GPU\" in the \"Hardware accelerator\" box.\n",
        "\n"
      ]
    },
    {
      "cell_type": "markdown",
      "metadata": {
        "id": "6EqhIg1odqg0"
      },
      "source": [
        "## Installation and Imports"
      ]
    },
    {
      "cell_type": "code",
      "execution_count": 1,
      "metadata": {
        "id": "4boGA9rYdt9l",
        "outputId": "3263b542-47b2-414f-98de-5e6d0d4a0e1c",
        "colab": {
          "base_uri": "https://localhost:8080/"
        }
      },
      "outputs": [
        {
          "output_type": "stream",
          "name": "stdout",
          "text": [
            "a GPU is connected.\n"
          ]
        }
      ],
      "source": [
        "## Install and import anything required. Capture hides the output from the cell.\n",
        "# @title Install and import required packages. (Run Cell)\n",
        "\n",
        "import os\n",
        "\n",
        "# https://stackoverflow.com/questions/68340858/in-google-colab-is-there-a-programing-way-to-check-which-runtime-like-gpu-or-tpu\n",
        "if int(os.environ[\"COLAB_GPU\"]) > 0:\n",
        "    print(\"a GPU is connected.\")\n",
        "elif \"COLAB_TPU_ADDR\" in os.environ and os.environ[\"COLAB_TPU_ADDR\"]:\n",
        "    print(\"A TPU is connected.\")\n",
        "    import jax.tools.colab_tpu\n",
        "\n",
        "    jax.tools.colab_tpu.setup_tpu()\n",
        "else:\n",
        "    print(\"Only CPU accelerator is connected.\")\n",
        "    # x8 cpu devices - number of (emulated) host devices\n",
        "    os.environ[\"XLA_FLAGS\"] = \"--xla_force_host_platform_device_count=8\"\n",
        "\n",
        "import jax\n",
        "import jax.numpy as jnp\n",
        "from jax import grad, jit, vmap, pmap\n",
        "\n",
        "import matplotlib.pyplot as plt\n",
        "import numpy as np"
      ]
    },
    {
      "cell_type": "code",
      "execution_count": 2,
      "metadata": {
        "id": "YQe1CfDyrkdL"
      },
      "outputs": [],
      "source": [
        "# @title Helper Functions. (Run Cell)\n",
        "import copy\n",
        "from typing import Dict\n",
        "\n",
        "\n",
        "def plot_performance(data: Dict, title: str):\n",
        "    runs = list(data.keys())\n",
        "    time = list(data.values())\n",
        "\n",
        "    # creating the bar plot\n",
        "    plt.bar(runs, time, width=0.35)\n",
        "\n",
        "    plt.xlabel(\"Implementation\")\n",
        "    plt.ylabel(\"Average time taken (in s)\")\n",
        "    plt.title(title)\n",
        "    plt.show()\n",
        "\n",
        "    best_perf_key = min(data, key=data.get)\n",
        "    all_runs_key = copy.copy(runs)\n",
        "\n",
        "    # all_runs_key_except_best\n",
        "    all_runs_key.remove(best_perf_key)\n",
        "\n",
        "    for k in all_runs_key:\n",
        "        print(\n",
        "            f\"{best_perf_key} was {round((data[k]/data[best_perf_key]),2)} times faster than {k} !!!\"\n",
        "        )"
      ]
    },
    {
      "cell_type": "code",
      "execution_count": 3,
      "metadata": {
        "id": "yFzjRHUsUQqq",
        "outputId": "7a727ed5-f088-44d7-a972-a8a7f2f5246a",
        "colab": {
          "base_uri": "https://localhost:8080/"
        }
      },
      "outputs": [
        {
          "output_type": "stream",
          "name": "stdout",
          "text": [
            "Num devices: 1\n",
            " Devices: [GpuDevice(id=0, process_index=0)]\n"
          ]
        }
      ],
      "source": [
        "# @title Check the device you are using (Run Cell)\n",
        "print(f\"Num devices: {jax.device_count()}\")\n",
        "print(f\" Devices: {jax.devices()}\")"
      ]
    },
    {
      "cell_type": "markdown",
      "source": [
        "$$\n",
        "\\newcommand{\\because}[1]{&& \\triangleright \\textrm{#1}}\n",
        "$$"
      ],
      "metadata": {
        "id": "blMNBku0dB8h"
      }
    },
    {
      "cell_type": "markdown",
      "metadata": {
        "id": "CbOEYsWQ6tHv"
      },
      "source": [
        "<hr>\n",
        "\n",
        "# PART 1 - JAX\n",
        "\n",
        "<hr>\n",
        "\n",
        "## Similarities between JAX and NumPy \n",
        "\n",
        "The main similarity between JAX and NumPy is that they share a similar interface and often, JAX and NumPy arrays can be used interchangeably.The code below shows this. "
      ]
    },
    {
      "cell_type": "code",
      "execution_count": 4,
      "metadata": {
        "id": "sgRLq58OTz1t",
        "colab": {
          "base_uri": "https://localhost:8080/",
          "height": 265
        },
        "outputId": "8d45fc35-8507-4e14-911a-6e70ef8e5005"
      },
      "outputs": [
        {
          "output_type": "display_data",
          "data": {
            "text/plain": [
              "<Figure size 432x288 with 1 Axes>"
            ],
            "image/png": "[encoded data removed]"
          },
          "metadata": {
            "needs_background": "light"
          }
        }
      ],
      "source": [
        "#@title Using NumPy\n",
        "\n",
        "# 100 linearly spaced numbers from -np.pi to np.pi\n",
        "x = np.linspace(-np.pi, np.pi, 100)\n",
        "\n",
        "# the function, which is y = sin(x) here\n",
        "y = np.sin(x)\n",
        "\n",
        "# plot the functions\n",
        "plt.plot(x, y, \"b\", label=\"y=sin(x)\")\n",
        "\n",
        "plt.legend(loc=\"upper left\")\n",
        "\n",
        "# show the plot\n",
        "plt.show()"
      ]
    },
    {
      "cell_type": "code",
      "execution_count": 5,
      "metadata": {
        "id": "kRQf2mNRTlt3",
        "colab": {
          "base_uri": "https://localhost:8080/",
          "height": 265
        },
        "outputId": "42f2a9e0-3ab3-4eb0-c552-4d5132287761"
      },
      "outputs": [
        {
          "output_type": "display_data",
          "data": {
            "text/plain": [
              "<Figure size 432x288 with 1 Axes>"
            ],
            "image/png": "[encoded data removed]"
          },
          "metadata": {
            "needs_background": "light"
          }
        }
      ],
      "source": [
        "#@title using JAX\n",
        "# 100 linearly spaced numbers from -jnp.pi to jnp.pi\n",
        "x = jnp.linspace(-jnp.pi, jnp.pi, 100)\n",
        "\n",
        "# the function, which is y = sin(x) here\n",
        "y = jnp.sin(x)\n",
        "\n",
        "# plot the functions\n",
        "plt.plot(x, y, \"b\", label=\"y=sin(x)\")\n",
        "\n",
        "plt.legend(loc=\"upper left\")\n",
        "\n",
        "# show the plot\n",
        "plt.show()"
      ]
    },
    {
      "cell_type": "markdown",
      "metadata": {
        "id": "wuNscwHeV_dn"
      },
      "source": [
        "**Exercise 1.1 - Code Task:** Can you plot the cosine function using `jnp`?"
      ]
    },
    {
      "cell_type": "code",
      "execution_count": 6,
      "metadata": {
        "id": "5svZFPUCQNsG",
        "colab": {
          "base_uri": "https://localhost:8080/",
          "height": 265
        },
        "outputId": "69b3052e-6d81-40ad-e8ae-08349359ce49"
      },
      "outputs": [
        {
          "output_type": "display_data",
          "data": {
            "text/plain": [
              "<Figure size 432x288 with 1 Axes>"
            ],
            "image/png": "[encoded data removed]"
          },
          "metadata": {
            "needs_background": "light"
          }
        }
      ],
      "source": [
        "#@title Excercise 1.1\n",
        "#\n",
        "# Plot Cosine using jnp\n",
        "\n",
        "# 100 linearly spaced numbers\n",
        "\n",
        "x = jnp.linspace(-jnp.pi, jnp.pi, 100)\n",
        "\n",
        "# the function, which is y = sin(x) here\n",
        "y = jnp.cos(x)\n",
        "\n",
        "#\n",
        "# plot the functions\n",
        "#\n",
        "plt.plot(x, y, \"b\", label=\"y=cos(x)\")\n",
        "plt.legend(loc=\"upper left\")\n",
        "plt.show()"
      ]
    },
    {
      "cell_type": "code",
      "execution_count": 7,
      "metadata": {
        "id": "m4AVrGzy6JWR",
        "outputId": "192857c7-45ea-4f6e-b79b-5e524300b94c",
        "colab": {
          "base_uri": "https://localhost:8080/",
          "height": 265
        }
      },
      "outputs": [
        {
          "output_type": "display_data",
          "data": {
            "text/plain": [
              "<Figure size 432x288 with 1 Axes>"
            ],
            "image/png": "[encoded data removed]"
          },
          "metadata": {
            "needs_background": "light"
          }
        }
      ],
      "source": [
        "# @title Answer to code task (Try not to peek until you've given it a good try!')\n",
        "# 100 linearly spaced numbers\n",
        "x = jnp.linspace(-jnp.pi, jnp.pi, 100)\n",
        "\n",
        "y = jnp.cos(x)\n",
        "\n",
        "# plot the functions\n",
        "plt.plot(x, y, \"b\", label=\"y=cos(x)\")\n",
        "\n",
        "plt.legend(loc=\"upper left\")\n",
        "\n",
        "# show the plot\n",
        "plt.show()"
      ]
    },
    {
      "cell_type": "markdown",
      "metadata": {
        "id": "lg4__l4A7yqc"
      },
      "source": [
        "## Differences between JAX and NumPy\n"
      ]
    },
    {
      "cell_type": "markdown",
      "metadata": {
        "id": "dPbOnhE4ZSTi"
      },
      "source": [
        "### JAX arrays are immutable, NumPy arrays are not\n",
        "\n",
        "JAX and NumPy arrays are often interchangeable, **but** Jax arrays are **immutable** (they can't be modified after they are created). Allowing mutations makes transforms difficult and violates conditions for [pure functions](https://en.wikipedia.org/wiki/Pure_function).\n",
        "\n"
      ]
    },
    {
      "cell_type": "markdown",
      "source": [
        "### NumPy\n",
        "\n",
        "Let's see this in practice by changing the number at the beginning of an array. "
      ],
      "metadata": {
        "id": "Vdfb1wtd-GkF"
      }
    },
    {
      "cell_type": "code",
      "execution_count": 8,
      "metadata": {
        "id": "7r-Los6YZR-f",
        "outputId": "e9344c08-930b-48dd-8665-2328ba74fa18",
        "colab": {
          "base_uri": "https://localhost:8080/"
        }
      },
      "outputs": [
        {
          "output_type": "stream",
          "name": "stdout",
          "text": [
            "[10  1  2  3  4  5  6  7  8  9]\n"
          ]
        }
      ],
      "source": [
        "# NumPy: mutable arrays\n",
        "x = np.arange(10)\n",
        "x[0] = 10\n",
        "print(x)"
      ]
    },
    {
      "cell_type": "markdown",
      "source": [
        "### JAX"
      ],
      "metadata": {
        "id": "8Y23OWjE_BDA"
      }
    },
    {
      "cell_type": "code",
      "execution_count": 9,
      "metadata": {
        "id": "OxjkKpqAZxWo",
        "outputId": "823840fc-e815-4c26-80f6-460636fd09d9",
        "colab": {
          "base_uri": "https://localhost:8080/"
        }
      },
      "outputs": [
        {
          "output_type": "stream",
          "name": "stdout",
          "text": [
            "Exception '<class 'jaxlib.xla_extension.DeviceArray'>' object does not support item assignment. JAX arrays are immutable. Instead of ``x[idx] = y``, use ``x = x.at[idx].set(y)`` or another .at[] method: https://jax.readthedocs.io/en/latest/_autosummary/jax.numpy.ndarray.at.html\n"
          ]
        }
      ],
      "source": [
        "# JAX: immutable arrays\n",
        "# Should raise an error.\n",
        "try:\n",
        "    x = jnp.arange(10)\n",
        "    x[0] = 10\n",
        "except Exception as e:\n",
        "    print(\"Exception {}\".format(e))"
      ]
    },
    {
      "cell_type": "markdown",
      "metadata": {
        "id": "VoWT5RBUagW8"
      },
      "source": [
        "So it fails! We can't mutate a JAX array once it has been created. To update JAX arrays, we need to use [helper functions](https://jax.readthedocs.io/en/latest/_autosummary/jax.numpy.ndarray.at.html) that return an updated copy of the JAX array. \n",
        "\n",
        "Instead of doing this `x[idx] = y`, we need to do this `x = x.at[idx].set(y)`. "
      ]
    },
    {
      "cell_type": "code",
      "execution_count": 10,
      "metadata": {
        "id": "qJYxkh4qagwO",
        "outputId": "b50c42cb-c6fc-40fb-a311-23e4fdbd87a4",
        "colab": {
          "base_uri": "https://localhost:8080/"
        }
      },
      "outputs": [
        {
          "output_type": "stream",
          "name": "stdout",
          "text": [
            " new_x: [10  1  2  3  4  5  6  7  8  9] original x: [0 1 2 3 4 5 6 7 8 9]\n"
          ]
        }
      ],
      "source": [
        "x = jnp.arange(10)\n",
        "new_x = x.at[0].set(10)\n",
        "print(f\" new_x: {new_x} original x: {x}\")"
      ]
    },
    {
      "cell_type": "markdown",
      "metadata": {
        "id": "Ut0meCGB5qD0"
      },
      "source": [
        "Note here that `new_x` is a copy and that the original `x` is unchanged. "
      ]
    },
    {
      "cell_type": "markdown",
      "metadata": {
        "id": "oAH4c_smdGQU"
      },
      "source": [
        "## Random number generation in NumPy and JAX \n",
        "\n",
        "JAX is more explicit in Pseudo Random Number Generation (PRNG) than `NumPy` and other libraries (such as `TensorFlow` or `PyTorch`). [PRNG](https://en.wikipedia.org/wiki/Pseudorandom_number_generator) is the process of algorithmically generating a sequence of numbers, which *approximate* the properties of a sequence of random numbers.  \n",
        "\n",
        "Let's see the differences in how JAX and NumPy generate random numbers."
      ]
    },
    {
      "cell_type": "markdown",
      "metadata": {
        "id": "Q2m376Ethf8m"
      },
      "source": [
        "##### In Numpy, PRNG is based on a global `state`.\n",
        "\n",
        "Let's set the initial seed."
      ]
    },
    {
      "cell_type": "code",
      "execution_count": 11,
      "metadata": {
        "id": "-0t3sjxzdgmP"
      },
      "outputs": [],
      "source": [
        "# Set random seed\n",
        "np.random.seed(42)\n",
        "prng_state = np.random.get_state()"
      ]
    },
    {
      "cell_type": "code",
      "execution_count": 12,
      "metadata": {
        "cellView": "form",
        "id": "QKVz5atZMMOV"
      },
      "outputs": [],
      "source": [
        "# @title Helper function to compare prng keys (Run Cell)\n",
        "def is_prng_state_the_same(prng_1, prng_2):\n",
        "    \"\"\"Helper function to compare two prng keys.\"\"\"\n",
        "    # concat all elements in prng tuple\n",
        "    list_prng_data_equal = [(a == b) for a, b in zip(prng_1, prng_2)]\n",
        "    # stack all elements together\n",
        "    list_prng_data_equal = np.hstack(list_prng_data_equal)\n",
        "    # check if all elements are the same\n",
        "    is_prng_equal = all(list_prng_data_equal)\n",
        "    return is_prng_equal"
      ]
    },
    {
      "cell_type": "markdown",
      "metadata": {
        "id": "nloZ9abah3J3"
      },
      "source": [
        "Let's take a few samples from a Gaussian (normal) Distribution and check if PRNG keys/global state change."
      ]
    },
    {
      "cell_type": "code",
      "execution_count": 13,
      "metadata": {
        "id": "aiUcfX7iSenY",
        "outputId": "a2012f12-53fe-4eb4-f130-df9d49192fda",
        "colab": {
          "base_uri": "https://localhost:8080/"
        }
      },
      "outputs": [
        {
          "output_type": "stream",
          "name": "stdout",
          "text": [
            "sample 1 = 0.4967141530112327 Did prng state change: True\n",
            "sample 2 = -0.13826430117118466 Did prng state change: True\n",
            "sample 3 = 0.6476885381006925 Did prng state change: True\n"
          ]
        }
      ],
      "source": [
        "print(\n",
        "    f\"sample 1 = {np.random.normal()} Did prng state change: {not is_prng_state_the_same(prng_state,np.random.get_state())}\"\n",
        ")\n",
        "prng_state = np.random.get_state()\n",
        "print(\n",
        "    f\"sample 2 = {np.random.normal()} Did prng state change: {not is_prng_state_the_same(prng_state,np.random.get_state())}\"\n",
        ")\n",
        "prng_state = np.random.get_state()\n",
        "print(\n",
        "    f\"sample 3 = {np.random.normal()} Did prng state change: {not is_prng_state_the_same(prng_state,np.random.get_state())}\"\n",
        ")"
      ]
    },
    {
      "cell_type": "markdown",
      "metadata": {
        "id": "nuHkW6V4iLa9"
      },
      "source": [
        "Numpy's global random state is updated every time a random number is generated, so *sample 1 != sample 2 != sample 3*. \n",
        "\n",
        "Having the state automatically updated, makes it difficult to handle randomness in a **reproducible** way across different threads, processes and devices. "
      ]
    },
    {
      "cell_type": "markdown",
      "metadata": {
        "id": "lGDU6ckKkzqL"
      },
      "source": [
        "##### In JAX, PRNG is explicit.\n",
        "\n",
        "In JAX, for each random number generation, you need to explicitly pass in a random key/state."
      ]
    },
    {
      "cell_type": "markdown",
      "metadata": {
        "id": "6oKdk5CSmD-f"
      },
      "source": [
        "Passing the same state/key results in the same number being generated. This is generally undesirable."
      ]
    },
    {
      "cell_type": "code",
      "execution_count": 14,
      "metadata": {
        "id": "Y-6B0hjtlTmd",
        "outputId": "3d36c3c8-f91b-4e83-de05-85f6487b6bf4",
        "colab": {
          "base_uri": "https://localhost:8080/"
        }
      },
      "outputs": [
        {
          "output_type": "stream",
          "name": "stdout",
          "text": [
            "sample 1 = -0.1847117692232132\n",
            "sample 2 = -0.1847117692232132\n",
            "sample 3 = -0.1847117692232132\n"
          ]
        }
      ],
      "source": [
        "from jax import random\n",
        "\n",
        "key = random.PRNGKey(42)\n",
        "print(f\"sample 1 = {random.normal(key)}\")\n",
        "print(f\"sample 2 = {random.normal(key)}\")\n",
        "print(f\"sample 3 = {random.normal(key)}\")"
      ]
    },
    {
      "cell_type": "markdown",
      "metadata": {
        "id": "l0KcwEbZqIaQ"
      },
      "source": [
        "To generate different and independent samples, you need to manually **split** the keys. "
      ]
    },
    {
      "cell_type": "code",
      "execution_count": 15,
      "metadata": {
        "id": "v-7BhY0MmEhI",
        "outputId": "fe0d7119-5eb4-4411-a0ad-0568e3b484d0",
        "colab": {
          "base_uri": "https://localhost:8080/"
        }
      },
      "outputs": [
        {
          "output_type": "stream",
          "name": "stdout",
          "text": [
            "sample 1 = -0.1847117692232132\n",
            "sample 2 = 1.369469404220581\n",
            "sample 3 = -0.19947023689746857\n"
          ]
        }
      ],
      "source": [
        "from jax import random\n",
        "\n",
        "key = random.PRNGKey(42)\n",
        "print(f\"sample 1 = {random.normal(key)}\")\n",
        "\n",
        "# We split the key -> new key and subkey\n",
        "new_key, subkey = random.split(key)\n",
        "\n",
        "# We use the subkey immediately and keep the new key for future splits.\n",
        "# It doesn't really matter which key we keep and which one we use immediately.\n",
        "print(f\"sample 2 = {random.normal(subkey)}\")\n",
        "\n",
        "# We split the new key -> new key2 and subkey\n",
        "new_key2, subkey = random.split(new_key)\n",
        "print(f\"sample 3 = {random.normal(subkey)}\")"
      ]
    },
    {
      "cell_type": "markdown",
      "metadata": {
        "id": "2VnTDptmuk-i"
      },
      "source": [
        "By using JAX, we can more easily reproduce random number generation in parallel across threads, processes, or even devices by explicitly passing and keeping track of the prng key (without relying on a global state that automatically gets updated). For more details on PRNG in JAX, you can read more [here](https://jax.readthedocs.io/en/latest/jep/263-prng.html). "
      ]
    },
    {
      "cell_type": "markdown",
      "metadata": {
        "id": "TSj972IWxTo2"
      },
      "source": [
        "### Acceleration in JAX 🚀\n",
        "\n",
        "JAX leverages Autograd and XLA for accelerating numerical computation. The use of Autograd allows for automatic differentiation (`grad`), while XLA allows JAX to run on multiple accelerators/backends and run transforms like `jit` and `pmap`. JAX also allows you to use `vmap` for automatic vectorization.  "
      ]
    },
    {
      "cell_type": "markdown",
      "metadata": {
        "id": "_bQ9QqT-yKbs"
      },
      "source": [
        "### JAX is backend Agnostic\n",
        "\n",
        "Using JAX, you can run the same code on different backends/AI accelerators (e.g. CPU/GPU/TPU), **with no changes in code** (no more `.to(device)` - from frameworks like PyTorch). This means we can easily run linear algebra operations directly on GPU/TPU."
      ]
    },
    {
      "cell_type": "markdown",
      "metadata": {
        "id": "4PbcFsfAibBu"
      },
      "source": [
        "**Multiplying Matrices**\n",
        "\n",
        "Dot products are a common operation in numerical computing and a central part of modern deep learning. They are defined over [vectors](https://en.wikipedia.org/wiki/Coordinate_vector), which can loosely be thought of as a list of multiple scalers (single values). \n",
        "\n",
        "Formally, given two vectors $\\boldsymbol{x}$,$\\boldsymbol{y}$ $\\in R^n$, their dot product is defined as:\n",
        "\n",
        "<center>$\\boldsymbol{x}^{\\top} \\boldsymbol{y}=\\sum_{i=1}^{n} x_{i} y_{i}$</center>"
      ]
    },
    {
      "cell_type": "markdown",
      "metadata": {
        "id": "AY1RsVkXaokP"
      },
      "source": [
        "Dot Product in NumPy (will run on cpu)"
      ]
    },
    {
      "cell_type": "code",
      "execution_count": 16,
      "metadata": {
        "id": "yj59KkD_HDOs",
        "outputId": "6b32a579-afb2-4d57-ba72-7da097890d7c",
        "colab": {
          "base_uri": "https://localhost:8080/"
        }
      },
      "outputs": [
        {
          "output_type": "stream",
          "name": "stdout",
          "text": [
            "38.9 ms ± 2.09 ms per loop (mean ± std. dev. of 7 runs, 10 loops each)\n"
          ]
        }
      ],
      "source": [
        "size = 1000\n",
        "x = np.random.normal(size=(size, size))\n",
        "y = np.random.normal(size=(size, size))\n",
        "numpy_time = %timeit -o -n 10 a_np = np.dot(y,x.T)"
      ]
    },
    {
      "cell_type": "markdown",
      "metadata": {
        "id": "6c_kl-u0KPVY"
      },
      "source": [
        "Dot Product using JAX (will run on current runtime - e.g. GPU)."
      ]
    },
    {
      "cell_type": "code",
      "execution_count": 17,
      "metadata": {
        "id": "PHRcHK86KO3w",
        "outputId": "3f899169-8975-44dd-ceaa-d019d6ff79ab",
        "colab": {
          "base_uri": "https://localhost:8080/"
        }
      },
      "outputs": [
        {
          "output_type": "stream",
          "name": "stdout",
          "text": [
            "The slowest run took 100.17 times longer than the fastest. This could mean that an intermediate result is being cached.\n",
            "20.5 ms ± 46.3 ms per loop (mean ± std. dev. of 7 runs, 10 loops each)\n"
          ]
        }
      ],
      "source": [
        "size = 1000\n",
        "key1, key2 = jax.random.split(jax.random.PRNGKey(42), num=2)\n",
        "x = jax.random.normal(key1, shape=(size, size))\n",
        "y = jax.random.normal(key2, shape=(size, size))\n",
        "jax_time = %timeit -o -n 10 jnp.dot(y, x.T).block_until_ready()"
      ]
    },
    {
      "cell_type": "markdown",
      "metadata": {
        "id": "LMTSpEG3TNah"
      },
      "source": [
        "\n",
        "> When timing JAX functions, we use `.block_until_ready()` because JAX uses [asynchronous dispatch](https://jax.readthedocs.io/en/latest/async_dispatch.html#async-dispatch). This means JAX doesn't wait for the operation to complete before returning control to your code. To fairly compute the time taken for JAX operations, we therefore block until the operation is done.\n",
        "\n"
      ]
    },
    {
      "cell_type": "markdown",
      "metadata": {
        "id": "S3vwh6Q724gn"
      },
      "source": [
        "How much faster was the dot product in JAX (Using GPU)?"
      ]
    },
    {
      "cell_type": "code",
      "execution_count": 18,
      "metadata": {
        "id": "UkASX9p34A1D",
        "outputId": "507ba690-00e9-4e91-dc42-3935ca01265e",
        "colab": {
          "base_uri": "https://localhost:8080/",
          "height": 312
        }
      },
      "outputs": [
        {
          "output_type": "display_data",
          "data": {
            "text/plain": [
              "<Figure size 432x288 with 1 Axes>"
            ],
            "image/png": "[encoded data removed]"
          },
          "metadata": {
            "needs_background": "light"
          }
        },
        {
          "output_type": "stream",
          "name": "stdout",
          "text": [
            "jax was 1.9 times faster than numpy !!!\n"
          ]
        }
      ],
      "source": [
        "np_average_time = np.mean(numpy_time.all_runs)\n",
        "jax_average_time = np.mean(jax_time.all_runs)\n",
        "data = {\"numpy\": np_average_time, \"jax\": jax_average_time}\n",
        "\n",
        "plot_performance(data, title=\"Average time taken per framework to run dot product\")"
      ]
    },
    {
      "cell_type": "markdown",
      "source": [
        "JAX not running much faster? -> Re-run the JAX cell.                       \n",
        "> \"Keep in mind that the first time you run JAX code, it will be slower because it is being compiled. T*his is true even if you don’t use jit in your own code, because JAX’s builtin functions are also jit compiled*.\" - [JAX Docs](https://jax.readthedocs.io/en/latest/faq.html#benchmarking-jax-code).\n",
        "\n",
        "If you are running on an accelerator, you should see a considerable performance benefit of using JAX, without making any changes to your code! \n",
        "\n",
        "\n",
        "\n",
        "\n",
        "\n"
      ],
      "metadata": {
        "id": "X6Rv_OQgBOqr"
      }
    },
    {
      "cell_type": "markdown",
      "metadata": {
        "id": "JM_08mXEBRIK"
      },
      "source": [
        "# JAX Transformations\n",
        "\n",
        "JAX transforms (`jit`, `grad`, `vmap`, `pmap`) first convert python functions into an intermediate language called *jaxpr*. Transforms are then applied to this jaxpr representation.\n",
        "\n",
        "JAX generates jaxpr, in a process known as **tracing**. During tracing, function inputs are wrapped by a tracer object and then JAX records all operations (including regular python code) that occur during the function call. These recorded operations are used to reconstruct the function. \n",
        "\n",
        "Any python side-effects are not recorded during tracing. JAX transforms and compilations are designed to work only with **pure functions**. For more on tracing and jaxpr, you can read [here](https://jax.readthedocs.io/en/latest/jaxpr.html).\n",
        "\n"
      ]
    },
    {
      "cell_type": "markdown",
      "metadata": {
        "id": "QsJE_U-ZzVol"
      },
      "source": [
        "## JIT (Just in Time) compilation\n",
        "\n",
        "Jax dispatches operations to accelerators one at a time. If we have repeated operations, we can use `jit` to compile the function the first time it is called, then subsequent calls will be [cached](https://en.wikipedia.org/wiki/Cache_(computing) (save the compiled version so that it doesn't need to be recompiled everytime we call it). "
      ]
    },
    {
      "cell_type": "markdown",
      "metadata": {
        "id": "uIYsqIp_-Dly"
      },
      "source": [
        "Let's compile [ReLU (Rectified Linear Unit)](https://arxiv.org/abs/1803.08375), a popular activation function in deep learning. \n",
        "\n",
        "ReLU is defined as follows:\n",
        "<center>$f(x)=max(0,x)$</center>\n",
        "\n",
        "It can be visualized as follows:\n",
        "\n",
        "<center>\n",
        "<img src=\"https://machinelearningmastery.com/wp-content/uploads/2018/10/Line-Plot-of-Rectified-Linear-Activation-for-Negative-and-Positive-Inputs.png\" width=\"35%\" />\n",
        "</center>,\n",
        "\n",
        "where $x$ is the input to the function and $y$ is output of ReLU.\n"
      ]
    },
    {
      "cell_type": "markdown",
      "metadata": {
        "id": "Vm-bN9sQETLV"
      },
      "source": [
        "$$f(x)=\\max (0, x)=\\left\\{\\begin{array}{l}x_{i} \\text { if } x_{i}>0 \\\\ 0 \\text { if } x_{i}<=0\\end{array}\\right.$$"
      ]
    },
    {
      "cell_type": "markdown",
      "metadata": {
        "id": "dFiuu3BFAKdY"
      },
      "source": [
        "**Exercise 1.2 - Code Task:** Complete the ReLU implementation below using standard python."
      ]
    },
    {
      "cell_type": "code",
      "execution_count": 19,
      "metadata": {
        "id": "1_qMJJbs-Cbe"
      },
      "outputs": [],
      "source": [
        "# Implement ReLU.\n",
        "def relu(x):\n",
        "    if x > 0:\n",
        "        return x\n",
        "        # TODO Implement me!\n",
        "    else:\n",
        "        return 0\n",
        "        # TODO Implement me!"
      ]
    },
    {
      "cell_type": "code",
      "execution_count": 20,
      "metadata": {
        "cellView": "form",
        "id": "zCobLakM1esy",
        "outputId": "a8587eb1-7d34-4a8b-9f57-cda8b7c0b18b",
        "colab": {
          "base_uri": "https://localhost:8080/",
          "height": 282
        }
      },
      "outputs": [
        {
          "output_type": "stream",
          "name": "stdout",
          "text": [
            "Your ReLU function is correct!\n"
          ]
        },
        {
          "output_type": "display_data",
          "data": {
            "text/plain": [
              "<Figure size 432x288 with 1 Axes>"
            ],
            "image/png": "[encoded data removed]"
          },
          "metadata": {
            "needs_background": "light"
          }
        }
      ],
      "source": [
        "# @title Run to test your function.\n",
        "\n",
        "\n",
        "def plot_relu(relu_function):\n",
        "    max_int = 5\n",
        "    # Generete 100 evenly spaced points from -max_int to max_int\n",
        "    x = np.linspace(-max_int, max_int, 1000)\n",
        "    y = np.array([relu_function(xi) for xi in x])\n",
        "    plt.plot(x, y, label=\"ReLU\")\n",
        "    plt.legend(loc=\"upper left\")\n",
        "    plt.xticks(np.arange(min(x), max(x) + 1, 1))\n",
        "    plt.show()\n",
        "\n",
        "\n",
        "def check_relu_function(relu_function):\n",
        "    # Generete 100 evenly spaced points from -100 to -1\n",
        "    x = np.linspace(-100, -1, 100)\n",
        "    y = np.array([relu_function(xi) for xi in x])\n",
        "    assert (y == 0).all()\n",
        "\n",
        "    # Check if x == 0\n",
        "    x = 0\n",
        "    y = relu_function(x)\n",
        "    assert y == 0\n",
        "\n",
        "    # Generete 100 evenly spaced points from 0 to 100\n",
        "    x = np.linspace(0, 100, 100)\n",
        "    y = np.array([relu_function(xi) for xi in x])\n",
        "    assert np.allclose(x, y)\n",
        "\n",
        "    print(\"Your ReLU function is correct!\")\n",
        "\n",
        "\n",
        "check_relu_function(relu)\n",
        "plot_relu(relu)"
      ]
    },
    {
      "cell_type": "code",
      "execution_count": 21,
      "metadata": {
        "id": "Kken6_XvDdOK",
        "cellView": "form",
        "colab": {
          "base_uri": "https://localhost:8080/",
          "height": 282
        },
        "outputId": "0d5260c0-17a5-4a24-a9cd-474132bcc57b"
      },
      "outputs": [
        {
          "output_type": "stream",
          "name": "stdout",
          "text": [
            "Your ReLU function is correct!\n"
          ]
        },
        {
          "output_type": "display_data",
          "data": {
            "text/plain": [
              "<Figure size 432x288 with 1 Axes>"
            ],
            "image/png": "[encoded data removed]"
          },
          "metadata": {
            "needs_background": "light"
          }
        }
      ],
      "source": [
        "# @title Answer to code task (Try not to peek until you've given it a good try!')\n",
        "def relu(x):\n",
        "    if x > 0:\n",
        "        return x\n",
        "    else:\n",
        "        return 0\n",
        "\n",
        "\n",
        "check_relu_function(relu)\n",
        "plot_relu(relu)"
      ]
    },
    {
      "cell_type": "markdown",
      "metadata": {
        "id": "2mgIAyE2Fx3O"
      },
      "source": [
        "Let's try to `jit` this function to speed up compilation and then try to call it."
      ]
    },
    {
      "cell_type": "code",
      "execution_count": 22,
      "metadata": {
        "id": "4YDkiNlRF6jn",
        "colab": {
          "base_uri": "https://localhost:8080/"
        },
        "outputId": "6a9913c1-e89f-4135-a4ad-1b38bac80160"
      },
      "outputs": [
        {
          "output_type": "stream",
          "name": "stdout",
          "text": [
            "Exception Abstract tracer value encountered where concrete value is expected: Traced<ShapedArray(bool[1000000])>with<DynamicJaxprTrace(level=0/1)>\n",
            "The problem arose with the `bool` function. \n",
            "The error occurred while tracing the function relu at <ipython-input-21-7a91654ecf1b>:2 for jit. This concrete value was not available in Python because it depends on the value of the argument 'x'.\n",
            "\n",
            "See https://jax.readthedocs.io/en/latest/errors.html#jax.errors.ConcretizationTypeError\n"
          ]
        }
      ],
      "source": [
        "relu_jit = jax.jit(relu)\n",
        "\n",
        "key = jax.random.PRNGKey(42)\n",
        "# Gen 1000000 random numbers and pass them to relu\n",
        "num_random_numbers = 1000000\n",
        "x = jax.random.normal(key, (num_random_numbers,))\n",
        "\n",
        "# Should raise an error.\n",
        "try:\n",
        "    relu_jit(x)\n",
        "except Exception as e:\n",
        "    print(\"Exception {}\".format(e))"
      ]
    },
    {
      "cell_type": "markdown",
      "metadata": {
        "id": "y7q33C4pHOQW"
      },
      "source": [
        "**Why does this fail?**\n",
        "\n",
        "\n",
        "> As mentioned above, JAX transforms first converts python functions into an intermediate language called *jaxpr*. Jaxpr only captures what is executed on the parameters given to it during tracing, so this means during conditional calls, jaxpr only considers the branch taken.\n",
        "> \n",
        "> When jit-compiling a function, we want to compile and cache a version of the function that can handle multiple different argument types (so we don't have to recompile for each function evaluation). For example, when we compile a function on an array `jnp.array([1., 2., 3.], jnp.float32)`, we would likely also want to use the compiled function for `jnp.array([4., 5., 6.], jnp.float32)`. \n",
        "> \n",
        "> To achieve this, JAX traces your code based on abstract values. The default abstraction level is a ShapedArray - array that has a fixed size and dtype, for example, if we trace a function using `ShapedArray((3,), jnp.float32)`,  it can be reused for any concrete array of size 3, and float32 dtype. \n",
        "> \n",
        "> This does come with some challenges. Tracing that relies on concrete values becomes tricky and sometimes results in `ConcretizationTypeError` as in the ReLU function above. Furthermore, when tracing a function with conditional statements (\"if ...\"), JAX doesn't know which branch to take when tracing and so tracing can't occur.\n",
        "\n",
        "**TLDR**: JAX tracing doesn't work well with conditional statements (\"if ...\"). \n",
        "\n"
      ]
    },
    {
      "cell_type": "markdown",
      "metadata": {
        "id": "uLswU8aMEQ9K"
      },
      "source": [
        "To solve this, we have two options:\n",
        "- Use static arguments to make sure JAX traces on a concrete value level - this is not ideal if you need to retrace a lot. Example - bottom of this [section](https://jax.readthedocs.io/en/latest/notebooks/Common_Gotchas_in_JAX.html#python-control-flow-jit).\n",
        "- Use builtin JAX condition flow primitives such as [`lax.cond`](https://jax.readthedocs.io/en/latest/_autosummary/jax.lax.cond.html) or [`jnp.where`](https://jax.readthedocs.io/en/latest/_autosummary/jax.numpy.where.html).  "
      ]
    },
    {
      "cell_type": "markdown",
      "metadata": {
        "id": "SX8k4R7daBpP"
      },
      "source": [
        "**Exercise 1.3 - Code Task** : Let's convert our ReLU function above to work with jit.\n",
        "\n",
        "**Useful methods:**  [`jnp.where`](https://jax.readthedocs.io/en/latest/_autosummary/jax.numpy.where.html) (or [`jnp.maximum`](https://jax.readthedocs.io/en/latest/_autosummary/jax.numpy.maximum.html), if you prefer.) "
      ]
    },
    {
      "cell_type": "code",
      "execution_count": 23,
      "metadata": {
        "id": "p-4mXLwqaK-b"
      },
      "outputs": [],
      "source": [
        "# Implement a jittable ReLU\n",
        "def relu(x):\n",
        "    # TODO Implement ME!\n",
        "    return jnp.maximum(0,x)"
      ]
    },
    {
      "cell_type": "code",
      "execution_count": 24,
      "metadata": {
        "id": "B5fq_QRoaaG5",
        "cellView": "form",
        "colab": {
          "base_uri": "https://localhost:8080/"
        },
        "outputId": "bef22f8b-16dc-4089-c81f-f03eddf7a0a3"
      },
      "outputs": [
        {
          "output_type": "stream",
          "name": "stdout",
          "text": [
            "Your ReLU function is correct!\n"
          ]
        }
      ],
      "source": [
        "# @title Run to test your function.\n",
        "check_relu_function(relu)"
      ]
    },
    {
      "cell_type": "code",
      "execution_count": 25,
      "metadata": {
        "id": "XLtBaplGxlS3",
        "cellView": "form",
        "colab": {
          "base_uri": "https://localhost:8080/"
        },
        "outputId": "28f3d322-cdb8-421e-e044-90ad1d749461"
      },
      "outputs": [
        {
          "output_type": "stream",
          "name": "stdout",
          "text": [
            "Your ReLU function is correct!\n"
          ]
        }
      ],
      "source": [
        "# @title Answer to code task (Try not to peek until you've given it a good try!')\n",
        "def relu(x):\n",
        "    return jnp.where(x > 0, x, 0)\n",
        "    # Another option - return jnp.maximum(x,0)\n",
        "\n",
        "\n",
        "check_relu_function(relu)"
      ]
    },
    {
      "cell_type": "code",
      "execution_count": 26,
      "metadata": {
        "id": "KYogDOCLiLXN",
        "cellView": "form",
        "colab": {
          "base_uri": "https://localhost:8080/",
          "height": 364
        },
        "outputId": "4121b922-fd21-4b0d-ae13-c373cba5f0e4"
      },
      "outputs": [
        {
          "output_type": "stream",
          "name": "stdout",
          "text": [
            "The slowest run took 49.34 times longer than the fastest. This could mean that an intermediate result is being cached.\n",
            "4.47 ms ± 9.47 ms per loop (mean ± std. dev. of 7 runs, 10 loops each)\n",
            "188 µs ± 62.2 µs per loop (mean ± std. dev. of 7 runs, 10 loops each)\n"
          ]
        },
        {
          "output_type": "display_data",
          "data": {
            "text/plain": [
              "<Figure size 432x288 with 1 Axes>"
            ],
            "image/png": "[encoded data removed]"
          },
          "metadata": {
            "needs_background": "light"
          }
        },
        {
          "output_type": "stream",
          "name": "stdout",
          "text": [
            "JAX (with jit) was 23.72 times faster than JAX (no jit) !!!\n"
          ]
        }
      ],
      "source": [
        "# @title Now let's see the performance benefit of using jit! (Run me)\n",
        "\n",
        "# jit our function\n",
        "relu_jit = jax.jit(relu)\n",
        "\n",
        "# generate random input\n",
        "key = jax.random.PRNGKey(42)\n",
        "num_random_numbers = 1000000\n",
        "x = jax.random.normal(key, (num_random_numbers,))\n",
        "\n",
        "# time normal jit function\n",
        "jax_time = %timeit -o -n 10 relu(x).block_until_ready()\n",
        "\n",
        "# Warm up/Compile - first run for jitted function\n",
        "relu_jit(x).block_until_ready()\n",
        "\n",
        "# time jitted function\n",
        "jax_jit_time = %timeit -o -n 10 relu_jit(x).block_until_ready()\n",
        "\n",
        "# Let's plot the performance difference\n",
        "jax_avg_time = np.mean(jax_time.all_runs)\n",
        "jax_jit_avg_time = np.mean(jax_jit_time.all_runs)\n",
        "data = {\"JAX (no jit)\": jax_avg_time, \"JAX (with jit)\": jax_jit_avg_time}\n",
        "\n",
        "plot_performance(data, title=\"Average time taken for ReLU function\")"
      ]
    },
    {
      "cell_type": "markdown",
      "metadata": {
        "id": "dxq-z-xzs40s"
      },
      "source": [
        "## Automatic gradient computation\n",
        "\n",
        "The `grad` transformation is used to automatically compute the gradient of a function in JAX. It can be applied to Python and NumPy functions, which means you can differentiate through loops, branches, recursion, and closures.  \n",
        "\n",
        "`grad` takes in a function `f` and returns a function. If `f` is a mathematical function $f(x)$, then `grad(f(x))` corresponds to $f'(x)=\\frac{df}{dx}$. Then `grad(f)(x_0)` yields $f'(x_0)$.\n"
      ]
    },
    {
      "cell_type": "markdown",
      "metadata": {
        "id": "C49R8EOs-GHe"
      },
      "source": [
        "Let's take a simple function $f(x)=6x^4-9x+4$"
      ]
    },
    {
      "cell_type": "code",
      "execution_count": 27,
      "metadata": {
        "id": "lUMepl6J-dQP"
      },
      "outputs": [],
      "source": [
        "f = lambda x: 6 * x**4 - 9 * x + 4"
      ]
    },
    {
      "cell_type": "markdown",
      "metadata": {
        "id": "9ayvrkpiBiu4"
      },
      "source": [
        "We can compute the gradient of this function - $f'(x)$ and evaluate it at $x=3$."
      ]
    },
    {
      "cell_type": "code",
      "execution_count": 28,
      "metadata": {
        "id": "YNm9hS2S-vJk"
      },
      "outputs": [],
      "source": [
        "dfdx = grad(f)\n",
        "dfdx_3 = dfdx(3.0)"
      ]
    },
    {
      "cell_type": "markdown",
      "metadata": {
        "id": "UcRUywsnF3LZ"
      },
      "source": [
        "**Exercise 1.4 - Math Task**: Can you calculate $f'(2)$ by hand?"
      ]
    },
    {
      "cell_type": "code",
      "execution_count": 29,
      "metadata": {
        "id": "PybYK6NEFWrD",
        "cellView": "form",
        "colab": {
          "base_uri": "https://localhost:8080/"
        },
        "outputId": "238696a9-3680-4857-8346-8ac8b66e09a9"
      },
      "outputs": [
        {
          "output_type": "stream",
          "name": "stdout",
          "text": [
            "Nice, you got the correct answer!\n"
          ]
        }
      ],
      "source": [
        "answer = 183  # @param {type:\"integer\"}\n",
        "\n",
        "dfdx_2 = dfdx(2.0)\n",
        "\n",
        "assert (\n",
        "    answer == dfdx_2\n",
        "), \"Incorrect answer, hint https://en.wikipedia.org/wiki/Power_rule#Statement_of_the_power_rule\"\n",
        "\n",
        "print(\"Nice, you got the correct answer!\")"
      ]
    },
    {
      "cell_type": "code",
      "source": [
        "# @title Answer to math task (Try not to run until you've given it a good try!') \n",
        "%%latex                                                  \n",
        "\\begin{aligned}\n",
        "f(x) & = 6x^4-9x+4 \\\\\n",
        "f'(x) & = 24x^3 -9  && \\triangleright \\textrm{Power Rule.}  \\\\ \n",
        "f'(2) &  = 24(2)^3 -9 = 183 && \\triangleright \\textrm{Substituting x=2} \\\\\n",
        "\\end{aligned}"
      ],
      "metadata": {
        "id": "CAwlhxIlRPp9",
        "cellView": "form",
        "colab": {
          "base_uri": "https://localhost:8080/",
          "height": 94
        },
        "outputId": "941a477a-942b-4e93-bea4-fd7531a3e161"
      },
      "execution_count": 30,
      "outputs": [
        {
          "output_type": "display_data",
          "data": {
            "text/plain": [
              "<IPython.core.display.Latex object>"
            ],
            "text/latex": "\\begin{aligned}\nf(x) & = 6x^4-9x+4 \\\\\nf'(x) & = 24x^3 -9  && \\triangleright \\textrm{Power Rule.}  \\\\ \nf'(2) &  = 24(2)^3 -9 = 183 && \\triangleright \\textrm{Substituting x=2} \\\\\n\\end{aligned}\n"
          },
          "metadata": {}
        }
      ]
    },
    {
      "cell_type": "markdown",
      "metadata": {
        "id": "wcB5ZjojH67Q"
      },
      "source": [
        "We can also chain `grad` to calculate higher order deratives. \n",
        "\n",
        "We can calculate $f'''(x)$ as follows:"
      ]
    },
    {
      "cell_type": "code",
      "execution_count": 31,
      "metadata": {
        "id": "013SFq7BE54W"
      },
      "outputs": [],
      "source": [
        "d3dx = grad(grad(grad(f)))"
      ]
    },
    {
      "cell_type": "markdown",
      "metadata": {
        "id": "7_r9VQGoIsa6"
      },
      "source": [
        "**Exercise 1.5 - Math Task**: How about $f'''(2)$ by hand?"
      ]
    },
    {
      "cell_type": "code",
      "execution_count": 32,
      "metadata": {
        "cellView": "form",
        "id": "WZUArv4TInPg",
        "colab": {
          "base_uri": "https://localhost:8080/"
        },
        "outputId": "87e63920-6a6b-4cda-a847-fe2145becdc8"
      },
      "outputs": [
        {
          "output_type": "stream",
          "name": "stdout",
          "text": [
            "Nice, you got the correct answer!\n"
          ]
        }
      ],
      "source": [
        "answer = 288  # @param {type:\"integer\"}\n",
        "\n",
        "d3dx_2 = d3dx(2.0)\n",
        "\n",
        "assert answer == d3dx_2, \"Incorrect answer, hint ...\"\n",
        "\n",
        "print(\"Nice, you got the correct answer!\")"
      ]
    },
    {
      "cell_type": "code",
      "source": [
        "# @title Answer to math task (Try not to run until you've given it a good try!') \n",
        "%%latex \n",
        "\n",
        "\\begin{aligned}\n",
        "f(x) & = 6x^4-9x+4 \\\\\n",
        "f'(x) & = 24x^3 -9  && \\triangleright \\textrm{Power Rule.}  \\\\\n",
        "f''(x) & = 72x^2  && \\triangleright \\textrm{Power Rule.}  \\\\\n",
        "f'''(x) & = 144x && \\triangleright \\textrm{Power Rule.} \\\\\n",
        "f'''(2) & = 144(2)=288 && \\triangleright \\textrm{Substituting x=2} \\\\ \n",
        "\\end{aligned}"
      ],
      "metadata": {
        "id": "TCC7SkH8MMVk",
        "cellView": "form",
        "colab": {
          "base_uri": "https://localhost:8080/",
          "height": 145
        },
        "outputId": "58664796-fd1e-4dd1-f07f-84dd852b7661"
      },
      "execution_count": 33,
      "outputs": [
        {
          "output_type": "display_data",
          "data": {
            "text/plain": [
              "<IPython.core.display.Latex object>"
            ],
            "text/latex": "\n\\begin{aligned}\nf(x) & = 6x^4-9x+4 \\\\\nf'(x) & = 24x^3 -9  && \\triangleright \\textrm{Power Rule.}  \\\\\nf''(x) & = 72x^2  && \\triangleright \\textrm{Power Rule.}  \\\\\nf'''(x) & = 144x && \\triangleright \\textrm{Power Rule.} \\\\\nf'''(2) & = 144(2)=288 && \\triangleright \\textrm{Substituting x=2} \\\\ \n\\end{aligned}\n"
          },
          "metadata": {}
        }
      ]
    },
    {
      "cell_type": "markdown",
      "metadata": {
        "id": "c3QgJNU9XYyz"
      },
      "source": [
        "Another useful method is `value_and_grad`, where we can get the value ($f(x)$) and gradient ($f'(x)$). "
      ]
    },
    {
      "cell_type": "code",
      "execution_count": 34,
      "metadata": {
        "id": "x3zeSv6gXuyd",
        "colab": {
          "base_uri": "https://localhost:8080/"
        },
        "outputId": "54168413-de44-488b-f2d0-a4b139eea329"
      },
      "outputs": [
        {
          "output_type": "stream",
          "name": "stdout",
          "text": [
            "f(x): 82.0 f′(x): 183.0 \n"
          ]
        }
      ],
      "source": [
        "from jax import value_and_grad\n",
        "\n",
        "f_x, dy_dx = value_and_grad(f)(2.0)\n",
        "print(f\"f(x): {f_x} f′(x): {dy_dx} \")"
      ]
    },
    {
      "cell_type": "markdown",
      "source": [
        "> For partial derivatives, you need to use the [`argnums`](https://jax.readthedocs.io/en/latest/_autosummary/jax.grad.html) param to specify which variables you want to differentiate with respect to. \n",
        "\n"
      ],
      "metadata": {
        "id": "_vUr-B6gSxnu"
      }
    },
    {
      "cell_type": "markdown",
      "metadata": {
        "id": "MktOLPnwvnH3"
      },
      "source": [
        "**Exercise 1.6 - Group Task:** Chat with neighbour/think about how JAX's automatic differentiation compares to other libraries such as Pytorch or Tensorflow. "
      ]
    },
    {
      "cell_type": "markdown",
      "source": [
        "Another useful application related to `grad` is when you want your `grad` function to return auxiliary (extra) data, that you don't want differentiated. You can use the `has_aux` parameter to do this (example in \"Auxiliary data\" section in [here](https://github.com/google/jax/blob/main/docs/jax-101/01-jax-basics.ipynb))."
      ],
      "metadata": {
        "id": "rvXlE7z02M2D"
      }
    },
    {
      "cell_type": "markdown",
      "source": [
        "## Pure Functions\n",
        "\n",
        "JAX transformation and compilation are designed to work reliably on **pure functions** (see [Wikipedia page on pure functions](https://en.wikipedia.org/wiki/Pure_function)). These functions have the following properties:\n",
        "1. All **input** data is passed through the **function's parameters**. \n",
        "2. All **results** are output through the **function's return**. \n",
        "3. The function always returns the same **result** if invoked with the **same inputs**. What if your function involves randomness? Pass in the random seed!\n",
        "4. **No [side-effects](https://en.wikipedia.org/wiki/Side_effect_(computer_science))** - no mutation of non-local variables or input/output streams.  \n",
        " \n",
        "\n",
        "Let's see what could happen if we don't stick to using pure functions."
      ],
      "metadata": {
        "id": "fT56qxXzTVKZ"
      }
    },
    {
      "cell_type": "markdown",
      "source": [
        "### Side Effects"
      ],
      "metadata": {
        "id": "Mad7l7s0CtT1"
      }
    },
    {
      "cell_type": "markdown",
      "source": [
        "Let's call print within a function."
      ],
      "metadata": {
        "id": "xkQWTE2Xe955"
      }
    },
    {
      "cell_type": "code",
      "source": [
        "def impure_print_side_effect(x):\n",
        "    print(\"Print me!\")  # This is a side-effect\n",
        "    return x\n",
        "\n",
        "\n",
        "# The side-effects appear during the first run\n",
        "print(\"First call: \", jax.jit(impure_print_side_effect)(4.0))"
      ],
      "metadata": {
        "id": "S9aeUdUoBmCg",
        "colab": {
          "base_uri": "https://localhost:8080/"
        },
        "outputId": "b02720c3-8d4a-4f0c-a935-5bfb9647a2b9"
      },
      "execution_count": 35,
      "outputs": [
        {
          "output_type": "stream",
          "name": "stdout",
          "text": [
            "Print me!\n",
            "First call:  4.0\n"
          ]
        }
      ]
    },
    {
      "cell_type": "markdown",
      "source": [
        "As expected, the print statement is called.\n",
        "\n",
        "Let's call this function again. "
      ],
      "metadata": {
        "id": "nu4rnyS7ox_L"
      }
    },
    {
      "cell_type": "code",
      "source": [
        "# Subsequent runs with parameters of same type and shape may not show the side-effect\n",
        "# This is because JAX now invokes a cached compilation of the function\n",
        "print(\"Second call: \", jax.jit(impure_print_side_effect)(5.0))"
      ],
      "metadata": {
        "id": "-wnkIqAxfDeJ",
        "colab": {
          "base_uri": "https://localhost:8080/"
        },
        "outputId": "b26f01c4-ad03-4ff7-f47d-129de8b7039f"
      },
      "execution_count": 36,
      "outputs": [
        {
          "output_type": "stream",
          "name": "stdout",
          "text": [
            "Second call:  5.0\n"
          ]
        }
      ]
    },
    {
      "cell_type": "markdown",
      "source": [
        "Ah, no print statement! Since JAX cached the compilation of the function, `print()` calls will only happen during tracing and not every time the function is called. "
      ],
      "metadata": {
        "id": "64rNvVnwo-eB"
      }
    },
    {
      "cell_type": "code",
      "source": [
        "# JAX re-runs the Python function when the type or shape of the argument changes\n",
        "print(\n",
        "    \"Third call, different type: \", jax.jit(impure_print_side_effect)(jnp.array([5.0]))\n",
        ")"
      ],
      "metadata": {
        "id": "Mp_CkOL-o86t",
        "colab": {
          "base_uri": "https://localhost:8080/"
        },
        "outputId": "a4767d9e-93af-48a1-cf85-11417d0d9f87"
      },
      "execution_count": 37,
      "outputs": [
        {
          "output_type": "stream",
          "name": "stdout",
          "text": [
            "Print me!\n",
            "Third call, different type:  [5.]\n"
          ]
        }
      ]
    },
    {
      "cell_type": "markdown",
      "source": [
        "In this case, we called the function with a different shaped object and so it triggered the re-tracing of the function and print was called again. "
      ],
      "metadata": {
        "id": "XFogrIf5fbLU"
      }
    },
    {
      "cell_type": "markdown",
      "source": [
        "To print values in compiled functions, use [host callbacks](https://jax.readthedocs.io/en/latest/jax.experimental.host_callback.html?highlight=print#jax.experimental.host_callback.id_print)([example](https://github.com/google/jax/issues/196#issuecomment-1191155679)) or if your jax version>=0.3.16, you can use [`jax.debug.print`](https://jax.readthedocs.io/en/latest/debugging/print_breakpoint.html). \n"
      ],
      "metadata": {
        "id": "pqV6_25GCxHL"
      }
    },
    {
      "cell_type": "markdown",
      "source": [
        "### Global variables"
      ],
      "metadata": {
        "id": "EqL1-TGaC8Ir"
      }
    },
    {
      "cell_type": "markdown",
      "source": [
        "Using global variables can also lead to some undesired consequences!"
      ],
      "metadata": {
        "id": "t8dzJog8tMe_"
      }
    },
    {
      "cell_type": "code",
      "source": [
        "g = 0.0\n",
        "\n",
        "\n",
        "def impure_uses_globals(x):\n",
        "    return x + g\n",
        "\n",
        "\n",
        "# JAX captures the value of the global during the first run\n",
        "print(\"First call: \", jax.jit(impure_uses_globals)(4.0))"
      ],
      "metadata": {
        "id": "vwAkKrDiCXO6",
        "colab": {
          "base_uri": "https://localhost:8080/"
        },
        "outputId": "3cd56e55-a378-479c-e847-ca0f85e42a50"
      },
      "execution_count": 38,
      "outputs": [
        {
          "output_type": "stream",
          "name": "stdout",
          "text": [
            "First call:  4.0\n"
          ]
        }
      ]
    },
    {
      "cell_type": "markdown",
      "source": [
        "This prints 4, using the original value of `g`.\n",
        "\n",
        "Let's update `g` and call our function again."
      ],
      "metadata": {
        "id": "pWNE8B5btcfc"
      }
    },
    {
      "cell_type": "code",
      "source": [
        "g = 10.0  # Update the global\n",
        "\n",
        "# Subsequent runs may silently use the cached value of the globals\n",
        "print(\"Second call: \", jax.jit(impure_uses_globals)(4.0))"
      ],
      "metadata": {
        "id": "mLMpdQZwtUEL",
        "colab": {
          "base_uri": "https://localhost:8080/"
        },
        "outputId": "7c003dce-d27d-4580-e258-64d6a394cb59"
      },
      "execution_count": 39,
      "outputs": [
        {
          "output_type": "stream",
          "name": "stdout",
          "text": [
            "Second call:  4.0\n"
          ]
        }
      ]
    },
    {
      "cell_type": "markdown",
      "source": [
        "Even though we updated our global variable, this still prints 4, using the original value of `g`. This is because the value of `g` was cached."
      ],
      "metadata": {
        "id": "o3-ygEx0tpBX"
      }
    },
    {
      "cell_type": "code",
      "source": [
        "# JAX re-runs the Python function when the type or shape of the argument changes\n",
        "# This will end up reading the latest value of the global\n",
        "print(\"Third call, different type: \", jax.jit(impure_uses_globals)(jnp.array([4.0])))"
      ],
      "metadata": {
        "id": "LDecWNyktWDN",
        "colab": {
          "base_uri": "https://localhost:8080/"
        },
        "outputId": "0ead75f0-4369-43a7-db06-4509697785a3"
      },
      "execution_count": 40,
      "outputs": [
        {
          "output_type": "stream",
          "name": "stdout",
          "text": [
            "Third call, different type:  [14.]\n"
          ]
        }
      ]
    },
    {
      "cell_type": "markdown",
      "source": [
        "Similar to the side-effects example, re-tracing gets triggered when the shape of our input has changed. In this case, our function now uses the updated value of `g`."
      ],
      "metadata": {
        "id": "3mIZaXOqt5ix"
      }
    },
    {
      "cell_type": "markdown",
      "source": [
        "Since the global variables are cached, it is still okay to use global **constants** inside jax functions."
      ],
      "metadata": {
        "id": "aLis2BV04BQK"
      }
    },
    {
      "cell_type": "markdown",
      "metadata": {
        "id": "RCUB9YkCnCFb"
      },
      "source": [
        "## Function vectorization with vmap\n",
        "\n",
        "vmap (Vectorizing map) automatically vectorizes your python functions. "
      ]
    },
    {
      "cell_type": "markdown",
      "metadata": {
        "id": "e858lqfYKd4d"
      },
      "source": [
        "Let's define a simple function that calculates the min and max of an input."
      ]
    },
    {
      "cell_type": "code",
      "execution_count": 41,
      "metadata": {
        "id": "-6qalyXgDsKB"
      },
      "outputs": [],
      "source": [
        "def min_max(x):\n",
        "    return jnp.array([jnp.min(x), jnp.max(x)])"
      ]
    },
    {
      "cell_type": "markdown",
      "metadata": {
        "id": "muSIsUkgKlxh"
      },
      "source": [
        "We can apply this function to the vector - `[0, 1, 2, 3, 4]` and get the min and max values."
      ]
    },
    {
      "cell_type": "code",
      "execution_count": 42,
      "metadata": {
        "id": "F5wIeGieKsWG",
        "colab": {
          "base_uri": "https://localhost:8080/"
        },
        "outputId": "36be01ad-5b5c-42fa-a1ea-e393bdd8840d"
      },
      "outputs": [
        {
          "output_type": "execute_result",
          "data": {
            "text/plain": [
              "DeviceArray([0, 4], dtype=int32)"
            ]
          },
          "metadata": {},
          "execution_count": 42
        }
      ],
      "source": [
        "x = jnp.arange(5)\n",
        "min_max(x)"
      ]
    },
    {
      "cell_type": "markdown",
      "metadata": {
        "id": "_PkC7NnPLNXq"
      },
      "source": [
        "What about if we want to apply this to a batch/list of vectors (i.e. calculate the min and max independently across multiple batches)? "
      ]
    },
    {
      "cell_type": "markdown",
      "metadata": {
        "id": "hRngFfwCMHLd"
      },
      "source": [
        "Let's create our batch - 3 vectors of size 5."
      ]
    },
    {
      "cell_type": "code",
      "execution_count": 43,
      "metadata": {
        "id": "EKuh459OD6jx",
        "colab": {
          "base_uri": "https://localhost:8080/"
        },
        "outputId": "39fe973e-3027-401b-9e11-6ef7b2e75f17"
      },
      "outputs": [
        {
          "output_type": "stream",
          "name": "stdout",
          "text": [
            "[[ 0  1  2  3  4]\n",
            " [ 5  6  7  8  9]\n",
            " [10 11 12 13 14]]\n"
          ]
        }
      ],
      "source": [
        "batch_size = 3\n",
        "batched_x = np.arange(15).reshape((batch_size, -1))\n",
        "print(batched_x)"
      ]
    },
    {
      "cell_type": "markdown",
      "metadata": {
        "id": "hApYpVEvNS1y"
      },
      "source": [
        "**Exercise 1.7 - Question**: What do you think would be the result if we passed batch_x into `min_max`?"
      ]
    },
    {
      "cell_type": "code",
      "execution_count": 44,
      "metadata": {
        "id": "gu6C3J0kMrtj",
        "colab": {
          "base_uri": "https://localhost:8080/",
          "height": 237
        },
        "outputId": "ed9592cb-e7ce-473b-820c-1799c180906d"
      },
      "outputs": [
        {
          "output_type": "error",
          "ename": "AssertionError",
          "evalue": "ignored",
          "traceback": [
            "\u001b[0;31m---------------------------------------------------------------------------\u001b[0m",
            "\u001b[0;31mAssertionError\u001b[0m                            Traceback (most recent call last)",
            "\u001b[0;32m<ipython-input-44-9f98f6ccb876>\u001b[0m in \u001b[0;36m<module>\u001b[0;34m\u001b[0m\n\u001b[1;32m      1\u001b[0m \u001b[0mbatch_min_max_output\u001b[0m \u001b[0;34m=\u001b[0m \u001b[0;34m[\u001b[0m\u001b[0;34m[\u001b[0m\u001b[0;36m0\u001b[0m\u001b[0;34m,\u001b[0m\u001b[0;36m4\u001b[0m\u001b[0;34m]\u001b[0m\u001b[0;34m,\u001b[0m\u001b[0;34m[\u001b[0m\u001b[0;36m5\u001b[0m\u001b[0;34m,\u001b[0m\u001b[0;36m9\u001b[0m\u001b[0;34m]\u001b[0m\u001b[0;34m,\u001b[0m\u001b[0;34m[\u001b[0m\u001b[0;36m10\u001b[0m\u001b[0;34m,\u001b[0m\u001b[0;36m14\u001b[0m\u001b[0;34m]\u001b[0m\u001b[0;34m]\u001b[0m  \u001b[0;31m# @param [\"[[0,4],[5,9],[10,14]]\", \"[[0,10],[1,11],[2,12],[3,13],[4,14]]\", \"[0,14]\"] {type:\"raw\"}\u001b[0m\u001b[0;34m\u001b[0m\u001b[0;34m\u001b[0m\u001b[0m\n\u001b[1;32m      2\u001b[0m \u001b[0;34m\u001b[0m\u001b[0m\n\u001b[0;32m----> 3\u001b[0;31m \u001b[0;32massert\u001b[0m \u001b[0;34m(\u001b[0m\u001b[0mbatch_min_max_output\u001b[0m \u001b[0;34m==\u001b[0m \u001b[0mnp\u001b[0m\u001b[0;34m.\u001b[0m\u001b[0marray\u001b[0m\u001b[0;34m(\u001b[0m\u001b[0mmin_max\u001b[0m\u001b[0;34m(\u001b[0m\u001b[0mbatched_x\u001b[0m\u001b[0;34m)\u001b[0m\u001b[0;34m)\u001b[0m\u001b[0;34m)\u001b[0m\u001b[0;34m.\u001b[0m\u001b[0mall\u001b[0m\u001b[0;34m(\u001b[0m\u001b[0;34m)\u001b[0m\u001b[0;34m,\u001b[0m \u001b[0;34m\"Incorrect answer.\"\u001b[0m\u001b[0;34m\u001b[0m\u001b[0;34m\u001b[0m\u001b[0m\n\u001b[0m\u001b[1;32m      4\u001b[0m \u001b[0;34m\u001b[0m\u001b[0m\n\u001b[1;32m      5\u001b[0m \u001b[0mprint\u001b[0m\u001b[0;34m(\u001b[0m\u001b[0;34m\"Nice, you got the correct answer!\"\u001b[0m\u001b[0;34m)\u001b[0m\u001b[0;34m\u001b[0m\u001b[0;34m\u001b[0m\u001b[0m\n",
            "\u001b[0;31mAssertionError\u001b[0m: Incorrect answer."
          ]
        }
      ],
      "source": [
        "batch_min_max_output = [[0,4],[5,9],[10,14]]  # @param [\"[[0,4],[5,9],[10,14]]\", \"[[0,10],[1,11],[2,12],[3,13],[4,14]]\", \"[0,14]\"] {type:\"raw\"}\n",
        "\n",
        "assert (batch_min_max_output == np.array(min_max(batched_x))).all(), \"Incorrect answer.\"\n",
        "\n",
        "print(\"Nice, you got the correct answer!\")"
      ]
    },
    {
      "cell_type": "markdown",
      "metadata": {
        "id": "6K0weiHOOb8L"
      },
      "source": [
        "So the above is not what we want. The `min` and `max` is applied across the entire batch, when we want the min and max per vector/mini-batch. \n",
        "\n",
        "We can also manually batch this by `jnp.stack` and a for loop, as follows:"
      ]
    },
    {
      "cell_type": "code",
      "execution_count": 45,
      "metadata": {
        "id": "q8RdAqr8N-Fd",
        "colab": {
          "base_uri": "https://localhost:8080/"
        },
        "outputId": "be60f689-a1ee-43a1-a67b-1a05e2d9b8b4"
      },
      "outputs": [
        {
          "output_type": "stream",
          "name": "stdout",
          "text": [
            "[[ 0  4]\n",
            " [ 5  9]\n",
            " [10 14]]\n"
          ]
        }
      ],
      "source": [
        "@jit\n",
        "def manual_batch_min_max_loop(batched_x):\n",
        "    min_max_result_list = []\n",
        "    for x in batched_x:\n",
        "        min_max_result_list.append(min_max(x))\n",
        "    return jnp.stack(min_max_result_list)\n",
        "\n",
        "\n",
        "print(manual_batch_min_max_loop(batched_x))"
      ]
    },
    {
      "cell_type": "markdown",
      "metadata": {
        "id": "jmu3VVtMR0GV"
      },
      "source": [
        "Or, just manually updating the `axis` in `jnp.min` and `jnp.max`. "
      ]
    },
    {
      "cell_type": "code",
      "execution_count": null,
      "metadata": {
        "id": "lzxmORv-RcUg"
      },
      "outputs": [],
      "source": [
        "@jit\n",
        "def manual_batch_min_max_axis(batched_x):\n",
        "    return jnp.array([jnp.min(batched_x, axis=1), jnp.max(batched_x, axis=1)]).T\n",
        "\n",
        "\n",
        "print(manual_batch_min_max_axis(batched_x))"
      ]
    },
    {
      "cell_type": "markdown",
      "metadata": {
        "id": "CetKYASUSE4Q"
      },
      "source": [
        "These approaches both work, but we need to change our function to work with batches. We can't just run the same code across a batch of data.\n",
        "\n",
        "There is where `vmap` becomes useful! Using `vmap` we can write a function once, as if it is working on a single element, and then use `vmap` to automatically vectorize it! "
      ]
    },
    {
      "cell_type": "code",
      "execution_count": null,
      "metadata": {
        "id": "s2F8WUNQROkQ"
      },
      "outputs": [],
      "source": [
        "# define our vmap function using our original single vector function\n",
        "@jit\n",
        "def min_max_vmap(batched_x):\n",
        "    return vmap(min_max)(batched_x)\n",
        "\n",
        "\n",
        "# Run it on a single vecor\n",
        "## We add extra dimention in a single vector, shape changes from (5,) to (1,5), which makes the vmapping possible\n",
        "x_with_leading_dim = jax.numpy.expand_dims(x, axis=0)\n",
        "print(f\"Single vector: {min_max_vmap(x_with_leading_dim)}\")\n",
        "\n",
        "# Run it on batch of vectors\n",
        "print(f\"Batch/list of vector:{min_max_vmap(batched_x)}\")"
      ]
    },
    {
      "cell_type": "markdown",
      "metadata": {
        "id": "-3bome92VRL6"
      },
      "source": [
        "So this is really convenient, but what about performance? "
      ]
    },
    {
      "cell_type": "code",
      "execution_count": null,
      "metadata": {
        "id": "O1Nb4uniUUor"
      },
      "outputs": [],
      "source": [
        "batched_x = np.arange(50000).reshape((500, 100))\n",
        "\n",
        "# Trace the functions with first call\n",
        "manual_batch_min_max_loop(batched_x).block_until_ready()\n",
        "manual_batch_min_max_axis(batched_x).block_until_ready()\n",
        "min_max_vmap(batched_x).block_until_ready()\n",
        "\n",
        "min_max_forloop_time = %timeit -o -n 10 manual_batch_min_max_loop(batched_x).block_until_ready()\n",
        "min_max_axis_time = %timeit -o -n 10 manual_batch_min_max_axis(batched_x).block_until_ready()\n",
        "min_max_vmap_time = %timeit -o -n 10 min_max_vmap(batched_x).block_until_ready()\n",
        "\n",
        "print(\n",
        "    f\"Avg Times (lower is better) - Naive Implementation: {np.round(np.mean(min_max_forloop_time.all_runs),5)} Manually Vectorized: {np.round(np.mean(min_max_axis_time.all_runs),5)} Vmapped Function: {np.round(np.mean(min_max_vmap_time.all_runs),5)} \"\n",
        ")"
      ]
    },
    {
      "cell_type": "markdown",
      "metadata": {
        "id": "mYL758zCYsrR"
      },
      "source": [
        "So `vmap` should be similar in performance to manually vectorized code (if everything is implemented well), and much better than naively vectorized code (i.e. for loops). "
      ]
    },
    {
      "cell_type": "markdown",
      "metadata": {
        "id": "vAO9dOdrtiqI"
      },
      "source": [
        "## Paralelization with pmap\n",
        "\n",
        "💡**For this subsection, please ensure that colab is using a `TPU` runtime. If no `TPU` runtimes are available, select `Harware Accelerator` - `None` for a cpu runtime.** \n",
        "\n",
        "With `pmap` we can convert a function written for a single device to a function that can run in parallel across many devices. \n",
        "\n",
        "**Difference between `vmap` and `pmap`**:\n",
        "\n",
        "So both `pmap` and `vmap` transform a function to work over an array, but they differ in implementation. `vmap` adds an extra batch dimension to all the operations in a function, while `pmap` replicates the function and executes each replica on its own XLA device in parallel."
      ]
    },
    {
      "cell_type": "code",
      "execution_count": null,
      "metadata": {
        "id": "gUYA277soR-0"
      },
      "outputs": [],
      "source": [
        "# @title Check the device you are using (Run Cell)\n",
        "print(f\"Num devices: {jax.device_count()}\")\n",
        "print(f\" Devices: {jax.devices()}\")"
      ]
    },
    {
      "cell_type": "markdown",
      "metadata": {
        "id": "6qhlBnLs6AYL"
      },
      "source": [
        "Let's try and `pmap` a batch of dot products.\n",
        "\n",
        "Here is an illustration of how we would typically do this sequentially: \n",
        "\n",
        "[Source](https://www.assemblyai.com/blog/why-you-should-or-shouldnt-be-using-jax-in-2022/)"
      ]
    },
    {
      "cell_type": "code",
      "execution_count": null,
      "metadata": {
        "id": "fz1i2AwA5_7J"
      },
      "outputs": [],
      "source": [
        "# @title Illustration of Sequential Dot Product (Run me)\n",
        "from IPython.display import HTML\n",
        "\n",
        "HTML(\n",
        "    '<iframe width=\"560\" height=\"315\" src=\"https://www.assemblyai.com/blog/content/media/2022/02/not_parallel-2.mp4\" frameborder=\"0\" allow=\"accelerometer; autoplay; encrypted-media; gyroscope; picture-in-picture\" allowfullscreen></iframe>'\n",
        ")"
      ]
    },
    {
      "cell_type": "markdown",
      "metadata": {
        "id": "MTmWNFZ08f8n"
      },
      "source": [
        "Here is the code implementation of this:"
      ]
    },
    {
      "cell_type": "code",
      "execution_count": null,
      "metadata": {
        "id": "GqTuMldJ9Uv5"
      },
      "outputs": [],
      "source": [
        "# Let's generate a batch of size 8, each with a matrix of size (500, 600)\n",
        "\n",
        "# Let create 8 keys, 1 for each batch\n",
        "keys = jax.random.split(jax.random.PRNGKey(0), 8)\n",
        "\n",
        "# Let create our batches\n",
        "mats = jnp.stack([jax.random.normal(key, (500, 600)) for key in keys])\n",
        "\n",
        "\n",
        "def dot_product_sequential():\n",
        "    @jit\n",
        "    def avg_dot_prod(mats):\n",
        "        result = []\n",
        "        # Loop through batch and compute dp\n",
        "        for mat in mats:\n",
        "            # dot product between the a mat and mat.T (transposed version)\n",
        "            result.append(jnp.dot(mat, mat.T))\n",
        "        return jnp.stack(result)\n",
        "\n",
        "    avg_dot_prod(mats).block_until_ready()\n",
        "\n",
        "\n",
        "run_sequential = %timeit -o -n 5 dot_product_sequential()"
      ]
    },
    {
      "cell_type": "markdown",
      "metadata": {
        "id": "fBEtecJX-0AW"
      },
      "source": [
        "Here is an illustration of how we would do this in parallel \n",
        "\n",
        "[Source](https://www.assemblyai.com/blog/why-you-should-or-shouldnt-be-using-jax-in-2022/)"
      ]
    },
    {
      "cell_type": "code",
      "execution_count": null,
      "metadata": {
        "id": "Uswxurmn-5oC",
        "cellView": "form"
      },
      "outputs": [],
      "source": [
        "# @title Illustration of Parallel Dot Product (Run me)\n",
        "from IPython.display import HTML\n",
        "\n",
        "HTML(\n",
        "    '<iframe width=\"560\" height=\"315\" src=\"https://www.assemblyai.com/blog/content/media/2022/02/parallelized.mp4\" frameborder=\"0\" allow=\"accelerometer; autoplay; encrypted-media; gyroscope; picture-in-picture\" allowfullscreen></iframe>'\n",
        ")"
      ]
    },
    {
      "cell_type": "markdown",
      "metadata": {
        "id": "sGsq8iTA_N9U"
      },
      "source": [
        "Here is code implementation of batched dot products:"
      ]
    },
    {
      "cell_type": "markdown",
      "metadata": {
        "id": "0ygFWDfQIoeC"
      },
      "source": [
        "First, we will create `8` random matrices (one for each available tpu devices - colab tpu's have 8 available [devices](https://cloud.google.com/tpu/docs/system-architecture-tpu-vm) or the 8 cpu cores as we configured)."
      ]
    },
    {
      "cell_type": "code",
      "execution_count": null,
      "metadata": {
        "id": "MZLMx06_K_qR"
      },
      "outputs": [],
      "source": [
        "# Let create 8 keys, 1 for each batch\n",
        "keys = jax.random.split(jax.random.PRNGKey(0), 8)\n",
        "\n",
        "# Each replicated pmapped function get a different key\n",
        "mats = pmap(lambda key: jax.random.normal(key, (500, 600)))(keys)"
      ]
    },
    {
      "cell_type": "markdown",
      "metadata": {
        "id": "6BkMsaOtLISj"
      },
      "source": [
        "The leading dimension here needs to equal the dimension of available devices (since we are sending a batch to each device)."
      ]
    },
    {
      "cell_type": "code",
      "execution_count": null,
      "metadata": {
        "id": "gWrdv_2wLG4T"
      },
      "outputs": [],
      "source": [
        "print(mats.shape)"
      ]
    },
    {
      "cell_type": "markdown",
      "metadata": {
        "id": "HnqblcUsLaKZ"
      },
      "source": [
        "Using `pmap` to generate the batches ensures these batches are of type `ShardedDeviceArray`. This is similar to an ndarray, except each batch/shared is stored in the memory of multiple devices, so they can be used in subsequent `pmap` operations without moving data around between devices (GPU/TPU) and hosts (cpu). "
      ]
    },
    {
      "cell_type": "code",
      "execution_count": null,
      "metadata": {
        "id": "JAeaBCvcLQWg"
      },
      "outputs": [],
      "source": [
        "print(type(mats))"
      ]
    },
    {
      "cell_type": "code",
      "execution_count": null,
      "metadata": {
        "id": "PVz0gOWG9pkr"
      },
      "outputs": [],
      "source": [
        "def dot_product_parallel():\n",
        "\n",
        "    # Run a local matmul on each device in parallel (no data transfer)\n",
        "    result = pmap(lambda x: jnp.dot(x, x.T))(\n",
        "        mats\n",
        "    ).block_until_ready()  # result.shape is (8, 5000, 5000)\n",
        "\n",
        "\n",
        "run_parallel = %timeit -o -n  5 dot_product_parallel()"
      ]
    },
    {
      "cell_type": "markdown",
      "metadata": {
        "id": "64gfyF3ENQzU"
      },
      "source": [
        "It is simple as that. Our dot product now runs in parallel across available devices (cpu, gpus or tpus). As we have more cores/devices, this code will automatically scale! "
      ]
    },
    {
      "cell_type": "code",
      "execution_count": null,
      "metadata": {
        "id": "5qcQXSbANP_M",
        "cellView": "form"
      },
      "outputs": [],
      "source": [
        "# @title Let's plot the performance difference (Run Cell)\n",
        "\n",
        "jax_parallel_time = np.mean(run_parallel.all_runs)\n",
        "jax_seq_time = np.mean(run_sequential.all_runs)\n",
        "\n",
        "\n",
        "data = {\"JAX (seq)\": jax_seq_time, \"JAX (parallel - pmap)\": jax_parallel_time}\n",
        "\n",
        "plot_performance(data, title=\"Average time taken for Seq vs Parallel Dot Product\")"
      ]
    },
    {
      "cell_type": "markdown",
      "metadata": {
        "id": "-0j8iJRFUz6v"
      },
      "source": [
        "For some problems, the speed can be directly proportional to the number of devices -- $Nx$ speed up for $N$ devices! \n",
        "\n",
        "We showed an example of using `pmap` for *pure* parallelism, where there is no communication between devices. JAX also has various operations for communication across distributed devices ( more on this [here](https://jax.readthedocs.io/en/latest/jax-101/06-parallelism.html#communication-between-devices).)"
      ]
    },
    {
      "cell_type": "markdown",
      "metadata": {
        "id": "sAtms17jtCOU"
      },
      "source": [
        "<hr>\n",
        "\n",
        "# PART 2 - Optimization using Optax\n",
        "\n",
        "<hr>\n",
        "\n",
        "[Optax](https://github.com/deepmind/optax), leverages from the capabilities of JAX, in particular automatic differentiation, to run optimization methods such as vanilla gradient descent, or more advanced ones such as ADAM, on any loss function we may have. \n",
        "\n",
        "Below we show how to use Optax to train a simple linear model of the form \n",
        "\n",
        "$$y=w\\tr x + b,\\,w \\in \\reals^m,\\;y,b \\in \\reals.$$\n",
        "\n",
        "Below is a little function to simulate noisy samples drawn from a linear model, and a classic mean squared loss function."
      ]
    },
    {
      "cell_type": "code",
      "source": [
        "from numpy import random\n",
        "\n",
        "def sim_linear_model(w, b, num_samples, noise_std=0.05):\n",
        "  \"\"\"\n",
        "  given a linear coefficientw vector w, a bias b and a non-negative integer n\n",
        "  generate n samples according to y = wx + b + v\n",
        "  where v is a random Gaussian variable with mean 0\n",
        "  and standard deviation 0.1\n",
        "  \"\"\"\n",
        "  sample_dim = len(w)\n",
        "  X = random.uniform(size=(sample_dim,num_samples))\n",
        "  noise = noise_std*random.normal(size=num_samples)\n",
        "  y = w @ X + b + noise\n",
        "  return X,y\n",
        "\n",
        "\n",
        "def loss(X, y, w, b):\n",
        "  \"\"\"\n",
        "  JAX-based implementation of mean squared loss\n",
        "  \"\"\"\n",
        "  errors = jnp.square(y - w.T @ X - b)\n",
        "  return jnp.mean(errors)\n",
        "\n",
        "#\n",
        "# ground truth\n",
        "#\n",
        "w = [0.4]\n",
        "b = -0.2\n",
        "#\n",
        "# draw samples\n",
        "#\n",
        "X,y = sim_linear_model(w, b, 100)\n"
      ],
      "metadata": {
        "id": "AKuLize6bkzY"
      },
      "execution_count": 46,
      "outputs": []
    },
    {
      "cell_type": "markdown",
      "source": [
        "## Optax workflow\n",
        "\n",
        "Since JAX is pure function-based, Optax functions need to be pure functions too. Thus, in order to update the model's parameters, two functions are called in sequence:\n",
        "\n",
        "1. `optimizer.update(theta,state)` if the model parameters are $\\theta$, this function returns the update that needs to be applied to theta in order to obtain a new iterate: $\\Delta \\theta$. The `state` stores past information gathered by the optimizer which might influence the computation of $\\Delta \\theta$.\n",
        "1. `optax.apply(theta,delta_theta)` simply adds `delta_theta` to `theta`\n",
        "\n",
        "One important aspect of Optax is that it expects the model parameters to be provided as name-value pairs in a dictionary. In the linear model below we have two parameters $w$ and $b$ so that $\\theta=(w,b)$ and $\\Delta\\theta=(\\Delta w,\\Delta b)$.\n"
      ],
      "metadata": {
        "id": "cY6EQK582Phk"
      }
    },
    {
      "cell_type": "code",
      "source": [
        "%%capture\n",
        "!pip install -U optax\n",
        "\n",
        "import optax\n",
        "import jax.numpy.linalg as jla\n",
        "\n",
        "# \n",
        "# JAX autograd:  the returned value gloss is a function \n",
        "# that computes the gradient of loss(X,y,w,b) with respect to w and b (args 2 and 3)\n",
        "# \n",
        "gloss = jax.grad(loss, argnums=(2,3))\n",
        "\n",
        "\n",
        "def train_model_optax(X, y, fun, grad, stepsize=1e-2,tolerance=1e-4,maxiter=1000):\n",
        "  \"\"\"\n",
        "  optimization using Optax\n",
        "  :param X: reference inputs\n",
        "  :param y: reference output\n",
        "  :param fun: cost function \n",
        "  :param grad: gradient of the cost function\n",
        "  \"\"\"\n",
        "  #\n",
        "  # create optimizer\n",
        "  # this guy defines how to update the parameters in each iteration\n",
        "  #\n",
        "  optimizer = optax.sgd(stepsize) # TRY other optimizers and stepsizes!! optax.adam\n",
        "  #\n",
        "  # initial parameters\n",
        "  #\n",
        "  # Optax expects a dictionary parameters\n",
        "  # in this case we have only one: w\n",
        "  #\n",
        "  theta_t = {\"w\": jnp.zeros(X.shape[0]), \"b\":jnp.ones(1)}\n",
        "  #\n",
        "  # all Optax optimizers have an inner state that needs to \n",
        "  # be stored and updated between calls\n",
        "  #\n",
        "  state_t = optimizer.init(theta_t)\n",
        "  \n",
        "  params     = list()\n",
        "  costs      = list()\n",
        "  grad_norms = list()\n",
        "  #\n",
        "  # main optimization loop\n",
        "  #\n",
        "  for t in range(maxiter):\n",
        "    #\n",
        "    # values at current iteration\n",
        "    #\n",
        "    w_t = theta_t[\"w\"]\n",
        "    b_t = theta_t[\"b\"]\n",
        "    g_t = grad(X,y,w_t,b_t)\n",
        "    f_t = fun(X,y,w_t,b_t)\n",
        "    n_t = jla.norm(g_t)\n",
        "    #\n",
        "    # check for stopping condition\n",
        "    #\n",
        "    if n_t < tolerance:\n",
        "      break\n",
        "    #\n",
        "    # store current solution\n",
        "    #\n",
        "    params.append(theta_t)\n",
        "    costs.append(f_t)\n",
        "    grad_norms.append(n_t)\n",
        "    #\n",
        "    # update solution (here comes Optax)\n",
        "    #\n",
        "    # Optax expects a dictionary of gradients, one per parameter\n",
        "    # corresponding to the dictionary of parameters above\n",
        "    #\n",
        "    g_t = {\"w\":g_t[0],\"b\":g_t[1]} \n",
        "    d_t, state_t = optimizer.update(g_t, state_t)\n",
        "    theta_t = optax.apply_updates(theta_t, d_t)\n",
        "\n",
        "  return params,costs,grad_norms\n",
        "\n",
        "\n",
        "    "
      ],
      "metadata": {
        "id": "a1u1ZpbAqRTZ"
      },
      "execution_count": null,
      "outputs": []
    },
    {
      "cell_type": "markdown",
      "source": [
        "### Running our optax-powered optimizer\n",
        "\n",
        "Run the cell below to see our latest method in action.\n",
        "\n",
        "<hr>\n",
        "\n",
        "**ExcerciseL** try again, now changing the optimizer and/or the stepsize (see [Common Optimizers](https://optax.readthedocs.io/en/latest/api.html) ). One popular one is ADAM (`optax.adam`)\n"
      ],
      "metadata": {
        "id": "j4Sxc76A49jO"
      }
    },
    {
      "cell_type": "code",
      "source": [
        "def plot_trajectory(params,costs,norms):\n",
        "  \"\"\"\n",
        "  helper function for plotting our thing\n",
        "  \"\"\"\n",
        "  niter = len(costs)\n",
        "\n",
        "  plt.figure(figsize=(15,5))\n",
        "\n",
        "  plt.subplot(1,3,1)\n",
        "  plt.semilogy(costs)\n",
        "  plt.xlabel('iteration')\n",
        "  plt.ylabel('loss')\n",
        "  plt.title('evolution of loss across iterations')\n",
        "  plt.grid(True)\n",
        "\n",
        "#\n",
        "# call the algorithm\n",
        "#\n",
        "params,costs,norms = train_model_optax(X, y, loss, gloss,stepsize=0.1)\n",
        "\n",
        "plot_trajectory(params,costs,norms)"
      ],
      "metadata": {
        "id": "YBN1Ov1dta8Z"
      },
      "execution_count": null,
      "outputs": []
    },
    {
      "cell_type": "markdown",
      "metadata": {
        "id": "exuVety_bFhQ"
      },
      "source": [
        "# Training Models with Haiku\n",
        "\n",
        "So far we've seen how to use JAX and Optax to implement an optimization loop.\n",
        "Thanks to these two libraries, we can exploit our computing resources to the maximum, forget about computing gradients by hand, and to define the descent direction altogether.\n",
        "\n",
        "What if we now want to build a deep neural model? If we want to do it with JAX, we need JAX-enabled blocks (dense, convolutional, relus, maxpool, etc.) and a way to construct and maintain the state of the resulting mammoth.\n",
        "\n",
        "Here's where [Haiku](https://github.com/deepmind/dm-haiku) comes in, by providing a JAX-based alternative to those familiar with  the traditional Pytorch or Tensorflow libraries.\n",
        "\n",
        "## Haiku is object oriented\n",
        "\n",
        "Haiku is an *object-oriented* library, meaning that our models, their parameters, etc., are represented as _instances_ of _object classes_. If you are not familiar with object oriented programming, you should learn this concept first. There are many tutorials on the subject ([example](https://realpython.com/python3-object-oriented-programming/)).\n",
        "\n",
        "## JAX is functional oriented\n",
        "\n",
        "However, there is a twist, as JAX follows the  _functional programming_ paradigm! \n",
        "\n",
        "Haiku modules are similar to standard python objects (they have references to their own parameters and functions). However, since JAX operates on *pure functions*, Haiku modules **cannot be directly instantiated**, but rather they need to be **wrapped into pure function transformations.**\n",
        "\n",
        "So, the overall rationale is to:\n",
        "\n",
        "* write an object for your model\n",
        "* wrap the object so that it is seen by JAX as a set of pure functions\n",
        "\n",
        "Don't worry. It sounds more complicated than it is."
      ]
    },
    {
      "cell_type": "code",
      "source": [
        "%%capture\n",
        "#@title Run this cell to install Haiku!\n",
        "!pip install -U dm-haiku\n"
      ],
      "metadata": {
        "id": "lMubruAF4ZDc"
      },
      "execution_count": null,
      "outputs": []
    },
    {
      "cell_type": "markdown",
      "metadata": {
        "id": "9wvTzTi-YJTp"
      },
      "source": [
        "## Wrapping a model in Haiku\n",
        "\n",
        "We'll now create a linear model in the way of Haiku. This linear model contains another parameter `b`, a constant (bias) term that is added to the linear combination, so that $y=wx+b$.\n",
        "\n",
        "The core object in Haiku is a `Module`. A module contains parameters and a function `__call__` that combines these parameters and user input to produce an output. This is what we could call a `block` within a Neural Network.\n",
        "\n"
      ]
    },
    {
      "cell_type": "code",
      "execution_count": null,
      "metadata": {
        "id": "H_-3r49B-Orc"
      },
      "outputs": [],
      "source": [
        "import haiku as hk\n",
        "\n",
        "class MyLinearModel(hk.Module): # notice: model inherits from haiku.Module\n",
        "  \"\"\"\n",
        "  Haiku-based linear model of the form y=w*x+b\n",
        "\n",
        "  A Haiku module is expected to implement __call__ in order to produce\n",
        "  its output.\n",
        "  \"\"\"\n",
        "  \n",
        "  def __init__(self, output_dim, name=None):\n",
        "    \"\"\"\n",
        "    :param output_dim: dimension of the model output (y)\n",
        "    \"\"\"\n",
        "    super().__init__(name=name)\n",
        "    self.output_dim = output_dim\n",
        "\n",
        "\n",
        "  def __call__(self, x):\n",
        "    \"\"\"\n",
        "    special function, gets called when we use the () operator on an instance\n",
        "    \"\"\"\n",
        "    j, k = x.shape[-1], self.output_dim\n",
        "    #\n",
        "    # note: the three lines below are actually called *once* and serve\n",
        "    # to declare and initialize the parameters of the model.\n",
        "    # \n",
        "    w_init = hk.initializers.TruncatedNormal(1.0 / np.sqrt(j))\n",
        "    w = hk.get_parameter(\"w\", shape=[j, k], dtype=x.dtype, init=w_init)\n",
        "    b = hk.get_parameter(\"b\", shape=[k], dtype=x.dtype, init=jnp.ones)\n",
        "    #\n",
        "    # this is the actual code that's executed when the module is called\n",
        "    #\n",
        "    return jnp.dot(x, w) + b"
      ]
    },
    {
      "cell_type": "markdown",
      "metadata": {
        "id": "-XGOeJCH-10P"
      },
      "source": [
        "### Wrapping the Module\n",
        "\n",
        "In order for a module to be used by JAX, it needs to be treated not as an object, but as a set of pure functions plus a _state_, which has to be explicitly fed to the functions.\n",
        "\n",
        "The wrapping is done by the Haiku `transform` function. This wrapper takes a **function** of one or more Haiku Modules (not just any class) and \"eviscerates\" the modules it to bring out the parameters. \n",
        "\n",
        "In order for Haiku to know which parameters each  module has, the parameters need to be explicitly created and initialized using `hk.get_parameter`. In the module above, this is done in the `__call__` functions. \n",
        "\n",
        "(Admittedly, this is rather counter-intuitive, as it would seem that the parameters are created and initialized each time the `__call__` function is called. Also, they are not in the `__init__` method, which is the natural place for initializing things in an object. )\n",
        "\n",
        "So, the wrapping goes in two stages:\n",
        "\n",
        "1. we wrap the model (module) into a function\n",
        "1. we transform the function to obtain two other functions:\n",
        "   * an `init` function, that serves to initialize the parameters\n",
        "   * an `apply` function, which calls the function with the parameters"
      ]
    },
    {
      "cell_type": "code",
      "execution_count": null,
      "metadata": {
        "id": "d1yI7j2h_Esd"
      },
      "outputs": [],
      "source": [
        "#\n",
        "# first step: wrap the module in a function\n",
        "#\n",
        "def model_fn(x):\n",
        "  \"\"\"\n",
        "  wrapper function for our model\n",
        "  \"\"\"\n",
        "  module = MyLinearModel(output_dim=1)\n",
        "  return module(x)\n",
        "\n",
        "#\n",
        "# second step: transform the function into a pair (init,apply)\n",
        "# \n",
        "wrapped_model = hk.transform(model_fn)\n",
        "print(wrapped_model)\n"
      ]
    },
    {
      "cell_type": "markdown",
      "source": [
        "## Different flavours of transformation\n",
        "\n",
        "As you may know from our previous tutorial on JAX, pseudo-random numbers play a central role in JAX and, because of the pure function concept, their state needs to be passed explicitly anywhere they're used.\n",
        "\n",
        "With this in mind, the functions produced by `hk.transform` include the PRNG state explicitly as their first argument in all calls, as can be seen in the  signature of the wrapper functions returned by `hk.transform`:\n",
        "\n",
        "* `init(prng,data)`\n",
        "* `apply(prng,params,data)`\n",
        "\n",
        "If we don't want or don't need to use a PRNG, we can ask for a different set of wrapper functions which do not include the PRNG as an argument. In our case, our `init` function does use PRNG since the weights are initialized randomly through `hk.initializers.TruncatedNormal`, but  our module's output is deterministic ($y=wx+b$). Accordingly, we'd like our signatures to be:\n",
        "\n",
        "* `init(prng)`\n",
        "* `apply(params,input)`\n",
        "\n",
        "This is achieved by calling `hk.without_apply_rng` to our transformed model:"
      ],
      "metadata": {
        "id": "i0OC1iQVS71H"
      }
    },
    {
      "cell_type": "code",
      "source": [
        "#\n",
        "# transform again to obtain another pair \n",
        "#\n",
        "wrapped_model = hk.without_apply_rng(wrapped_model)\n",
        "#\n",
        "# inspect the output and notice how the `apply` function has changed \n",
        "# compared to the previous value\n",
        "#\n",
        "print(wrapped_model)"
      ],
      "metadata": {
        "id": "Bv-q5rw7S7d_"
      },
      "execution_count": null,
      "outputs": []
    },
    {
      "cell_type": "markdown",
      "metadata": {
        "id": "Lao8wS3tBjc3"
      },
      "source": [
        "### Test the wrapper model\n",
        "\n",
        "Let's see how the wrapped model works.\n"
      ]
    },
    {
      "cell_type": "code",
      "execution_count": null,
      "metadata": {
        "id": "nt0srU3rQlhL"
      },
      "outputs": [],
      "source": [
        "#\n",
        "# input dimention we are considering\n",
        "#\n",
        "input_dim = 3\n",
        "#\n",
        "# evaluate our model somewhere\n",
        "#\n",
        "some_x= jnp.arange(input_dim, dtype=jnp.float32)\n",
        "print(some_x)\n",
        "#\n",
        "# initialize PRNG, a must in JAX\n",
        "#\n",
        "rng_key = jax.random.PRNGKey(42)\n",
        "#\n",
        "# initialization DOES use the PRNG, and (possibly) the data too\n",
        "#\n",
        "params = wrapped_model.init(rng=rng_key, x=some_x)\n",
        "print(params)\n",
        "#\n",
        "# try it out\n",
        "#\n",
        "print(wrapped_model.apply(params,some_x))\n"
      ]
    },
    {
      "cell_type": "markdown",
      "metadata": {
        "id": "7IaqVuRPg3ER"
      },
      "source": [
        "# Training a model using Haiku and Optax\n",
        "\n",
        "\n",
        "Here we show a full training loop, using Haiku and Optax. For convenience, we introduce structures like `TrainingState` and functions like `init`,`update` and `loss_fn`. Please read through to get comfortable with how you can effectively train JAX models."
      ]
    },
    {
      "cell_type": "code",
      "source": [
        "#@title Load packages\n",
        "%%capture\n",
        "# need to install this for plotting.\n",
        "!pip install optax\n",
        "!pip install dm-haiku\n",
        "#\n",
        "# packages\n",
        "#\n",
        "from typing import Any, MutableMapping, NamedTuple, Tuple\n",
        "import time\n",
        "from sklearn import datasets\n",
        "from sklearn.model_selection import train_test_split\n",
        "import haiku as hk\n",
        "import optax\n",
        "import tensorflow as tf\n",
        "import tensorflow_datasets as tfds\n",
        "from livelossplot import PlotLosses\n"
      ],
      "metadata": {
        "id": "LY0t6C4OKzSK"
      },
      "execution_count": null,
      "outputs": []
    },
    {
      "cell_type": "code",
      "source": [
        "# @title Define and wrap our model\n",
        "\n",
        "class MyLinearModel(hk.Module): # notice: model inherits from haiku.Module\n",
        "  \"\"\"\n",
        "  Haiku-based linear model of the form y=w*x+b\n",
        "\n",
        "  A Haiku module is expected to implement __call__ in order to produce\n",
        "  its output.\n",
        "  \"\"\"\n",
        "  \n",
        "  def __init__(self, output_dim, name=None):\n",
        "    \"\"\"\n",
        "    :param output_dim: dimension of the model output (y)\n",
        "    \"\"\"\n",
        "    super().__init__(name=name)\n",
        "    self.output_dim = output_dim\n",
        "\n",
        "\n",
        "  def __call__(self, x):\n",
        "    \"\"\"\n",
        "    special function, gets called when we use the () operator on an instance\n",
        "    \"\"\"\n",
        "    j, k = x.shape[-1], self.output_dim\n",
        "    #\n",
        "    # note: the three lines below are actually called *once* and serve\n",
        "    # to declare and initialize the parameters of the model.\n",
        "    # \n",
        "    w_init = hk.initializers.TruncatedNormal(1.0 / np.sqrt(j))\n",
        "    w = hk.get_parameter(\"w\", shape=[j, k], dtype=x.dtype, init=w_init)\n",
        "    b = hk.get_parameter(\"b\", shape=[k], dtype=x.dtype, init=jnp.ones)\n",
        "    #\n",
        "    # this is the actual code that's executed when the module is called\n",
        "    #\n",
        "    return jnp.dot(x, w) + b\n",
        "\n",
        "#\n",
        "# wrap the model into a function\n",
        "#\n",
        "def model_fn(x):\n",
        "  \"\"\"\n",
        "  same wrapper function for Haiku modules, repeated for clarity\n",
        "  \"\"\"\n",
        "  module = MyLinearModel(output_dim=1)\n",
        "  return module(x).ravel()\n",
        "#\n",
        "# transform using Haiku as a pair init,apply\n",
        "#\n",
        "model = hk.without_apply_rng(hk.transform(model_fn))\n"
      ],
      "metadata": {
        "id": "0epd5-xgZPcW"
      },
      "execution_count": null,
      "outputs": []
    },
    {
      "cell_type": "code",
      "source": [
        "from jax import random as jrand\n",
        "from jax.numpy import linalg as jla\n",
        "\n",
        "def loss_fun_haiku(params: hk.Params, X, y):\n",
        "  \"\"\"\n",
        "  our loss function\n",
        "  \"\"\"\n",
        "  y_pred = model.apply(params, X)\n",
        "  return jnp.mean((y_pred - y) ** 2)\n",
        "\n",
        "\n",
        "def train_model_haiku(X, y, model, loss_fun, stepsize=1e-3,tolerance=1e-4,maxiter=1000,seed=42):\n",
        "  \"\"\"\n",
        "  optimization using Optax\n",
        "  :param X: reference inputs\n",
        "  :param y: reference output\n",
        "  :param fun: cost function \n",
        "  :param grad: gradient of the cost function\n",
        "  \"\"\"\n",
        "  #\n",
        "  # create optimizer\n",
        "  # this guy defines how to update the parameters in each iteration\n",
        "  #\n",
        "  optimizer = optax.sgd(stepsize) # TRY other optimizers and stepsizes!! optax.adam\n",
        "  #\n",
        "  # initialization\n",
        "  #\n",
        "  rng = jrand.PRNGKey(seed)\n",
        "  rng, init_rng = jrand.split(rng)\n",
        "  theta_t       = model.init(init_rng, X)\n",
        "  state_t       = optimizer.init(theta_t)\n",
        "  \n",
        "  params     = list()\n",
        "  losses     = list()\n",
        "  grad_norms = list()\n",
        "  #\n",
        "  # main optimization loop\n",
        "  #\n",
        "  for t in range(maxiter):\n",
        "    #\n",
        "    # values at current iteration\n",
        "    #\n",
        "    loss_t, gtheta_t  = jax.value_and_grad(loss_fun)(theta_t, X, y)\n",
        "    n_t = jnp.sqrt(jnp.sum(jnp.square(gtheta_t[\"my_linear_model\"][\"w\"])) + jnp.sum(jnp.square(gtheta_t[\"my_linear_model\"][\"b\"])))\n",
        "    #\n",
        "    # check for stopping condition\n",
        "    #\n",
        "    if t > 0 and t % 100: \n",
        "      print(n_t)\n",
        "      \n",
        "    if n_t < tolerance:\n",
        "      break\n",
        "    #\n",
        "    # store current solution\n",
        "    #\n",
        "    params.append(theta_t)\n",
        "    losses.append(loss_t)\n",
        "    grad_norms.append(n_t)\n",
        "    #\n",
        "    # update solution (here comes Optax)\n",
        "    #\n",
        "    dtheta_t, state_t = optimizer.update(gtheta_t, state_t)\n",
        "    theta_t           = optax.apply_updates(theta_t, dtheta_t)\n",
        "\n",
        "  return params,losses,grad_norms\n",
        "\n",
        "\n",
        "params,losses,norms = train_model_haiku(X, y, model, loss_fun_haiku, stepsize=1e-2)\n",
        "\n",
        "plot_trajectory(params,losses,norms)\n",
        "    \n"
      ],
      "metadata": {
        "id": "29k-YKgkaspy"
      },
      "execution_count": null,
      "outputs": []
    },
    {
      "cell_type": "markdown",
      "source": [
        "<hr>\n",
        "\n",
        "# PART 3 - Training a Convolutional Neural Network (CNN) with Haiku\n",
        "\n",
        "<hr>\n",
        "\n",
        "We have seen how to create and train a simple model using Haiku. Now we will use the built in models and blocks of Haiku to create and train a deep convolutional network. In the process, we will learn about convolutional networks, one of the core blocks in modern neural models.\n",
        "\n",
        "\n"
      ],
      "metadata": {
        "id": "2-ESLy53gDLp"
      }
    },
    {
      "cell_type": "markdown",
      "metadata": {
        "id": "u5_zoqk-YK0D"
      },
      "source": [
        "## Preliminaries - color image representation\n",
        "\n",
        "As you may know, there are different types of digital images. The simplest ones are grayscale images, where a pixel is a single scalar value (e.g., 254) where the value 0 is black and the value 255 is white (if pixels are floating point values, the convention is that 0.0 is black and 1.0 is white). \n",
        "\n",
        "In general, however, an image can have several _channels_. Typical color images have three channels: red, green and blue (RGB - generally in that order). In such cases, an RGB pixel's value is a _vector_ of three values `[r,g,b]`.\n",
        "\n",
        "More generally, an _hyperspectral image_ (e.g., with infrared bands) can have any number of channels.\n",
        "\n",
        "The convention used in Python image processing/computer vision/machine learning libraries is to represent images as _three-dimensional tensors_. There are two conventions:  _channels first_ and _channels_last_. As the name implies, a _channels first_ image is a $c{\\times}h{\\times}w{\\times}$ array where $h$ and $w$ are the height and width of the image, and $c$ is the number of channels. So for example, a typical 640x480 RGB image will have dimensions 3x640x480.\n",
        "\n",
        "The more common convention is the _channels last_ one. In this case, a 640x480 image will have dimension 640x480x3, where the _last_ index indicates the channel.\n",
        "\n",
        "\n",
        "## Color images as network inputs\n",
        "\n",
        "As input data, even small images are huge. To see this, consider a simple, shallow network with a single fully connected layer of $500$ neurons whose inputs are $100x100$ RGB images: **how many parameters would this network have?**. Do this calculation  before continuing!\n",
        "\n",
        "## Convolutional layers\n",
        "\n",
        "**CONTINUE: this text below can be greatly improved**\n",
        "\n",
        "ConvNets address this model parameter issue by exploiting structure in the inputs to the network (in particular, by making the assumption that the input is a 3-D *volume*, which applies to images for example, where the 3 dimensions consist of the three RGB channels). The two key differences between a ConvNet and a Feed-forward network are:\n",
        "\n",
        "* ConvNets have neurons that are arranged in 3 dimensions: width, height, depth. Note that *depth* here means channels, i.e. the depth of the input volume, not the depth of a deep neural network!\n",
        "* The neurons in each layer are only connected to a small region of the layer before it.\n",
        "\n",
        "**QUESTION**: Unfortunately there is no such thing as a free lunch. What trade-off do you think a ConvNet makes for the reduction in memory required by fewer parameters?\n",
        "\n",
        "Generally, a ConvNet architecture is made up of different types of layers, the most common being convolutional layers, pooling layers and fully-connected layers that we encountered in the last practical."
      ]
    },
    {
      "cell_type": "markdown",
      "metadata": {
        "id": "SFvYLebFZzGG"
      },
      "source": [
        "## Optional reading: The rise of deep convolutional architectures"
      ]
    },
    {
      "cell_type": "markdown",
      "metadata": {
        "id": "kEtb0aaeZ6os"
      },
      "source": [
        "ConvNet architectures were key to the tremendous success of deep learning in machine vision. In particular, the first deep learning model to win the ImageNet competition in 2012 was called AlexNet (after Alex Krizhevsky, one of its inventors). It had 5 convolutional layers followed by 3 fully-connected layers. Later winners included GoogLeNet and ResNet. If you're curious, have a look at [this link](https://medium.com/towards-data-science/neural-network-architectures-156e5bad51ba) for a great summary of different ConvNet architectures."
      ]
    },
    {
      "cell_type": "markdown",
      "metadata": {
        "id": "vOp67cfpaTlC"
      },
      "source": [
        "## Convolutional layer architecture"
      ]
    },
    {
      "cell_type": "markdown",
      "metadata": {
        "id": "6JbXSVKulDoD"
      },
      "source": [
        "A 2-dimensional convolutional layer maps an input *volume* (meaning, a 3-D input tensor, e.g. [width, height, channels]) to an output *volume* through a set of learnable filters, which make up the parameters of the layer. Every filter is small spatially (along width and height), but extends through the full depth of the input volume. (Eg: A filter in the first layer of a ConvNet might have size [5, 5, 3]). During the forward pass, we convolve (\"slide\") each filter across the width and height of the input volume and compute element-wise dot products between the entries of the filter and the input at any position. As we slide the filter over the width and height of the input volume we will produce a 2-dimensional activation map that gives the responses of that filter at every spatial position. Each convolutional layer will have such a set of filters, and each of them will produce a separate 2-dimensional activation map. We then stack these activation maps along the depth-dimension to produce the output volume.\n",
        "\n",
        "By using these filters which map to a small sub-volume of the input, we can to a large extent, control the parameter explosion that we would get with a (fully-connected) feed-forward network. This **parameter sharing** actually also tends to improve the performance of the model on inputs like natural images because it provides the model with some limited **translation invariance**. Translation invariance means that if the image (or a feature in the image) is translated (moved), the model will not be significantly affected. Think about why this is the case!\n",
        "\n",
        "The following animation illustrates these ideas, make sure you understand them!\n",
        "\n",
        "![Convolution Animation](https://i.stack.imgur.com/FjvuN.gif)\n",
        "\n",
        "If the parameter sharing aspect of CNNs is still not clear, consider the following diagram which compares a simplified 1-D convolutional layer with a fully-connected layer. The diagram shows how a 1-dimensional input  $\\mathbf{x}$ is mapped to a 1-dimensional output  $\\mathbf{y}$ using both a fully-connected layer and a convolution layer, both without bias parameters. The colours of the edges represent the value of the weight parameters in the layers. For the fully-connected layer, the number of weights is the product of the input and output sizes, in this case, $6 \\times 4 = 24$. On the other hand, the number of weights in the convolutional layer depends only on the filter size of the convolution, in this case, $3$, and is independent of the input and output sizes.\n",
        "\n",
        "![Weight Sharing](https://i.imgur.com/gcmmZz4.png)\n"
      ]
    },
    {
      "cell_type": "markdown",
      "metadata": {
        "id": "eLiuT6TcmXw8"
      },
      "source": [
        "The hyper-parameters of a convolutional layer are as follows:\n",
        "* **Filters** defines the number of filters in the layer\n",
        "* **Kernel Size** defines the width and height of the filters (also called \"kernels\") in the layer. Note that kernels always have the same depth as the inputs to the layer.\n",
        "* **Stride** defines the number of pixels by which we move the filter when \"sliding\" it along the input volume. Typically this value would be 1, but values of 2 and 3 are also sometimes used.\n",
        "* **Padding** refers to the addition of 0-value pixels to the edges of the input volume along the width and height dimensions. In Tensorflow you can set this to \"VALID\", which essentially does no padding or \"SAME\" which pads the input such that the output width and height are the same as the input.\n",
        "\n",
        "Let's look at a very simple, dummy example to see how the values of the hyper-parameters affect the output size of a convolutional layer."
      ]
    },
    {
      "cell_type": "code",
      "execution_count": 1,
      "metadata": {
        "id": "iluvPEPInWKn",
        "colab": {
          "base_uri": "https://localhost:8080/",
          "height": 282
        },
        "outputId": "e654a378-2407-44c6-89b1-1ccdeb80a87b"
      },
      "outputs": [
        {
          "output_type": "stream",
          "name": "stdout",
          "text": [
            "Input shape: (10, 10, 3)\n"
          ]
        },
        {
          "output_type": "display_data",
          "data": {
            "text/plain": [
              "<Figure size 432x288 with 1 Axes>"
            ],
            "image/png": "[encoded data removed]"
          },
          "metadata": {
            "needs_background": "light"
          }
        }
      ],
      "source": [
        "# Create a random colour \"image\" of shape 10x10 with a depth of 3 (for red, green and blue)\n",
        "import numpy as np \n",
        "import matplotlib.pyplot as plt\n",
        "\n",
        "dummy_input = np.random.uniform(size=[10, 10, 3])\n",
        "fig, ax = plt.subplots(1, 1)\n",
        "plt.imshow(dummy_input)\n",
        "ax.grid(False)\n",
        "print('Input shape: {}'.format(dummy_input.shape))"
      ]
    },
    {
      "cell_type": "markdown",
      "metadata": {
        "id": "ZU1gD5hnsHbc"
      },
      "source": [
        "Now adjust the hyperparameters using the sliders on the right and see how the output shape changes for a [10, 10, 3] input."
      ]
    },
    {
      "cell_type": "markdown",
      "metadata": {
        "id": "dzh-9TL1sMCT"
      },
      "source": [
        "Note especially how output width and height are related to ```kernel_size``` and ```stride```, and how the output depth is related to ```filters```.\n",
        "\n",
        "**Question:** Can you come up with a formula for the output shape given the input shape, the hyperparameters of the layer and assuming no padding? "
      ]
    },
    {
      "cell_type": "markdown",
      "metadata": {
        "id": "oW5FkOM2EOr3"
      },
      "source": [
        "## Optional reading: Building up complex filters"
      ]
    },
    {
      "cell_type": "markdown",
      "metadata": {
        "id": "F__JkeqMEbzv"
      },
      "source": [
        "One of the reasons that CNNs have been so successful is their ability to build up complex filters by composing more simple filters. For example, imagine a 5 layer CNN that has been trained to detect faces. The first 4 layers are convolutional and the last layer is fully-connected and outputs the final prediction (is there a face or not). We might find that the filters in each convolution layer pick out the following features:\n",
        "\n",
        "1. lines (horizontal, vertical, diagonal), and colour gradients,\n",
        "2. corners, circles and other simple shapes, and simple textures,\n",
        "3. noses, mouths, and eyes,\n",
        "4. whole faces.\n",
        "\n",
        "The neural net has learned to pick out complex objects like facial features and even whole faces! The reason for this is that each successive layer can combine the filters from the previous layer to detect more and more sophisticated features. The following diagram (adapted from [this paper](http://web.eecs.umich.edu/~honglak/icml09-ConvolutionalDeepBeliefNetworks.pdf)) shows some really cool examples of this kind of behaviour. The lower level features (shown above) detect noses, eyes, and mouths, in the case of faces, and wheels, doors, and windows, for cars. The higher level features are then able to detect whole faces and cars.\n",
        "\n",
        "![Imgur](https://i.imgur.com/653uIty.jpg)\n",
        "\n",
        "The diagrams on page 7 of [this classic paper](https://cs.nyu.edu/~fergus/papers/zeilerECCV2014.pdf) show more examples of this phenomena and are definitely worth checking out!"
      ]
    },
    {
      "cell_type": "markdown",
      "metadata": {
        "id": "LhgDU-fVx2Jv"
      },
      "source": [
        "## (Max) Pooling\n",
        "A pooling layer reduces the spatial size of the representation. There are different reasons why we may want to do this. One is to reduce the number of parameters in the network. Imagine a convnet for the MNIST dataset. If the feature tensor produced by the final conv/pool/relu layer was say, of size 20x20 and had 100 feature channels, the final dense layer would have 20x20x100x10=400k parameters. However, if we down-sampled that layer to a 4x4 spatial size, we would have only 20k parameters. A big difference!\n",
        "\n",
        "Another reason is that we want later features (deeper in the network) to have larger *receptive fields* (input regions that they look at), in order to represent bigger objects and object parts for instance. In particular, pooling stride gives later features much larger receptive fields so that they can effectively combine smaller features together.\n",
        "\n",
        "A pooling layer has no trainable parameters. It applies some 2-D aggregation operation (usually a max(), but others like average() may also be used) to regions of the input volume. This is done independently for each depth dimension of the input. For example, a 2x2 max pooling operation with a stride of 2, downsamples every depth slice of the input by 2 along both the width and height.\n",
        "\n",
        "The hyper-parameters of a pooling layer are as follows:\n",
        "* **Pool Size** defines how many values are aggregated together.\n",
        "* **Stride** defines the number of pixels by which we move the pooling filter when sliding it along the input. Typically this value would be equal to the pool size.\n",
        "* **Padding** refers to the addition of 0-value pixels to the edges of the input volume along the width and height dimensions. In Tensorflow you can set this to \"VALID\", which essentially does no padding or \"SAME\" which pads the input such that the output width and height are the same as the input.\n",
        "\n",
        "#### Question\n",
        "Do 2x2 max-pooling by hand, with a stride of 2, and \"VALID\" padding, on the following 2D input. What is the size of the output?\n",
        "\n",
        "\\begin{bmatrix}\n",
        "  9 & 5 & 4 & 5 & 6 & 4 \\\\\n",
        "  6 & 6 & 3 & 5 & 8 & 2 \\\\\n",
        "  4 & 6 & 9 & 1 & 3 & 6 \\\\\n",
        "  9 & 7 & 1 & 5 & 8 & 1 \\\\\n",
        "  4 & 9 & 9 & 5 & 7 & 3 \\\\\n",
        "  7 & 3 & 6 & 4 & 9 & 1 \n",
        "\\end{bmatrix}\n",
        "\n",
        "\n",
        "Reveal the cell below by double-clicking and running it, to check your answer when you're done!"
      ]
    },
    {
      "cell_type": "code",
      "execution_count": 2,
      "metadata": {
        "id": "e1oIm3Nlb9zY",
        "colab": {
          "base_uri": "https://localhost:8080/"
        },
        "outputId": "cc021150-b696-4833-b070-cc3b1fb34eea"
      },
      "outputs": [
        {
          "output_type": "execute_result",
          "data": {
            "text/plain": [
              "array([[9, 5, 8],\n",
              "       [9, 9, 8],\n",
              "       [9, 9, 9]])"
            ]
          },
          "metadata": {},
          "execution_count": 2
        }
      ],
      "source": [
        "#@title Answer { display-mode: \"form\" }\n",
        "import tensorflow as tf # TODO remove dependency on TensorFlow\n",
        "X = np.array([[9, 5, 4, 5, 6, 4],\n",
        "              [6, 6, 3, 5, 8, 2],\n",
        "              [4, 6, 9, 1, 3, 6],\n",
        "              [9, 7, 1, 5, 8, 1],\n",
        "              [4, 9, 9, 5, 7, 3],\n",
        "              [7, 3, 6, 4, 9, 1]])\n",
        "\n",
        "max_pool_layer = tf.keras.layers.MaxPooling2D((2, 2), strides=2)\n",
        "max_pool_layer(tf.convert_to_tensor(X[None, :, :, None])).numpy().squeeze()\n"
      ]
    },
    {
      "cell_type": "markdown",
      "metadata": {
        "id": "XD8JDduMNh7V"
      },
      "source": [
        "## Optional reading: Receptive fields\n",
        "\n",
        "Earlier we mentioned that one reason to do pooling is to increase the sizes of the receptive fields of our features. Let's take a closer look at what we meant by this. \n",
        "\n",
        "The diagram below shows the effective receptive field of one output \"neuron\" in each layer of a few simple networks. What the diagram tells us is how many of the input values have an effect on each output value.\n",
        "\n",
        "We can see that in the first two examples, with single convolutional layers, the receptive field is simply equal to the kernel size. \n",
        "\n",
        "However, the next two examples are a little more interesting. Here we have drastically increased the receptive field size, without a large increase in the number of parameters, by stacking convolution and pooling layers. The interesting thing here is that by using a pooling layer we increased our receptive field size by a much smaller cost (in the number of parameters) than if we'd simply increased the kernel sizes of our convolution layers.\n",
        "\n",
        "You can read more about receptive fields [here](https://medium.com/mlreview/a-guide-to-receptive-field-arithmetic-for-convolutional-neural-networks-e0f514068807).\n",
        "\n",
        "\n",
        "![Receptive Fields](https://i.imgur.com/TjxEsG4.png)\n"
      ]
    },
    {
      "cell_type": "markdown",
      "metadata": {
        "id": "e4Vsrgyudd2E"
      },
      "source": [
        "## The CIFAR10 Dataset\n",
        "Now that we understand convolutional, max-pooling and feed-forward layers, we can combine these as building blocks to build a ConvNet classifier for images. For this practical, we will use the colour image dataset CIFAR10 (pronounced \"seefar ten\") which consists of 50,000 training images and 10,000 test images. As we did in Practical 1, we take 10,000 images from the training set to form a validation set and visualise some example images."
      ]
    },
    {
      "cell_type": "code",
      "execution_count": 12,
      "metadata": {
        "id": "flWYFg3ydvMU"
      },
      "outputs": [],
      "source": [
        "\n",
        "cifar = tf.keras.datasets.cifar10\n",
        "(train_images, train_labels), (test_images, test_labels) = cifar.load_data()\n",
        "test_images = test_images.astype(float)*(1/255)\n",
        "train_images = train_images.astype(float)*(1/255)\n",
        "\n",
        "cifar_labels = ['airplane', 'automobile', 'bird', 'cat', 'deer', 'dog', 'frog', 'horse', 'ship', 'truck']"
      ]
    },
    {
      "cell_type": "code",
      "execution_count": 13,
      "metadata": {
        "id": "QSzdYWpZd8RE",
        "colab": {
          "base_uri": "https://localhost:8080/"
        },
        "outputId": "8f7861fc-0c88-4d40-f829-1ba21ca51b46"
      },
      "outputs": [
        {
          "output_type": "stream",
          "name": "stdout",
          "text": [
            "1.0\n"
          ]
        }
      ],
      "source": [
        "import jax.numpy as jnp\n",
        "\n",
        "# Take the last 10000 images from the training set to form a validation set\n",
        "ntrain = 1000\n",
        "nval = 1000\n",
        "ntest = 1000\n",
        "print(np.max(train_images))\n",
        "train_labels = train_labels.squeeze()\n",
        "validation_images = train_images[-nval:, :, :, :]\n",
        "validation_labels = train_labels[-nval:]\n",
        "train_images_sub = train_images[-ntrain:, :, :, :]\n",
        "train_labels_sub = train_labels[-ntrain:]\n",
        "test_images_sub = test_images[:ntest,:, :, :]\n",
        "test_labels_sub = test_labels[:ntest]\n",
        "#\n",
        "# convert to JAX\n",
        "#\n",
        "X_train, X_test, Y_train, Y_test = jnp.array(train_images_sub, dtype=jnp.float32),\\\n",
        "                                   jnp.array(test_images_sub, dtype=jnp.float32),\\\n",
        "                                   jnp.array(train_labels_sub, dtype=jnp.float32),\\\n",
        "                                   jnp.array(test_labels_sub, dtype=jnp.float32)\n",
        "\n",
        "classes =  jnp.unique(Y_train)\n",
        "\n",
        "X_train.shape, X_test.shape, Y_train.shape, Y_test.shape\n",
        "\n",
        "indices = np.random.randint(0, ntest, size=[25])\n",
        "X_sample = test_images_sub[indices]\n",
        "Y_sample = [cifar_labels[i] for i in test_labels_sub[indices].squeeze()]\n"
      ]
    },
    {
      "cell_type": "markdown",
      "metadata": {
        "id": "x8jf1myGQP1O"
      },
      "source": [
        "What are the shapes and data-types of train_images and train_labels?"
      ]
    },
    {
      "cell_type": "code",
      "execution_count": 14,
      "metadata": {
        "id": "wzLutGn-P7mg",
        "colab": {
          "base_uri": "https://localhost:8080/"
        },
        "outputId": "d843424f-f67a-4d27-b917-071e5edc87b2"
      },
      "outputs": [
        {
          "output_type": "stream",
          "name": "stdout",
          "text": [
            "train_images.shape = (1000, 32, 32, 3), data-type = float32\n",
            "train_labels.shape = (1000,), data-type = float32\n"
          ]
        }
      ],
      "source": [
        "print('train_images.shape = {}, data-type = {}'.format(X_train.shape, X_train.dtype))\n",
        "print('train_labels.shape = {}, data-type = {}'.format(Y_train.shape, Y_train.dtype))\n",
        "\n",
        "#print('validation_images.shape = {}, data-type = {}'.format(X_val.shape, X_val.dtype))\n",
        "#print('validation_labels.shape = {}, data-type = {}'.format(Y_val.shape, Y_val.dtype))"
      ]
    },
    {
      "cell_type": "markdown",
      "metadata": {
        "id": "ynwzGIAneBbb"
      },
      "source": [
        "### Visualise examples from the dataset\n",
        "Run the cell below multiple times to see various images. (They might look a bit blurry because we've blown up the small images.)"
      ]
    },
    {
      "cell_type": "code",
      "execution_count": 15,
      "metadata": {
        "id": "8nMTxCOjd9WW",
        "colab": {
          "base_uri": "https://localhost:8080/",
          "height": 589
        },
        "outputId": "1c51b308-b1e1-432f-ba06-b747744bdb29"
      },
      "outputs": [
        {
          "output_type": "display_data",
          "data": {
            "text/plain": [
              "<Figure size 720x720 with 25 Axes>"
            ],
            "image/png": "[encoded data removed]"
          },
          "metadata": {}
        }
      ],
      "source": [
        "plt.figure(figsize=(10,10))\n",
        "for i in range(25):\n",
        "  plt.subplot(5,5,i+1)\n",
        "  plt.xticks([])\n",
        "  plt.yticks([])\n",
        "  plt.grid('off')\n",
        "\n",
        "  img_index = np.random.randint(0, 10000)\n",
        "  plt.imshow(train_images[img_index])\n",
        "  plt.xlabel(cifar_labels[train_labels[img_index]])"
      ]
    },
    {
      "cell_type": "markdown",
      "metadata": {
        "id": "wN-XUzp-fpyp"
      },
      "source": [
        "## A ConvNet Classifier\n",
        "Finally, we build a simple convolutional architecture to classify the CIFAR images. We will build a mini version of the AlexNet architecture, which consists of 5 convolutional layers with max-pooling, followed by 3 fully-connected layers at the end. In order to investigate the effect each of these two layers has on the number of parameters, we'll build the model in two stages. \n",
        "\n",
        "First, the convolutional layers + max-pooling:"
      ]
    },
    {
      "cell_type": "code",
      "execution_count": 16,
      "metadata": {
        "id": "q9zloewLws0b"
      },
      "outputs": [],
      "source": [
        "#@title Create Network, Haiku way\n",
        "import jax\n",
        "import haiku as hk\n",
        "#\n",
        "# create Haiku module\n",
        "#\n",
        "class ConvNetModule(hk.Module):\n",
        "\n",
        "  def __init__(self):      \n",
        "    \"\"\"\n",
        "    add some layers to the net\n",
        "    \"\"\"\n",
        "    super().__init__(name=\"ConvNetModule\")\n",
        "\n",
        "    # channels was 128. Reduced due to out of memory\n",
        "    self.conv1 = hk.Conv2D(output_channels=48, kernel_shape=(3,3), padding=\"SAME\")    \n",
        "    self.pool1 = hk.MaxPool(window_shape=(3,3),strides=(1,1),padding=\"SAME\")\n",
        "\n",
        "    # channels was 128. Reduced due to out of memory\n",
        "    self.conv2 = hk.Conv2D(output_channels=64, kernel_shape=(3,3), padding=\"SAME\")\n",
        "    self.pool2 = hk.MaxPool(window_shape=(3,3),strides=(1,1),padding=\"SAME\")\n",
        "    \n",
        "    # channels were 192,192,128. Reduced due to out of memory\n",
        "    self.conv3_1 = hk.Conv2D(output_channels=90, kernel_shape=(3,3), padding=\"SAME\")    \n",
        "    self.conv3_2 = hk.Conv2D(output_channels=90, kernel_shape=(3,3), padding=\"SAME\")    \n",
        "    self.conv3_3 = hk.Conv2D(output_channels=120, kernel_shape=(3,3), padding=\"SAME\")    \n",
        "    self.pool3 = hk.MaxPool(window_shape=(3,3),strides=(1,1),padding=\"SAME\")\n",
        "\n",
        "    self.flatten = hk.Flatten()\n",
        "    self.linear1 = hk.Linear(output_size=100) # was 1024\n",
        "    #self.dropout = hk.dropout(rate=0.5)\n",
        "\n",
        "    self.linear2 = hk.Linear(output_size=100) # was 1024, reduced due to OOM\n",
        "    self.linear3 = hk.Linear(output_size=len(classes))\n",
        "\n",
        "\n",
        "  def __call__(self, x_batch):\n",
        "    \"\"\"\n",
        "    apply the network to given inputs\n",
        "    \"\"\"\n",
        "\n",
        "    x = self.conv1(x_batch)\n",
        "    x = jax.nn.relu(x)\n",
        "    x = self.pool1(x)\n",
        "\n",
        "    x = self.conv2(x)\n",
        "    x = jax.nn.relu(x)\n",
        "    x = self.pool2(x)\n",
        "\n",
        "    x = self.conv3_1(x)\n",
        "    x = self.conv3_2(x)\n",
        "    x = self.conv3_3(x)\n",
        "    x = self.pool3(x)\n",
        "\n",
        "    x = self.flatten(x)\n",
        "    x = self.linear1(x)\n",
        "    \n",
        "    coin = hk.next_rng_key()\n",
        "    x = hk.dropout(coin,0.5,x)\n",
        "    x = jax.nn.relu(x)\n",
        "\n",
        "    x = self.linear2(x)\n",
        "    x = jax.nn.relu(x)\n",
        "\n",
        "    x = self.linear3(x)\n",
        "    x = jax.nn.softmax(x)\n",
        "\n",
        "    return x\n",
        "\n",
        "#\n",
        "# wrap it into a function\n",
        "#\n",
        "def cnn_fun(x):\n",
        "    cnn = ConvNetModule()\n",
        "    return cnn(x)\n",
        "\n",
        "#\n",
        "# transform into functional pair: init, apply\n",
        "#\n",
        "conv_net = hk.transform(cnn_fun) \n",
        "\n",
        "#\n",
        "# define the network loss\n",
        "#\n",
        "def cnn_loss(weights, input_data, actual):\n",
        "  preds = conv_net.apply(weights, rng, input_data)\n",
        "  one_hot_actual = jax.nn.one_hot(actual, num_classes=len(classes))\n",
        "  log_preds = jnp.log(preds)\n",
        "  return - jnp.sum(one_hot_actual * log_preds)\n",
        "\n",
        "#@title TODO translate this to Haiku\n",
        "\n",
        "# Define the convolutinal part of the model architecture using Keras Layers.\n",
        "#model = tf.keras.models.Sequential([\n",
        "#    tf.keras.layers.Conv2D(filters=48, kernel_size=(3, 3), activation=tf.nn.relu, input_shape=(32, 32, 3), padding='same'),\n",
        "#    tf.keras.layers.MaxPooling2D(pool_size=(3, 3)),\n",
        "#    tf.keras.layers.Conv2D(filters=128, kernel_size=(3, 3), activation=tf.nn.relu, padding='same'),\n",
        "#    tf.keras.layers.MaxPooling2D(pool_size=(3, 3)),\n",
        "#    tf.keras.layers.Conv2D(filters=192, kernel_size=(3, 3), activation=tf.nn.relu, padding='same'),\n",
        "#    tf.keras.layers.Conv2D(filters=192, kernel_size=(3, 3), activation=tf.nn.relu, padding='same'),\n",
        "#    tf.keras.layers.Conv2D(filters=128, kernel_size=(3, 3), activation=tf.nn.relu, padding='same'),\n",
        "#    tf.keras.layers.MaxPooling2D(pool_size=(3, 3)),\n",
        "#])\n",
        "#model.add(tf.keras.layers.Flatten())  # Flatten \"squeezes\" a 3-D volume down into a single vector.\n",
        "#model.add(tf.keras.layers.Dense(1024, activation=tf.nn.relu))\n",
        "#model.add(tf.keras.layers.Dropout(rate=0.5))\n",
        "#model.add(tf.keras.layers.Dense(1024, activation=tf.nn.relu))\n",
        "#model.add(tf.keras.layers.Dense(10, activation=tf.nn.softmax))"
      ]
    },
    {
      "cell_type": "code",
      "source": [
        "#@title Initialize\n",
        "\n",
        "rng = jax.random.PRNGKey(42)\n",
        "\n",
        "params = conv_net.init(rng, X_train[:5])\n",
        "\n",
        "print(\"Weights Type : {}\\n\".format(type(params)))\n",
        "\n",
        "for layer_name, weights in params.items():\n",
        "    print(layer_name)\n",
        "    print(\"Weights : {}, Biases : {}\\n\".format(params[layer_name][\"w\"].shape,params[layer_name][\"b\"].shape))"
      ],
      "metadata": {
        "colab": {
          "base_uri": "https://localhost:8080/"
        },
        "id": "bjTIEAwPIQo2",
        "outputId": "be7aac87-9cd0-46ed-f153-544894a11860"
      },
      "execution_count": 17,
      "outputs": [
        {
          "output_type": "stream",
          "name": "stdout",
          "text": [
            "Weights Type : <class 'dict'>\n",
            "\n",
            "ConvNetModule/~/conv2_d\n",
            "Weights : (3, 3, 3, 48), Biases : (48,)\n",
            "\n",
            "ConvNetModule/~/conv2_d_1\n",
            "Weights : (3, 3, 48, 64), Biases : (64,)\n",
            "\n",
            "ConvNetModule/~/conv2_d_2\n",
            "Weights : (3, 3, 64, 90), Biases : (90,)\n",
            "\n",
            "ConvNetModule/~/conv2_d_3\n",
            "Weights : (3, 3, 90, 90), Biases : (90,)\n",
            "\n",
            "ConvNetModule/~/conv2_d_4\n",
            "Weights : (3, 3, 90, 120), Biases : (120,)\n",
            "\n",
            "ConvNetModule/~/linear\n",
            "Weights : (122880, 100), Biases : (100,)\n",
            "\n",
            "ConvNetModule/~/linear_1\n",
            "Weights : (100, 100), Biases : (100,)\n",
            "\n",
            "ConvNetModule/~/linear_2\n",
            "Weights : (100, 10), Biases : (10,)\n",
            "\n"
          ]
        }
      ]
    },
    {
      "cell_type": "markdown",
      "metadata": {
        "id": "sbJAaisIgZyX"
      },
      "source": [
        "Now we add a fully-connected part. Note that we also add \"Dropout\" after the first fully-connected layer. Dropout is a regularization technique which randomly zeros out (\"drops\") connections between neurons, and it was one of the key innovations of the AlexNet paper in 2012."
      ]
    },
    {
      "cell_type": "markdown",
      "metadata": {
        "id": "5uzeJaMB7DPa"
      },
      "source": [
        "### Optional reading: initialization schemes"
      ]
    },
    {
      "cell_type": "markdown",
      "metadata": {
        "id": "AUBKcjfJ6gRs"
      },
      "source": [
        "You might have wondered what values we are using for the initial values of the weights and biases in our model. The short answer is that we typically use random initialization. In this case, we have just been using the default Keras initializers for each layer, which are usually sufficient.\n",
        "\n",
        "The longer answer is that just using completely random numbers does not always work best in practice and that there are a number of common initialization schemes (which are available in most deep learning frameworks such as TensorFlow and Keras).\n",
        "\n",
        "Let's consider a few examples:\n",
        "\n",
        " * When using the ReLU activation it is common to initialize the biases with small positive numbers because this encourages the ReLU activations to start off in the _on_ state, which helps to counteract the _dying ReLU problem_.\n",
        "\n",
        " * The deeper neural networks become the more likely it is that gradients will either shrink to the point that they vanish, or grow to the point that they overflow (the _vanishing_ and _exploding_ gradients problems). To help combat this we can initialize our weights to have a (model-specific) appropriate scale. One method for doing this is called [Xavier or Glorot](http://proceedings.mlr.press/v9/glorot10a/glorot10a.pdf) initialization.\n",
        "\n",
        " * The _Xavier_ initialization scheme was designed with the _traditional_ activations Sigmoid and TanH in mind and does not work as well for ReLU activations. An alternative is [He or Kaiming](https://arxiv.org/pdf/1502.01852.pdf) initialization which is a modification of Xavier initialization for ReLU activations.\n",
        "\n",
        " [This blog](http://andyljones.tumblr.com/post/110998971763/an-explanation-of-xavier-initialization) goes into more detail on _He_ and _Xavier_ initialization. [The Keras documentation](https://keras.io/initializers/) lists a number of common schemes. "
      ]
    },
    {
      "cell_type": "markdown",
      "metadata": {
        "id": "XFrH0OVORco2"
      },
      "source": [
        "### Training and Validating the model\n",
        "In the last practical we wrote out the dataset pipeline, loss function and training-loop to give you a good appreciation for how it works. This time, we use the training loop built-in to Keras. For simple, standard datasets like CIFAR, doing it this way will work fine, but it's important to know what goes on under the hood because you may need to write some or all of the steps out manually when working with more complex datasets! "
      ]
    },
    {
      "cell_type": "code",
      "source": [
        "from jax import random as jrand\n",
        "from jax.numpy import linalg as jla\n",
        "import optax\n",
        "\n",
        "def train_cnn_haiku(X, y, model, loss_fun, stepsize=1e-4,tolerance=1e-4,epochs=25, batch_size=200, seed=42):\n",
        "  \"\"\"\n",
        "  optimization using Optax\n",
        "  :param X: reference inputs\n",
        "  :param y: reference output\n",
        "  :param fun: cost function \n",
        "  :param grad: gradient of the cost function\n",
        "  \"\"\"\n",
        "  #\n",
        "  # create optimizer\n",
        "  # this guy defines how to update the parameters in each iteration\n",
        "  #\n",
        "  optimizer = optax.adam(stepsize) # TRY other optimizers and stepsizes!! optax.adam\n",
        "  #\n",
        "  # initialization\n",
        "  #\n",
        "  rng = jrand.PRNGKey(seed)\n",
        "  rng, init_rng = jrand.split(rng)\n",
        "  theta_t       = model.init(init_rng, X)\n",
        "  state_t       = optimizer.init(theta_t)\n",
        "  \n",
        "  nsamples = X.shape[0]\n",
        "  indexes = jnp.arange(nsamples)\n",
        "  nbatch   = 10*(nsamples // batch_size) # random samples with reposition\n",
        "  print('total number of samples:',nsamples)\n",
        "  print('batch size:',batch_size)\n",
        "  print('samples per batch:',nbatch)\n",
        "\n",
        "  theta_history = list()\n",
        "  loss_history  = list()\n",
        "  #\n",
        "  # epochs\n",
        "  #\n",
        "  for t in range(epochs):\n",
        "    #\n",
        "    # perform a number of batches\n",
        "    #\n",
        "    batch_losses = list()\n",
        "    for i in range(nbatch):\n",
        "      #\n",
        "      # samples a batch with reposition\n",
        "      #\n",
        "      key,subkey = jrand.split(rng)\n",
        "      batch_idx = jrand.choice(key,indexes,shape=[batch_size])\n",
        "      X_batch = X_train[batch_idx,:]\n",
        "      Y_batch = Y_train[batch_idx]\n",
        "      del batch_idx\n",
        "      #\n",
        "      # store current iterate\n",
        "      #\n",
        "      loss_t, grad_t  = jax.value_and_grad(loss_fun)(theta_t, X_batch, Y_batch)\n",
        "      theta_history.append(theta_t)\n",
        "      loss_history.append(loss_t)\n",
        "      #\n",
        "      # update iterate\n",
        "      #\n",
        "      update_t, state_t = optimizer.update(grad_t, state_t) \n",
        "      theta_t = optax.apply_updates(theta_t, update_t) \n",
        "      #params = jax.tree_map(UpdateWeights, params, param_grads) ## Update Params\n",
        "      print('batch loss:',loss_t)\n",
        "    mean_loss = np.mean(np.array(loss_history))\n",
        "    batch_losses.append(mean_loss)\n",
        "    print('epoch loss:',mean_loss)\n",
        "\n",
        "\n",
        "    #\n",
        "    # update solution (here comes Optax)\n",
        "    #\n",
        "\n",
        "  return theta_history,loss_history\n",
        "\n",
        "\n",
        "theta_history,loss_history = train_cnn_haiku(X_train, Y_train, conv_net, cnn_loss, stepsize=1e-2)\n",
        "\n",
        "#plot_trajectory(params,losses,norms)\n",
        "    \n"
      ],
      "metadata": {
        "colab": {
          "base_uri": "https://localhost:8080/",
          "height": 1000
        },
        "id": "Q83gS5PJUEDA",
        "outputId": "3459995c-1762-4529-cb72-6a1ea320510d"
      },
      "execution_count": 18,
      "outputs": [
        {
          "output_type": "error",
          "ename": "XlaRuntimeError",
          "evalue": "ignored",
          "traceback": [
            "\u001b[0;31m---------------------------------------------------------------------------\u001b[0m",
            "\u001b[0;31mXlaRuntimeError\u001b[0m                           Traceback (most recent call last)",
            "\u001b[0;32m<ipython-input-18-86eaad2d8acc>\u001b[0m in \u001b[0;36m<module>\u001b[0;34m\u001b[0m\n\u001b[1;32m     75\u001b[0m \u001b[0;34m\u001b[0m\u001b[0m\n\u001b[1;32m     76\u001b[0m \u001b[0;34m\u001b[0m\u001b[0m\n\u001b[0;32m---> 77\u001b[0;31m \u001b[0mtheta_history\u001b[0m\u001b[0;34m,\u001b[0m\u001b[0mloss_history\u001b[0m \u001b[0;34m=\u001b[0m \u001b[0mtrain_cnn_haiku\u001b[0m\u001b[0;34m(\u001b[0m\u001b[0mX_train\u001b[0m\u001b[0;34m,\u001b[0m \u001b[0mY_train\u001b[0m\u001b[0;34m,\u001b[0m \u001b[0mconv_net\u001b[0m\u001b[0;34m,\u001b[0m \u001b[0mcnn_loss\u001b[0m\u001b[0;34m,\u001b[0m \u001b[0mstepsize\u001b[0m\u001b[0;34m=\u001b[0m\u001b[0;36m1e-2\u001b[0m\u001b[0;34m)\u001b[0m\u001b[0;34m\u001b[0m\u001b[0;34m\u001b[0m\u001b[0m\n\u001b[0m\u001b[1;32m     78\u001b[0m \u001b[0;34m\u001b[0m\u001b[0m\n\u001b[1;32m     79\u001b[0m \u001b[0;31m#plot_trajectory(params,losses,norms)\u001b[0m\u001b[0;34m\u001b[0m\u001b[0;34m\u001b[0m\u001b[0;34m\u001b[0m\u001b[0m\n",
            "\u001b[0;32m<ipython-input-18-86eaad2d8acc>\u001b[0m in \u001b[0;36mtrain_cnn_haiku\u001b[0;34m(X, y, model, loss_fun, stepsize, tolerance, epochs, batch_size, seed)\u001b[0m\n\u001b[1;32m     21\u001b[0m   \u001b[0mrng\u001b[0m \u001b[0;34m=\u001b[0m \u001b[0mjrand\u001b[0m\u001b[0;34m.\u001b[0m\u001b[0mPRNGKey\u001b[0m\u001b[0;34m(\u001b[0m\u001b[0mseed\u001b[0m\u001b[0;34m)\u001b[0m\u001b[0;34m\u001b[0m\u001b[0;34m\u001b[0m\u001b[0m\n\u001b[1;32m     22\u001b[0m   \u001b[0mrng\u001b[0m\u001b[0;34m,\u001b[0m \u001b[0minit_rng\u001b[0m \u001b[0;34m=\u001b[0m \u001b[0mjrand\u001b[0m\u001b[0;34m.\u001b[0m\u001b[0msplit\u001b[0m\u001b[0;34m(\u001b[0m\u001b[0mrng\u001b[0m\u001b[0;34m)\u001b[0m\u001b[0;34m\u001b[0m\u001b[0;34m\u001b[0m\u001b[0m\n\u001b[0;32m---> 23\u001b[0;31m   \u001b[0mtheta_t\u001b[0m       \u001b[0;34m=\u001b[0m \u001b[0mmodel\u001b[0m\u001b[0;34m.\u001b[0m\u001b[0minit\u001b[0m\u001b[0;34m(\u001b[0m\u001b[0minit_rng\u001b[0m\u001b[0;34m,\u001b[0m \u001b[0mX\u001b[0m\u001b[0;34m)\u001b[0m\u001b[0;34m\u001b[0m\u001b[0;34m\u001b[0m\u001b[0m\n\u001b[0m\u001b[1;32m     24\u001b[0m   \u001b[0mstate_t\u001b[0m       \u001b[0;34m=\u001b[0m \u001b[0moptimizer\u001b[0m\u001b[0;34m.\u001b[0m\u001b[0minit\u001b[0m\u001b[0;34m(\u001b[0m\u001b[0mtheta_t\u001b[0m\u001b[0;34m)\u001b[0m\u001b[0;34m\u001b[0m\u001b[0;34m\u001b[0m\u001b[0m\n\u001b[1;32m     25\u001b[0m \u001b[0;34m\u001b[0m\u001b[0m\n",
            "\u001b[0;32m/usr/local/lib/python3.7/dist-packages/haiku/_src/transform.py\u001b[0m in \u001b[0;36minit_fn\u001b[0;34m(*args, **kwargs)\u001b[0m\n\u001b[1;32m    112\u001b[0m \u001b[0;34m\u001b[0m\u001b[0m\n\u001b[1;32m    113\u001b[0m   \u001b[0;32mdef\u001b[0m \u001b[0minit_fn\u001b[0m\u001b[0;34m(\u001b[0m\u001b[0;34m*\u001b[0m\u001b[0margs\u001b[0m\u001b[0;34m,\u001b[0m \u001b[0;34m**\u001b[0m\u001b[0mkwargs\u001b[0m\u001b[0;34m)\u001b[0m\u001b[0;34m:\u001b[0m\u001b[0;34m\u001b[0m\u001b[0;34m\u001b[0m\u001b[0m\n\u001b[0;32m--> 114\u001b[0;31m     \u001b[0mparams\u001b[0m\u001b[0;34m,\u001b[0m \u001b[0mstate\u001b[0m \u001b[0;34m=\u001b[0m \u001b[0mf\u001b[0m\u001b[0;34m.\u001b[0m\u001b[0minit\u001b[0m\u001b[0;34m(\u001b[0m\u001b[0;34m*\u001b[0m\u001b[0margs\u001b[0m\u001b[0;34m,\u001b[0m \u001b[0;34m**\u001b[0m\u001b[0mkwargs\u001b[0m\u001b[0;34m)\u001b[0m\u001b[0;34m\u001b[0m\u001b[0;34m\u001b[0m\u001b[0m\n\u001b[0m\u001b[1;32m    115\u001b[0m     \u001b[0;32mif\u001b[0m \u001b[0mstate\u001b[0m\u001b[0;34m:\u001b[0m\u001b[0;34m\u001b[0m\u001b[0;34m\u001b[0m\u001b[0m\n\u001b[1;32m    116\u001b[0m       raise ValueError(\"If your transformed function uses `hk.{get,set}_state` \"\n",
            "\u001b[0;32m/usr/local/lib/python3.7/dist-packages/haiku/_src/transform.py\u001b[0m in \u001b[0;36minit_fn\u001b[0;34m(rng, *args, **kwargs)\u001b[0m\n\u001b[1;32m    336\u001b[0m     \u001b[0;32mwith\u001b[0m \u001b[0mbase\u001b[0m\u001b[0;34m.\u001b[0m\u001b[0mnew_context\u001b[0m\u001b[0;34m(\u001b[0m\u001b[0mrng\u001b[0m\u001b[0;34m=\u001b[0m\u001b[0mrng\u001b[0m\u001b[0;34m)\u001b[0m \u001b[0;32mas\u001b[0m \u001b[0mctx\u001b[0m\u001b[0;34m:\u001b[0m\u001b[0;34m\u001b[0m\u001b[0;34m\u001b[0m\u001b[0m\n\u001b[1;32m    337\u001b[0m       \u001b[0;32mtry\u001b[0m\u001b[0;34m:\u001b[0m\u001b[0;34m\u001b[0m\u001b[0;34m\u001b[0m\u001b[0m\n\u001b[0;32m--> 338\u001b[0;31m         \u001b[0mf\u001b[0m\u001b[0;34m(\u001b[0m\u001b[0;34m*\u001b[0m\u001b[0margs\u001b[0m\u001b[0;34m,\u001b[0m \u001b[0;34m**\u001b[0m\u001b[0mkwargs\u001b[0m\u001b[0;34m)\u001b[0m\u001b[0;34m\u001b[0m\u001b[0;34m\u001b[0m\u001b[0m\n\u001b[0m\u001b[1;32m    339\u001b[0m       \u001b[0;32mexcept\u001b[0m \u001b[0mjax\u001b[0m\u001b[0;34m.\u001b[0m\u001b[0merrors\u001b[0m\u001b[0;34m.\u001b[0m\u001b[0mUnexpectedTracerError\u001b[0m \u001b[0;32mas\u001b[0m \u001b[0me\u001b[0m\u001b[0;34m:\u001b[0m\u001b[0;34m\u001b[0m\u001b[0;34m\u001b[0m\u001b[0m\n\u001b[1;32m    340\u001b[0m         \u001b[0;32mraise\u001b[0m \u001b[0mjax\u001b[0m\u001b[0;34m.\u001b[0m\u001b[0merrors\u001b[0m\u001b[0;34m.\u001b[0m\u001b[0mUnexpectedTracerError\u001b[0m\u001b[0;34m(\u001b[0m\u001b[0munexpected_tracer_hint\u001b[0m\u001b[0;34m)\u001b[0m \u001b[0;32mfrom\u001b[0m \u001b[0me\u001b[0m\u001b[0;34m\u001b[0m\u001b[0;34m\u001b[0m\u001b[0m\n",
            "\u001b[0;32m<ipython-input-16-625791ed4bff>\u001b[0m in \u001b[0;36mcnn_fun\u001b[0;34m(x)\u001b[0m\n\u001b[1;32m     73\u001b[0m \u001b[0;32mdef\u001b[0m \u001b[0mcnn_fun\u001b[0m\u001b[0;34m(\u001b[0m\u001b[0mx\u001b[0m\u001b[0;34m)\u001b[0m\u001b[0;34m:\u001b[0m\u001b[0;34m\u001b[0m\u001b[0;34m\u001b[0m\u001b[0m\n\u001b[1;32m     74\u001b[0m     \u001b[0mcnn\u001b[0m \u001b[0;34m=\u001b[0m \u001b[0mConvNetModule\u001b[0m\u001b[0;34m(\u001b[0m\u001b[0;34m)\u001b[0m\u001b[0;34m\u001b[0m\u001b[0;34m\u001b[0m\u001b[0m\n\u001b[0;32m---> 75\u001b[0;31m     \u001b[0;32mreturn\u001b[0m \u001b[0mcnn\u001b[0m\u001b[0;34m(\u001b[0m\u001b[0mx\u001b[0m\u001b[0;34m)\u001b[0m\u001b[0;34m\u001b[0m\u001b[0;34m\u001b[0m\u001b[0m\n\u001b[0m\u001b[1;32m     76\u001b[0m \u001b[0;34m\u001b[0m\u001b[0m\n\u001b[1;32m     77\u001b[0m \u001b[0;31m#\u001b[0m\u001b[0;34m\u001b[0m\u001b[0;34m\u001b[0m\u001b[0;34m\u001b[0m\u001b[0m\n",
            "\u001b[0;32m/usr/local/lib/python3.7/dist-packages/haiku/_src/module.py\u001b[0m in \u001b[0;36mwrapped\u001b[0;34m(self, *args, **kwargs)\u001b[0m\n\u001b[1;32m    432\u001b[0m           \u001b[0mf\u001b[0m \u001b[0;34m=\u001b[0m \u001b[0mstateful\u001b[0m\u001b[0;34m.\u001b[0m\u001b[0mnamed_call\u001b[0m\u001b[0;34m(\u001b[0m\u001b[0mf\u001b[0m\u001b[0;34m,\u001b[0m \u001b[0mname\u001b[0m\u001b[0;34m=\u001b[0m\u001b[0mlocal_module_name\u001b[0m\u001b[0;34m)\u001b[0m\u001b[0;34m\u001b[0m\u001b[0;34m\u001b[0m\u001b[0m\n\u001b[1;32m    433\u001b[0m \u001b[0;34m\u001b[0m\u001b[0m\n\u001b[0;32m--> 434\u001b[0;31m       \u001b[0mout\u001b[0m \u001b[0;34m=\u001b[0m \u001b[0mf\u001b[0m\u001b[0;34m(\u001b[0m\u001b[0;34m*\u001b[0m\u001b[0margs\u001b[0m\u001b[0;34m,\u001b[0m \u001b[0;34m**\u001b[0m\u001b[0mkwargs\u001b[0m\u001b[0;34m)\u001b[0m\u001b[0;34m\u001b[0m\u001b[0;34m\u001b[0m\u001b[0m\n\u001b[0m\u001b[1;32m    435\u001b[0m \u001b[0;34m\u001b[0m\u001b[0m\n\u001b[1;32m    436\u001b[0m       \u001b[0;31m# Module names are set in the constructor. If `f` is the constructor then\u001b[0m\u001b[0;34m\u001b[0m\u001b[0;34m\u001b[0m\u001b[0;34m\u001b[0m\u001b[0m\n",
            "\u001b[0;32m/usr/lib/python3.7/contextlib.py\u001b[0m in \u001b[0;36minner\u001b[0;34m(*args, **kwds)\u001b[0m\n\u001b[1;32m     72\u001b[0m         \u001b[0;32mdef\u001b[0m \u001b[0minner\u001b[0m\u001b[0;34m(\u001b[0m\u001b[0;34m*\u001b[0m\u001b[0margs\u001b[0m\u001b[0;34m,\u001b[0m \u001b[0;34m**\u001b[0m\u001b[0mkwds\u001b[0m\u001b[0;34m)\u001b[0m\u001b[0;34m:\u001b[0m\u001b[0;34m\u001b[0m\u001b[0;34m\u001b[0m\u001b[0m\n\u001b[1;32m     73\u001b[0m             \u001b[0;32mwith\u001b[0m \u001b[0mself\u001b[0m\u001b[0;34m.\u001b[0m\u001b[0m_recreate_cm\u001b[0m\u001b[0;34m(\u001b[0m\u001b[0;34m)\u001b[0m\u001b[0;34m:\u001b[0m\u001b[0;34m\u001b[0m\u001b[0;34m\u001b[0m\u001b[0m\n\u001b[0;32m---> 74\u001b[0;31m                 \u001b[0;32mreturn\u001b[0m \u001b[0mfunc\u001b[0m\u001b[0;34m(\u001b[0m\u001b[0;34m*\u001b[0m\u001b[0margs\u001b[0m\u001b[0;34m,\u001b[0m \u001b[0;34m**\u001b[0m\u001b[0mkwds\u001b[0m\u001b[0;34m)\u001b[0m\u001b[0;34m\u001b[0m\u001b[0;34m\u001b[0m\u001b[0m\n\u001b[0m\u001b[1;32m     75\u001b[0m         \u001b[0;32mreturn\u001b[0m \u001b[0minner\u001b[0m\u001b[0;34m\u001b[0m\u001b[0;34m\u001b[0m\u001b[0m\n\u001b[1;32m     76\u001b[0m \u001b[0;34m\u001b[0m\u001b[0m\n",
            "\u001b[0;32m/usr/local/lib/python3.7/dist-packages/haiku/_src/module.py\u001b[0m in \u001b[0;36mrun_interceptors\u001b[0;34m(bound_method, method_name, self, *args, **kwargs)\u001b[0m\n\u001b[1;32m    271\u001b[0m   \u001b[0;34m\"\"\"Runs any method interceptors or the original method.\"\"\"\u001b[0m\u001b[0;34m\u001b[0m\u001b[0;34m\u001b[0m\u001b[0m\n\u001b[1;32m    272\u001b[0m   \u001b[0;32mif\u001b[0m \u001b[0;32mnot\u001b[0m \u001b[0minterceptor_stack\u001b[0m\u001b[0;34m:\u001b[0m\u001b[0;34m\u001b[0m\u001b[0;34m\u001b[0m\u001b[0m\n\u001b[0;32m--> 273\u001b[0;31m     \u001b[0;32mreturn\u001b[0m \u001b[0mbound_method\u001b[0m\u001b[0;34m(\u001b[0m\u001b[0;34m*\u001b[0m\u001b[0margs\u001b[0m\u001b[0;34m,\u001b[0m \u001b[0;34m**\u001b[0m\u001b[0mkwargs\u001b[0m\u001b[0;34m)\u001b[0m\u001b[0;34m\u001b[0m\u001b[0;34m\u001b[0m\u001b[0m\n\u001b[0m\u001b[1;32m    274\u001b[0m \u001b[0;34m\u001b[0m\u001b[0m\n\u001b[1;32m    275\u001b[0m   ctx = MethodContext(module=self,\n",
            "\u001b[0;32m<ipython-input-16-625791ed4bff>\u001b[0m in \u001b[0;36m__call__\u001b[0;34m(self, x_batch)\u001b[0m\n\u001b[1;32m     50\u001b[0m     \u001b[0mx\u001b[0m \u001b[0;34m=\u001b[0m \u001b[0mself\u001b[0m\u001b[0;34m.\u001b[0m\u001b[0mconv3_1\u001b[0m\u001b[0;34m(\u001b[0m\u001b[0mx\u001b[0m\u001b[0;34m)\u001b[0m\u001b[0;34m\u001b[0m\u001b[0;34m\u001b[0m\u001b[0m\n\u001b[1;32m     51\u001b[0m     \u001b[0mx\u001b[0m \u001b[0;34m=\u001b[0m \u001b[0mself\u001b[0m\u001b[0;34m.\u001b[0m\u001b[0mconv3_2\u001b[0m\u001b[0;34m(\u001b[0m\u001b[0mx\u001b[0m\u001b[0;34m)\u001b[0m\u001b[0;34m\u001b[0m\u001b[0;34m\u001b[0m\u001b[0m\n\u001b[0;32m---> 52\u001b[0;31m     \u001b[0mx\u001b[0m \u001b[0;34m=\u001b[0m \u001b[0mself\u001b[0m\u001b[0;34m.\u001b[0m\u001b[0mconv3_3\u001b[0m\u001b[0;34m(\u001b[0m\u001b[0mx\u001b[0m\u001b[0;34m)\u001b[0m\u001b[0;34m\u001b[0m\u001b[0;34m\u001b[0m\u001b[0m\n\u001b[0m\u001b[1;32m     53\u001b[0m     \u001b[0mx\u001b[0m \u001b[0;34m=\u001b[0m \u001b[0mself\u001b[0m\u001b[0;34m.\u001b[0m\u001b[0mpool3\u001b[0m\u001b[0;34m(\u001b[0m\u001b[0mx\u001b[0m\u001b[0;34m)\u001b[0m\u001b[0;34m\u001b[0m\u001b[0;34m\u001b[0m\u001b[0m\n\u001b[1;32m     54\u001b[0m \u001b[0;34m\u001b[0m\u001b[0m\n",
            "\u001b[0;32m/usr/local/lib/python3.7/dist-packages/haiku/_src/module.py\u001b[0m in \u001b[0;36mwrapped\u001b[0;34m(self, *args, **kwargs)\u001b[0m\n\u001b[1;32m    432\u001b[0m           \u001b[0mf\u001b[0m \u001b[0;34m=\u001b[0m \u001b[0mstateful\u001b[0m\u001b[0;34m.\u001b[0m\u001b[0mnamed_call\u001b[0m\u001b[0;34m(\u001b[0m\u001b[0mf\u001b[0m\u001b[0;34m,\u001b[0m \u001b[0mname\u001b[0m\u001b[0;34m=\u001b[0m\u001b[0mlocal_module_name\u001b[0m\u001b[0;34m)\u001b[0m\u001b[0;34m\u001b[0m\u001b[0;34m\u001b[0m\u001b[0m\n\u001b[1;32m    433\u001b[0m \u001b[0;34m\u001b[0m\u001b[0m\n\u001b[0;32m--> 434\u001b[0;31m       \u001b[0mout\u001b[0m \u001b[0;34m=\u001b[0m \u001b[0mf\u001b[0m\u001b[0;34m(\u001b[0m\u001b[0;34m*\u001b[0m\u001b[0margs\u001b[0m\u001b[0;34m,\u001b[0m \u001b[0;34m**\u001b[0m\u001b[0mkwargs\u001b[0m\u001b[0;34m)\u001b[0m\u001b[0;34m\u001b[0m\u001b[0;34m\u001b[0m\u001b[0m\n\u001b[0m\u001b[1;32m    435\u001b[0m \u001b[0;34m\u001b[0m\u001b[0m\n\u001b[1;32m    436\u001b[0m       \u001b[0;31m# Module names are set in the constructor. If `f` is the constructor then\u001b[0m\u001b[0;34m\u001b[0m\u001b[0;34m\u001b[0m\u001b[0;34m\u001b[0m\u001b[0m\n",
            "\u001b[0;32m/usr/lib/python3.7/contextlib.py\u001b[0m in \u001b[0;36minner\u001b[0;34m(*args, **kwds)\u001b[0m\n\u001b[1;32m     72\u001b[0m         \u001b[0;32mdef\u001b[0m \u001b[0minner\u001b[0m\u001b[0;34m(\u001b[0m\u001b[0;34m*\u001b[0m\u001b[0margs\u001b[0m\u001b[0;34m,\u001b[0m \u001b[0;34m**\u001b[0m\u001b[0mkwds\u001b[0m\u001b[0;34m)\u001b[0m\u001b[0;34m:\u001b[0m\u001b[0;34m\u001b[0m\u001b[0;34m\u001b[0m\u001b[0m\n\u001b[1;32m     73\u001b[0m             \u001b[0;32mwith\u001b[0m \u001b[0mself\u001b[0m\u001b[0;34m.\u001b[0m\u001b[0m_recreate_cm\u001b[0m\u001b[0;34m(\u001b[0m\u001b[0;34m)\u001b[0m\u001b[0;34m:\u001b[0m\u001b[0;34m\u001b[0m\u001b[0;34m\u001b[0m\u001b[0m\n\u001b[0;32m---> 74\u001b[0;31m                 \u001b[0;32mreturn\u001b[0m \u001b[0mfunc\u001b[0m\u001b[0;34m(\u001b[0m\u001b[0;34m*\u001b[0m\u001b[0margs\u001b[0m\u001b[0;34m,\u001b[0m \u001b[0;34m**\u001b[0m\u001b[0mkwds\u001b[0m\u001b[0;34m)\u001b[0m\u001b[0;34m\u001b[0m\u001b[0;34m\u001b[0m\u001b[0m\n\u001b[0m\u001b[1;32m     75\u001b[0m         \u001b[0;32mreturn\u001b[0m \u001b[0minner\u001b[0m\u001b[0;34m\u001b[0m\u001b[0;34m\u001b[0m\u001b[0m\n\u001b[1;32m     76\u001b[0m \u001b[0;34m\u001b[0m\u001b[0m\n",
            "\u001b[0;32m/usr/local/lib/python3.7/dist-packages/haiku/_src/module.py\u001b[0m in \u001b[0;36mrun_interceptors\u001b[0;34m(bound_method, method_name, self, *args, **kwargs)\u001b[0m\n\u001b[1;32m    271\u001b[0m   \u001b[0;34m\"\"\"Runs any method interceptors or the original method.\"\"\"\u001b[0m\u001b[0;34m\u001b[0m\u001b[0;34m\u001b[0m\u001b[0m\n\u001b[1;32m    272\u001b[0m   \u001b[0;32mif\u001b[0m \u001b[0;32mnot\u001b[0m \u001b[0minterceptor_stack\u001b[0m\u001b[0;34m:\u001b[0m\u001b[0;34m\u001b[0m\u001b[0;34m\u001b[0m\u001b[0m\n\u001b[0;32m--> 273\u001b[0;31m     \u001b[0;32mreturn\u001b[0m \u001b[0mbound_method\u001b[0m\u001b[0;34m(\u001b[0m\u001b[0;34m*\u001b[0m\u001b[0margs\u001b[0m\u001b[0;34m,\u001b[0m \u001b[0;34m**\u001b[0m\u001b[0mkwargs\u001b[0m\u001b[0;34m)\u001b[0m\u001b[0;34m\u001b[0m\u001b[0;34m\u001b[0m\u001b[0m\n\u001b[0m\u001b[1;32m    274\u001b[0m \u001b[0;34m\u001b[0m\u001b[0m\n\u001b[1;32m    275\u001b[0m   ctx = MethodContext(module=self,\n",
            "\u001b[0;32m/usr/local/lib/python3.7/dist-packages/haiku/_src/conv.py\u001b[0m in \u001b[0;36m__call__\u001b[0;34m(self, inputs, precision)\u001b[0m\n\u001b[1;32m    211\u001b[0m                                    \u001b[0mdimension_numbers\u001b[0m\u001b[0;34m=\u001b[0m\u001b[0mself\u001b[0m\u001b[0;34m.\u001b[0m\u001b[0mdimension_numbers\u001b[0m\u001b[0;34m,\u001b[0m\u001b[0;34m\u001b[0m\u001b[0;34m\u001b[0m\u001b[0m\n\u001b[1;32m    212\u001b[0m                                    \u001b[0mfeature_group_count\u001b[0m\u001b[0;34m=\u001b[0m\u001b[0mself\u001b[0m\u001b[0;34m.\u001b[0m\u001b[0mfeature_group_count\u001b[0m\u001b[0;34m,\u001b[0m\u001b[0;34m\u001b[0m\u001b[0;34m\u001b[0m\u001b[0m\n\u001b[0;32m--> 213\u001b[0;31m                                    precision=precision)\n\u001b[0m\u001b[1;32m    214\u001b[0m \u001b[0;34m\u001b[0m\u001b[0m\n\u001b[1;32m    215\u001b[0m     \u001b[0;32mif\u001b[0m \u001b[0mself\u001b[0m\u001b[0;34m.\u001b[0m\u001b[0mwith_bias\u001b[0m\u001b[0;34m:\u001b[0m\u001b[0;34m\u001b[0m\u001b[0;34m\u001b[0m\u001b[0m\n",
            "\u001b[0;32m/usr/local/lib/python3.7/dist-packages/jax/_src/lax/convolution.py\u001b[0m in \u001b[0;36mconv_general_dilated\u001b[0;34m(lhs, rhs, window_strides, padding, lhs_dilation, rhs_dilation, dimension_numbers, feature_group_count, batch_group_count, precision, preferred_element_type)\u001b[0m\n\u001b[1;32m    163\u001b[0m       \u001b[0mlhs_shape\u001b[0m\u001b[0;34m=\u001b[0m\u001b[0mlhs\u001b[0m\u001b[0;34m.\u001b[0m\u001b[0mshape\u001b[0m\u001b[0;34m,\u001b[0m \u001b[0mrhs_shape\u001b[0m\u001b[0;34m=\u001b[0m\u001b[0mrhs\u001b[0m\u001b[0;34m.\u001b[0m\u001b[0mshape\u001b[0m\u001b[0;34m,\u001b[0m\u001b[0;34m\u001b[0m\u001b[0;34m\u001b[0m\u001b[0m\n\u001b[1;32m    164\u001b[0m       \u001b[0mprecision\u001b[0m\u001b[0;34m=\u001b[0m\u001b[0mlax\u001b[0m\u001b[0;34m.\u001b[0m\u001b[0mcanonicalize_precision\u001b[0m\u001b[0;34m(\u001b[0m\u001b[0mprecision\u001b[0m\u001b[0;34m)\u001b[0m\u001b[0;34m,\u001b[0m\u001b[0;34m\u001b[0m\u001b[0;34m\u001b[0m\u001b[0m\n\u001b[0;32m--> 165\u001b[0;31m       preferred_element_type=preferred_element_type)\n\u001b[0m\u001b[1;32m    166\u001b[0m \u001b[0;34m\u001b[0m\u001b[0m\n\u001b[1;32m    167\u001b[0m \u001b[0;34m\u001b[0m\u001b[0m\n",
            "\u001b[0;32m/usr/local/lib/python3.7/dist-packages/jax/core.py\u001b[0m in \u001b[0;36mbind\u001b[0;34m(self, *args, **params)\u001b[0m\n\u001b[1;32m    326\u001b[0m     assert (not config.jax_enable_checks or\n\u001b[1;32m    327\u001b[0m             all(isinstance(arg, Tracer) or valid_jaxtype(arg) for arg in args)), args\n\u001b[0;32m--> 328\u001b[0;31m     \u001b[0;32mreturn\u001b[0m \u001b[0mself\u001b[0m\u001b[0;34m.\u001b[0m\u001b[0mbind_with_trace\u001b[0m\u001b[0;34m(\u001b[0m\u001b[0mfind_top_trace\u001b[0m\u001b[0;34m(\u001b[0m\u001b[0margs\u001b[0m\u001b[0;34m)\u001b[0m\u001b[0;34m,\u001b[0m \u001b[0margs\u001b[0m\u001b[0;34m,\u001b[0m \u001b[0mparams\u001b[0m\u001b[0;34m)\u001b[0m\u001b[0;34m\u001b[0m\u001b[0;34m\u001b[0m\u001b[0m\n\u001b[0m\u001b[1;32m    329\u001b[0m \u001b[0;34m\u001b[0m\u001b[0m\n\u001b[1;32m    330\u001b[0m   \u001b[0;32mdef\u001b[0m \u001b[0mbind_with_trace\u001b[0m\u001b[0;34m(\u001b[0m\u001b[0mself\u001b[0m\u001b[0;34m,\u001b[0m \u001b[0mtrace\u001b[0m\u001b[0;34m,\u001b[0m \u001b[0margs\u001b[0m\u001b[0;34m,\u001b[0m \u001b[0mparams\u001b[0m\u001b[0;34m)\u001b[0m\u001b[0;34m:\u001b[0m\u001b[0;34m\u001b[0m\u001b[0;34m\u001b[0m\u001b[0m\n",
            "\u001b[0;32m/usr/local/lib/python3.7/dist-packages/jax/core.py\u001b[0m in \u001b[0;36mbind_with_trace\u001b[0;34m(self, trace, args, params)\u001b[0m\n\u001b[1;32m    329\u001b[0m \u001b[0;34m\u001b[0m\u001b[0m\n\u001b[1;32m    330\u001b[0m   \u001b[0;32mdef\u001b[0m \u001b[0mbind_with_trace\u001b[0m\u001b[0;34m(\u001b[0m\u001b[0mself\u001b[0m\u001b[0;34m,\u001b[0m \u001b[0mtrace\u001b[0m\u001b[0;34m,\u001b[0m \u001b[0margs\u001b[0m\u001b[0;34m,\u001b[0m \u001b[0mparams\u001b[0m\u001b[0;34m)\u001b[0m\u001b[0;34m:\u001b[0m\u001b[0;34m\u001b[0m\u001b[0;34m\u001b[0m\u001b[0m\n\u001b[0;32m--> 331\u001b[0;31m     \u001b[0mout\u001b[0m \u001b[0;34m=\u001b[0m \u001b[0mtrace\u001b[0m\u001b[0;34m.\u001b[0m\u001b[0mprocess_primitive\u001b[0m\u001b[0;34m(\u001b[0m\u001b[0mself\u001b[0m\u001b[0;34m,\u001b[0m \u001b[0mmap\u001b[0m\u001b[0;34m(\u001b[0m\u001b[0mtrace\u001b[0m\u001b[0;34m.\u001b[0m\u001b[0mfull_raise\u001b[0m\u001b[0;34m,\u001b[0m \u001b[0margs\u001b[0m\u001b[0;34m)\u001b[0m\u001b[0;34m,\u001b[0m \u001b[0mparams\u001b[0m\u001b[0;34m)\u001b[0m\u001b[0;34m\u001b[0m\u001b[0;34m\u001b[0m\u001b[0m\n\u001b[0m\u001b[1;32m    332\u001b[0m     \u001b[0;32mreturn\u001b[0m \u001b[0mmap\u001b[0m\u001b[0;34m(\u001b[0m\u001b[0mfull_lower\u001b[0m\u001b[0;34m,\u001b[0m \u001b[0mout\u001b[0m\u001b[0;34m)\u001b[0m \u001b[0;32mif\u001b[0m \u001b[0mself\u001b[0m\u001b[0;34m.\u001b[0m\u001b[0mmultiple_results\u001b[0m \u001b[0;32melse\u001b[0m \u001b[0mfull_lower\u001b[0m\u001b[0;34m(\u001b[0m\u001b[0mout\u001b[0m\u001b[0;34m)\u001b[0m\u001b[0;34m\u001b[0m\u001b[0;34m\u001b[0m\u001b[0m\n\u001b[1;32m    333\u001b[0m \u001b[0;34m\u001b[0m\u001b[0m\n",
            "\u001b[0;32m/usr/local/lib/python3.7/dist-packages/jax/core.py\u001b[0m in \u001b[0;36mprocess_primitive\u001b[0;34m(self, primitive, tracers, params)\u001b[0m\n\u001b[1;32m    696\u001b[0m \u001b[0;34m\u001b[0m\u001b[0m\n\u001b[1;32m    697\u001b[0m   \u001b[0;32mdef\u001b[0m \u001b[0mprocess_primitive\u001b[0m\u001b[0;34m(\u001b[0m\u001b[0mself\u001b[0m\u001b[0;34m,\u001b[0m \u001b[0mprimitive\u001b[0m\u001b[0;34m,\u001b[0m \u001b[0mtracers\u001b[0m\u001b[0;34m,\u001b[0m \u001b[0mparams\u001b[0m\u001b[0;34m)\u001b[0m\u001b[0;34m:\u001b[0m\u001b[0;34m\u001b[0m\u001b[0;34m\u001b[0m\u001b[0m\n\u001b[0;32m--> 698\u001b[0;31m     \u001b[0;32mreturn\u001b[0m \u001b[0mprimitive\u001b[0m\u001b[0;34m.\u001b[0m\u001b[0mimpl\u001b[0m\u001b[0;34m(\u001b[0m\u001b[0;34m*\u001b[0m\u001b[0mtracers\u001b[0m\u001b[0;34m,\u001b[0m \u001b[0;34m**\u001b[0m\u001b[0mparams\u001b[0m\u001b[0;34m)\u001b[0m\u001b[0;34m\u001b[0m\u001b[0;34m\u001b[0m\u001b[0m\n\u001b[0m\u001b[1;32m    699\u001b[0m \u001b[0;34m\u001b[0m\u001b[0m\n\u001b[1;32m    700\u001b[0m   \u001b[0;32mdef\u001b[0m \u001b[0mprocess_call\u001b[0m\u001b[0;34m(\u001b[0m\u001b[0mself\u001b[0m\u001b[0;34m,\u001b[0m \u001b[0mprimitive\u001b[0m\u001b[0;34m,\u001b[0m \u001b[0mf\u001b[0m\u001b[0;34m,\u001b[0m \u001b[0mtracers\u001b[0m\u001b[0;34m,\u001b[0m \u001b[0mparams\u001b[0m\u001b[0;34m)\u001b[0m\u001b[0;34m:\u001b[0m\u001b[0;34m\u001b[0m\u001b[0;34m\u001b[0m\u001b[0m\n",
            "\u001b[0;32m/usr/local/lib/python3.7/dist-packages/jax/_src/dispatch.py\u001b[0m in \u001b[0;36mapply_primitive\u001b[0;34m(prim, *args, **params)\u001b[0m\n\u001b[1;32m    112\u001b[0m   compiled_fun = xla_primitive_callable(prim, *unsafe_map(arg_spec, args),\n\u001b[1;32m    113\u001b[0m                                         **params)\n\u001b[0;32m--> 114\u001b[0;31m   \u001b[0;32mreturn\u001b[0m \u001b[0mcompiled_fun\u001b[0m\u001b[0;34m(\u001b[0m\u001b[0;34m*\u001b[0m\u001b[0margs\u001b[0m\u001b[0;34m)\u001b[0m\u001b[0;34m\u001b[0m\u001b[0;34m\u001b[0m\u001b[0m\n\u001b[0m\u001b[1;32m    115\u001b[0m \u001b[0;34m\u001b[0m\u001b[0m\n\u001b[1;32m    116\u001b[0m \u001b[0;31m# TODO(phawkins,frostig,mattjj): update code referring to\u001b[0m\u001b[0;34m\u001b[0m\u001b[0;34m\u001b[0m\u001b[0;34m\u001b[0m\u001b[0m\n",
            "\u001b[0;32m/usr/local/lib/python3.7/dist-packages/jax/_src/dispatch.py\u001b[0m in \u001b[0;36m<lambda>\u001b[0;34m(*args, **kw)\u001b[0m\n\u001b[1;32m    197\u001b[0m                                     prim.name, donated_invars, False, *arg_specs)\n\u001b[1;32m    198\u001b[0m   \u001b[0;32mif\u001b[0m \u001b[0;32mnot\u001b[0m \u001b[0mprim\u001b[0m\u001b[0;34m.\u001b[0m\u001b[0mmultiple_results\u001b[0m\u001b[0;34m:\u001b[0m\u001b[0;34m\u001b[0m\u001b[0;34m\u001b[0m\u001b[0m\n\u001b[0;32m--> 199\u001b[0;31m     \u001b[0;32mreturn\u001b[0m \u001b[0;32mlambda\u001b[0m \u001b[0;34m*\u001b[0m\u001b[0margs\u001b[0m\u001b[0;34m,\u001b[0m \u001b[0;34m**\u001b[0m\u001b[0mkw\u001b[0m\u001b[0;34m:\u001b[0m \u001b[0mcompiled\u001b[0m\u001b[0;34m(\u001b[0m\u001b[0;34m*\u001b[0m\u001b[0margs\u001b[0m\u001b[0;34m,\u001b[0m \u001b[0;34m**\u001b[0m\u001b[0mkw\u001b[0m\u001b[0;34m)\u001b[0m\u001b[0;34m[\u001b[0m\u001b[0;36m0\u001b[0m\u001b[0;34m]\u001b[0m\u001b[0;34m\u001b[0m\u001b[0;34m\u001b[0m\u001b[0m\n\u001b[0m\u001b[1;32m    200\u001b[0m   \u001b[0;32melse\u001b[0m\u001b[0;34m:\u001b[0m\u001b[0;34m\u001b[0m\u001b[0;34m\u001b[0m\u001b[0m\n\u001b[1;32m    201\u001b[0m     \u001b[0;32mreturn\u001b[0m \u001b[0mcompiled\u001b[0m\u001b[0;34m\u001b[0m\u001b[0;34m\u001b[0m\u001b[0m\n",
            "\u001b[0;32m/usr/local/lib/python3.7/dist-packages/jax/_src/dispatch.py\u001b[0m in \u001b[0;36m_execute_compiled\u001b[0;34m(name, compiled, input_handler, output_buffer_counts, result_handler, has_unordered_effects, ordered_effects, kept_var_idx, has_host_callbacks, *args)\u001b[0m\n\u001b[1;32m    881\u001b[0m       \u001b[0mruntime_token\u001b[0m \u001b[0;34m=\u001b[0m \u001b[0;32mNone\u001b[0m\u001b[0;34m\u001b[0m\u001b[0;34m\u001b[0m\u001b[0m\n\u001b[1;32m    882\u001b[0m   \u001b[0;32melse\u001b[0m\u001b[0;34m:\u001b[0m\u001b[0;34m\u001b[0m\u001b[0;34m\u001b[0m\u001b[0m\n\u001b[0;32m--> 883\u001b[0;31m     \u001b[0mout_flat\u001b[0m \u001b[0;34m=\u001b[0m \u001b[0mcompiled\u001b[0m\u001b[0;34m.\u001b[0m\u001b[0mexecute\u001b[0m\u001b[0;34m(\u001b[0m\u001b[0min_flat\u001b[0m\u001b[0;34m)\u001b[0m\u001b[0;34m\u001b[0m\u001b[0;34m\u001b[0m\u001b[0m\n\u001b[0m\u001b[1;32m    884\u001b[0m   \u001b[0mcheck_special\u001b[0m\u001b[0;34m(\u001b[0m\u001b[0mname\u001b[0m\u001b[0;34m,\u001b[0m \u001b[0mout_flat\u001b[0m\u001b[0;34m)\u001b[0m\u001b[0;34m\u001b[0m\u001b[0;34m\u001b[0m\u001b[0m\n\u001b[1;32m    885\u001b[0m   \u001b[0mout_bufs\u001b[0m \u001b[0;34m=\u001b[0m \u001b[0munflatten\u001b[0m\u001b[0;34m(\u001b[0m\u001b[0mout_flat\u001b[0m\u001b[0;34m,\u001b[0m \u001b[0moutput_buffer_counts\u001b[0m\u001b[0;34m)\u001b[0m\u001b[0;34m\u001b[0m\u001b[0;34m\u001b[0m\u001b[0m\n",
            "\u001b[0;31mXlaRuntimeError\u001b[0m: RESOURCE_EXHAUSTED: Out of memory while trying to allocate 2444307008 bytes.\nBufferAssignment OOM Debugging.\nBufferAssignment stats:\n             parameter allocation:  351.93MiB\n              constant allocation:         0B\n        maybe_live_out allocation:  468.75MiB\n     preallocated temp allocation:    2.28GiB\n  preallocated temp fragmentation:         0B (0.00%)\n                 total allocation:    3.08GiB\n              total fragmentation:  117.19MiB (3.72%)\nPeak buffers:\n\tBuffer 1:\n\t\tSize: 1.82GiB\n\t\tOperator: op_name=\"jit(conv_general_dilated)/jit(main)/conv_general_dilated[window_strides=(1, 1) padding=((1, 1), (1, 1)) lhs_dilation=(1, 1) rhs_dilation=(1, 1) dimension_numbers=ConvDimensionNumbers(lhs_spec=(0, 3, 1, 2), rhs_spec=(3, 2, 0, 1), out_spec=(0, 3, 1, 2)) feature_group_count=1 batch_group_count=1 lhs_shape=(1000, 32, 32, 90) rhs_shape=(3, 3, 90, 120) precision=None preferred_element_type=None]\" source_file=\"/usr/local/lib/python3.7/dist-packages/haiku/_src/conv.py\" source_line=213\n\t\tXLA Label: custom-call\n\t\tShape: u8[1952398080]\n\t\t==========================\n\n\tBuffer 2:\n\t\tSize: 468.75MiB\n\t\tOperator: op_name=\"jit(conv_general_dilated)/jit(main)/conv_general_dilated[window_strides=(1, 1) padding=((1, 1), (1, 1)) lhs_dilation=(1, 1) rhs_dilation=(1, 1) dimension_numbers=ConvDimensionNumbers(lhs_spec=(0, 3, 1, 2), rhs_spec=(3, 2, 0, 1), out_spec=(0, 3, 1, 2)) feature_group_count=1 batch_group_count=1 lhs_shape=(1000, 32, 32, 90) rhs_shape=(3, 3, 90, 120) precision=None preferred_element_type=None]\" source_file=\"/usr/local/lib/python3.7/dist-packages/haiku/_src/conv.py\" source_line=213\n\t\tXLA Label: custom-call\n\t\tShape: f32[1000,32,32,120]\n\t\t==========================\n\n\tBuffer 3:\n\t\tSize: 468.75MiB\n\t\tOperator: op_name=\"jit(conv_general_dilated)/jit(main)/conv_general_dilated[window_strides=(1, 1) padding=((1, 1), (1, 1)) lhs_dilation=(1, 1) rhs_dilation=(1, 1) dimension_numbers=ConvDimensionNumbers(lhs_spec=(0, 3, 1, 2), rhs_spec=(3, 2, 0, 1), out_spec=(0, 3, 1, 2)) feature_group_count=1 batch_group_count=1 lhs_shape=(1000, 32, 32, 90) rhs_shape=(3, 3, 90, 120) precision=None preferred_element_type=None]\" source_file=\"/usr/local/lib/python3.7/dist-packages/haiku/_src/conv.py\" source_line=213\n\t\tXLA Label: copy\n\t\tShape: f32[1000,32,32,120]\n\t\t==========================\n\n\tBuffer 4:\n\t\tSize: 351.56MiB\n\t\tEntry Parameter Subshape: f32[1000,32,32,90]\n\t\t==========================\n\n\tBuffer 5:\n\t\tSize: 379.7KiB\n\t\tXLA Label: copy\n\t\tShape: f32[3,3,90,120]\n\t\t==========================\n\n\tBuffer 6:\n\t\tSize: 379.7KiB\n\t\tEntry Parameter Subshape: f32[3,3,90,120]\n\t\t==========================\n\n\tBuffer 7:\n\t\tSize: 16B\n\t\tOperator: op_name=\"jit(conv_general_dilated)/jit(main)/conv_general_dilated[window_strides=(1, 1) padding=((1, 1), (1, 1)) lhs_dilation=(1, 1) rhs_dilation=(1, 1) dimension_numbers=ConvDimensionNumbers(lhs_spec=(0, 3, 1, 2), rhs_spec=(3, 2, 0, 1), out_spec=(0, 3, 1, 2)) feature_group_count=1 batch_group_count=1 lhs_shape=(1000, 32, 32, 90) rhs_shape=(3, 3, 90, 120) precision=None preferred_element_type=None]\" source_file=\"/usr/local/lib/python3.7/dist-packages/haiku/_src/conv.py\" source_line=213\n\t\tXLA Label: custom-call\n\t\tShape: (f32[1000,32,32,120], u8[1952398080])\n\t\t==========================\n\n"
          ]
        }
      ]
    },
    {
      "cell_type": "code",
      "source": [
        "#@title Train using Optax\n",
        "\n",
        "from jax import value_and_grad\n",
        "\n",
        "rng = jax.random.PRNGKey(42) ## Reproducibility ## Initializes model with same weights each time.\n",
        "epochs = 25\n",
        "batch_size = 256\n",
        "learning_rate = jnp.array(1/1e4)\n",
        "\n",
        "params = conv_net.init(rng, X_train[:5])\n",
        "\n",
        "optimizer = optax.adam(learning_rate=learning_rate) ## Initialize SGD Optimizer\n",
        "optimizer_state = optimizer.init(params)\n",
        "\n",
        "for i in range(1, epochs+1):\n",
        "    batches = jnp.arange((X_train.shape[0]//batch_size)+1) ### Batch Indices\n",
        "\n",
        "    losses = [] ## Record loss of each batch\n",
        "    for batch in batches:\n",
        "        if batch != batches[-1]:\n",
        "            start, end = int(batch*batch_size), int(batch*batch_size+batch_size)\n",
        "        else:\n",
        "            start, end = int(batch*batch_size), None\n",
        "\n",
        "        X_batch, Y_batch = X_train[start:end], Y_train[start:end] ## Single batch of data\n",
        "\n",
        "        loss, param_grads = value_and_grad(CrossEntropyLoss)(params, X_batch, Y_batch) ## Forward pass, loss and grads calculation\n",
        "        #print(param_grads)\n",
        "        updates, optimizer_state = optimizer.update(param_grads, optimizer_state) ## Calculate parameter updates\n",
        "        params = optax.apply_updates(params, updates) ## Update model weights\n",
        "        #params = jax.tree_map(UpdateWeights, params, param_grads) ## Update Params\n",
        "        losses.append(loss) ## Record Loss\n",
        "\n",
        "    print(\"CrossEntropy Loss : {:.2f}\".format(jnp.array(losses).mean()))"
      ],
      "metadata": {
        "id": "kFdvY4dUT7to"
      },
      "execution_count": null,
      "outputs": []
    },
    {
      "cell_type": "markdown",
      "metadata": {
        "id": "UlrSyMQpoV9f"
      },
      "source": [
        "### Classifying examples\n",
        "We now use our trained model to classify a sample of 25 images from the test set. We pass these 25 images to the  ```model.predict``` function, which returns a [25, 10] dimensional matrix. The entry at position $(i, j)$ of this matrix contains the probability that image $i$ belongs to class $j$. We obtain the most-likely prediction using the ```np.argmax``` function which returns the index of the maximum entry along the columns. Finally, we plot the result with the prediction and prediction probability labelled underneath the image and true label on the side. "
      ]
    },
    {
      "cell_type": "code",
      "execution_count": null,
      "metadata": {
        "id": "BjzP384wm9OW"
      },
      "outputs": [],
      "source": [
        "\n",
        "\n",
        "classes =  jnp.unique(Y_train)\n",
        "\n",
        "img_indices = np.random.randint(0, len(test_images), size=[25])\n",
        "X_sample = test_images[img_indices]\n",
        "Y_sample = [cifar_labels[i] for i in test_labels[img_indices].squeeze()]\n",
        "\n",
        "rng = jax.random.PRNGKey(42)\n",
        "\n",
        "Y_pred = conv_net.apply(params, rng, X_train)\n",
        "max_prediction = np.argmax(Y_pred, axis=1)\n",
        "prediction_probs = np.max(Y_pred, axis=1)"
      ]
    },
    {
      "cell_type": "code",
      "execution_count": null,
      "metadata": {
        "id": "Ol-f9SacnySQ"
      },
      "outputs": [],
      "source": [
        "plt.figure(figsize=(10,10))\n",
        "for i, (img, prediction, prob, true_label) in enumerate(\n",
        "    zip(X_sample, max_prediction, prediction_probs, Y_sample)):\n",
        "  plt.subplot(5,5,i+1)\n",
        "  plt.xticks([])\n",
        "  plt.yticks([])\n",
        "  plt.grid('off')\n",
        "\n",
        "  plt.imshow(img)\n",
        "  plt.xlabel('{} ({:0.3f})'.format(cifar_labels[prediction], prob))\n",
        "  plt.ylabel('{}'.format(true_label))\n"
      ]
    },
    {
      "cell_type": "markdown",
      "metadata": {
        "id": "Z0618tOoMv0Y"
      },
      "source": [
        "### Question\n",
        "What do you think of the model's predictions? Looking at the model's confidence (the probability assigned to the predicted class), look for examples of the following cases:\n",
        "1. The model was correct with high confidence\n",
        "2. The model was correct with low confidence\n",
        "3. The model was incorrect with high confidence\n",
        "4. The model was incorrect with low confidence\n",
        "\n",
        "What do you think the (relative) loss values would be in those cases? \n"
      ]
    },
    {
      "cell_type": "markdown",
      "metadata": {
        "id": "py0V6UwC6_kH"
      },
      "source": [
        "### Optional extra reading: Uncertainty in deep learning"
      ]
    },
    {
      "cell_type": "markdown",
      "metadata": {
        "id": "lpGl8VzY6B3c"
      },
      "source": [
        "Deep neural networks are not considered to be very good at estimating the uncertainty in their predictions. However, knowing your model's uncertainty can be very important for many applications. For example, consider a deep learning tool for diagnosing diseases, in this case, a false negative could have massive impacts on a person's life! We would really like to know how confident our model is in its prediction. This is a budding field of research, for example, see [this blog](https://www.cs.ox.ac.uk/people/yarin.gal/website/blog_3d801aa532c1ce.html) for a nice introduction."
      ]
    },
    {
      "cell_type": "markdown",
      "metadata": {
        "id": "OJzCooQO66D3"
      },
      "source": [
        "### Optional extra reading: CNN architectures"
      ]
    },
    {
      "cell_type": "markdown",
      "metadata": {
        "id": "n9Sjwpsm5_TD"
      },
      "source": [
        "Deciding on the architecture for a CNN, i.e. the combination of convolution, pooling, dense, and other layers, can be tricky and often can seem arbitrary. On top of that, one also has to make decisions such as what kind of pooling, which activation functions, and what size of convolution to use, among other things. For new and old practitioners of deep learning, these choices can be overwhelming. \n",
        "\n",
        "However, by examining existing successful CNN architectures we can learn a lot about what works and what doesn't. (We can even apply these existing architectures to our problems since many deep learning libraries, such as TensorFlow and Keras, have them [built in](https://keras.io/applications/#available-models) and it is even possible to fine-tune pre-trained models to our specific problem using [transfer learning](https://cs231n.github.io/transfer-learning/).)\n",
        "\n",
        "[This article](https://medium.com/@sidereal/cnns-architectures-lenet-alexnet-vgg-googlenet-resnet-and-more-666091488df5) describes many of the most successful CNN architectures in recent years, including [ResNet](https://arxiv.org/abs/1512.03385), [Inception](https://arxiv.org/pdf/1512.00567v3.pdf) and [VGG](https://arxiv.org/pdf/1409.1556.pdf). For a more detailed and technical description of these models and more see [these slides](http://cs231n.stanford.edu/slides/2017/cs231n_2017_lecture9.pdf). Reading through these resources should give you insights into why these architectures are successful as well as best practices and current trends for CNNs that will help you design your own architectures.\n",
        "\n",
        "For example, one of the practices you might pick up on is the use of 3x3 convolutions. You'll notices that older architectures such as [AlexNet](https://papers.nips.cc/paper/4824-imagenet-classification-with-deep-convolutional-neural-networks.pdf) used a range of convolutions from 7x7 down to 3x3. However, newer architectures such as VGG and ResNet use 3x3 convolutions almost exclusively. In short, the reason is that stacking 3x3 convolutions gives you the same receptive field as a larger convolution but with more non-linearity. \n",
        "\n",
        "Here are some other questions you may want to think about while investigating these architectures:\n",
        "\n",
        "* Why do modern architectures use less max-pooling?\n",
        "* What does a 1x1 convolution do?\n",
        "* What is a residual connection?"
      ]
    },
    {
      "cell_type": "markdown",
      "metadata": {
        "id": "-3bIU8BErhiJ"
      },
      "source": [
        "## Your Tasks\n",
        "1. [**ALL**] Experiment with the network architecture, try changing the numbers, types and sizes of layers, the sizes of filters, using different padding etc. How do these decisions affect the performance of the model? In particular, try building a *fully convolutinoal* network, with no (max-)pooling layers. \n",
        "2. [**ALL**] Add BATCH NORMALISATION ([Tensorflow documentation](https://www.tensorflow.org/versions/r2.0/api_docs/python/tf/keras/layers/BatchNormalization) and [research paper](http://proceedings.mlr.press/v37/ioffe15.pdf)) to improve the model's generalisation.\n",
        "3. [**ADVANCED**] Read about Residual networks ([original paper](https://arxiv.org/pdf/1512.03385.pdf), ) and add **shortcut connections** to the model architecture. Try to build a simple reusable \"residual block\" as a [Keras Model](https://www.tensorflow.org/api_docs/python/tf/keras/Model). \n",
        "4. [**OPTIONAL**]. Visualise the filters of the convolutional layers using Matplotlib. **HINT**: You can retrieve a reference to an individual layer from the sequential Keras model by calling```model.get_layer(name)```, replacing \"name\" with the name of the layer. "
      ]
    },
    {
      "cell_type": "markdown",
      "metadata": {
        "id": "RFHbjtjTZz7Q"
      },
      "source": [
        "**IMPORTANT: Please fill out the exit ticket form before you leave the practical: https://forms.gle/LzHwg1BGqdYUdK5q8**"
      ]
    },
    {
      "cell_type": "markdown",
      "metadata": {
        "id": "0e-IdtqUknDK"
      },
      "source": [
        "##Additional Resources\n",
        "\n",
        "Here's some more information on ConvNets:\n",
        "\n",
        "* Chris Colah's blog post on [Understanding Convolutions](https://colah.github.io/posts/2014-07-Understanding-Convolutions/)\n",
        "* [How do convolutional neural networks work?](http://brohrer.github.io/how_convolutional_neural_networks_work.html)\n",
        "* The [CS231n course](https://cs231n.github.io/) which is a great resource that covers just about all the basics of CNNs\n",
        "* [Building blocks of interpretability](https://distill.pub/2018/building-blocks/) (some really cool CNN feature visualisations)\n",
        "\n"
      ]
    },
    {
      "cell_type": "markdown",
      "metadata": {
        "id": "o1ndpYE50BpG"
      },
      "source": [
        "# **Feedback**\n",
        "\n",
        "Please provide feedback that we can use to improve our practicals in the future."
      ]
    },
    {
      "cell_type": "code",
      "execution_count": null,
      "metadata": {
        "id": "OIZvkhfRz9Jz"
      },
      "outputs": [],
      "source": [
        "# @title Feedback Form (Run Cell) **PENDING**\n",
        "# from IPython.display import HTML\n",
        "\n",
        "#HTML(\n",
        "#    \"\"\"\n",
        "#<iframe \n",
        "# src=\"https://forms.gle/bvLLPX74LMGrFefo9\",\n",
        "#  width=\"80%\" \n",
        "#\theight=\"1200px\" >\n",
        "#\tLoading...\n",
        "#</iframe>\n",
        "#\"\"\"\n",
        "#)"
      ]
    },
    {
      "cell_type": "markdown",
      "metadata": {
        "id": "oglV4kHMWnIN"
      },
      "source": [
        "<center><img src=\"https://github.com/khipu-ai/global-resources/raw/main/logo/khipu.png\" /></center>"
      ]
    },
    {
      "cell_type": "markdown",
      "source": [
        "<hr>\n",
        "<hr>\n",
        "\n",
        "# Code below was taken from a web site\n",
        "\n",
        "Our Haiku CNN was adapted from it (with the architecture and data from the old CNN TensorFlow-based practical).\n",
        "\n",
        "<hr>\n",
        "<hr>"
      ],
      "metadata": {
        "id": "84WPcB-fTfwh"
      }
    },
    {
      "cell_type": "code",
      "source": [
        "#@title Create Network, Haiku way\n",
        "#\n",
        "# create Haiku module\n",
        "#\n",
        "class ConvNetModule(hk.Module):\n",
        "\n",
        "  def __init__(self):      \n",
        "    \"\"\"\n",
        "    add some layers to the net\n",
        "    \"\"\"\n",
        "    super().__init__(name=\"CNN\")\n",
        "    self.conv1 = hk.Conv2D(output_channels=32, kernel_shape=(3,3), padding=\"SAME\")\n",
        "    self.conv2 = hk.Conv2D(output_channels=16, kernel_shape=(3,3), padding=\"SAME\")\n",
        "    self.flatten = hk.Flatten()\n",
        "    self.linear = hk.Linear(len(classes))\n",
        "\n",
        "  def __call__(self, x_batch):\n",
        "    \"\"\"\n",
        "    apply the network to given inputs\n",
        "    \"\"\"\n",
        "    x = self.conv1(x_batch)\n",
        "    x = jax.nn.relu(x)\n",
        "    x = self.conv2(x)\n",
        "    x = jax.nn.relu(x)\n",
        "    x = self.flatten(x)\n",
        "    x = self.linear(x)\n",
        "    x = jax.nn.softmax(x)\n",
        "    return x\n",
        "\n",
        "#\n",
        "# wrap it into a function\n",
        "#\n",
        "def cnn_fun(x):\n",
        "    cnn = ConvNetModule()\n",
        "    return cnn(x)\n",
        "\n",
        "#\n",
        "# transform into functional pair: init, apply\n",
        "#\n",
        "conv_net = hk.transform(cnn_fun) \n",
        "\n",
        "#\n",
        "# define the network loss\n",
        "#\n",
        "def loss(weights, input_data, actual):\n",
        "  preds = conv_net.apply(weights, rng, input_data)\n",
        "  one_hot_actual = jax.nn.one_hot(actual, num_classes=len(classes))\n",
        "  log_preds = jnp.log(preds)\n",
        "  return - jnp.sum(one_hot_actual * log_preds)"
      ],
      "metadata": {
        "id": "xxl7_xGnXPpo"
      },
      "execution_count": null,
      "outputs": []
    },
    {
      "cell_type": "code",
      "source": [
        "#@title Load some data\n",
        "\n",
        "from tensorflow import keras # CHANGE: remove dependency on TensorFlow!\n",
        "\n",
        "from sklearn.model_selection import train_test_split\n",
        "\n",
        "(X_train, Y_train), (X_test, Y_test) = keras.datasets.fashion_mnist.load_data()\n",
        "\n",
        "X_train, X_test, Y_train, Y_test = jnp.array(X_train, dtype=jnp.float32),\\\n",
        "                                   jnp.array(X_test, dtype=jnp.float32),\\\n",
        "                                   jnp.array(Y_train, dtype=jnp.float32),\\\n",
        "                                   jnp.array(Y_test, dtype=jnp.float32)\n",
        "\n",
        "X_train, X_test = X_train.reshape(-1,28,28,1), X_test.reshape(-1,28,28,1)\n",
        "\n",
        "X_train, X_test = X_train/255.0, X_test/255.0\n",
        "\n",
        "classes =  jnp.unique(Y_train)\n",
        "\n",
        "X_train.shape, X_test.shape, Y_train.shape, Y_test.shape"
      ],
      "metadata": {
        "id": "9MeV0GlrXZEb"
      },
      "execution_count": null,
      "outputs": []
    },
    {
      "cell_type": "code",
      "source": [
        "#@title Initialize\n",
        "\n",
        "rng = jax.random.PRNGKey(42)\n",
        "\n",
        "params = conv_net.init(rng, X_train[:5])\n",
        "\n",
        "print(\"Weights Type : {}\\n\".format(type(params)))\n",
        "\n",
        "for layer_name, weights in params.items():\n",
        "    print(layer_name)\n",
        "    print(\"Weights : {}, Biases : {}\\n\".format(params[layer_name][\"w\"].shape,params[layer_name][\"b\"].shape))"
      ],
      "metadata": {
        "id": "UuzYc_GIXyHk"
      },
      "execution_count": null,
      "outputs": []
    },
    {
      "cell_type": "code",
      "source": [
        "#@title Train using Optax\n",
        "\n",
        "from jax import value_and_grad\n",
        "\n",
        "rng = jax.random.PRNGKey(42) ## Reproducibility ## Initializes model with same weights each time.\n",
        "epochs = 25\n",
        "batch_size = 256\n",
        "learning_rate = jnp.array(1/1e4)\n",
        "\n",
        "params = conv_net.init(rng, X_train[:5])\n",
        "\n",
        "optimizer = optax.adam(learning_rate=learning_rate) ## Initialize SGD Optimizer\n",
        "optimizer_state = optimizer.init(params)\n",
        "\n",
        "for i in range(1, epochs+1):\n",
        "    batches = jnp.arange((X_train.shape[0]//batch_size)+1) ### Batch Indices\n",
        "\n",
        "    losses = [] ## Record loss of each batch\n",
        "    for batch in batches:\n",
        "        if batch != batches[-1]:\n",
        "            start, end = int(batch*batch_size), int(batch*batch_size+batch_size)\n",
        "        else:\n",
        "            start, end = int(batch*batch_size), None\n",
        "\n",
        "        X_batch, Y_batch = X_train[start:end], Y_train[start:end] ## Single batch of data\n",
        "\n",
        "        loss, param_grads = value_and_grad(CrossEntropyLoss)(params, X_batch, Y_batch) ## Forward pass, loss and grads calculation\n",
        "        #print(param_grads)\n",
        "        updates, optimizer_state = optimizer.update(param_grads, optimizer_state) ## Calculate parameter updates\n",
        "        params = optax.apply_updates(params, updates) ## Update model weights\n",
        "        #params = jax.tree_map(UpdateWeights, params, param_grads) ## Update Params\n",
        "        losses.append(loss) ## Record Loss\n",
        "\n",
        "    print(\"CrossEntropy Loss : {:.2f}\".format(jnp.array(losses).mean()))"
      ],
      "metadata": {
        "id": "a9fldgDgYHw9"
      },
      "execution_count": null,
      "outputs": []
    },
    {
      "cell_type": "code",
      "source": [
        "#@title Test learned model\n",
        "\n",
        "def MakePredictions(weights, input_data, batch_size=32):\n",
        "    batches = jnp.arange((input_data.shape[0]//batch_size)+1) ### Batch Indices\n",
        "\n",
        "    preds = []\n",
        "    for batch in batches:\n",
        "        if batch != batches[-1]:\n",
        "            start, end = int(batch*batch_size), int(batch*batch_size+batch_size)\n",
        "        else:\n",
        "            start, end = int(batch*batch_size), None\n",
        "\n",
        "        X_batch = input_data[start:end]\n",
        "\n",
        "        preds.append(conv_net.apply(weights, rng, X_batch))\n",
        "\n",
        "    return preds\n",
        "train_preds = MakePredictions(params, X_train, 256)\n",
        "train_preds = jnp.concatenate(train_preds).squeeze()\n",
        "train_preds = train_preds.argmax(axis=1)\n",
        "\n",
        "test_preds = MakePredictions(params, X_test, 256)\n",
        "test_preds = jnp.concatenate(test_preds).squeeze()\n",
        "test_preds = test_preds.argmax(axis=1)"
      ],
      "metadata": {
        "id": "EXzNj2R9YUgm"
      },
      "execution_count": null,
      "outputs": []
    }
  ],
  "metadata": {
    "accelerator": "GPU",
    "colab": {
      "collapsed_sections": [],
      "provenance": []
    },
    "gpuClass": "standard",
    "kernelspec": {
      "display_name": "Python 3",
      "name": "python3"
    },
    "language_info": {
      "name": "python"
    }
  },
  "nbformat": 4,
  "nbformat_minor": 0
}